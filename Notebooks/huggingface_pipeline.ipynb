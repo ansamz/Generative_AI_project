{
 "cells": [
  {
   "cell_type": "markdown",
   "metadata": {},
   "source": [
    "## orca-mini 3 billion parameter LLM\n",
    "\n",
    "https://huggingface.co/pankajmathur/orca_mini_3b"
   ]
  },
  {
   "cell_type": "code",
   "execution_count": null,
   "metadata": {},
   "outputs": [],
   "source": [
    "from langchain.llms.huggingface_pipeline import HuggingFacePipeline\n",
    "import torch\n",
    "from transformers import LlamaForCausalLM, LlamaTokenizer"
   ]
  },
  {
   "cell_type": "code",
   "execution_count": null,
   "metadata": {},
   "outputs": [],
   "source": [
    "model_path = 'psmathur/orca_mini_3b'\n",
    "\n",
    "tokenizer = LlamaTokenizer.from_pretrained(model_path)\n",
    "\n",
    "model = LlamaForCausalLM.from_pretrained(\n",
    "    model_path, torch_dtype=torch.float16, device_map='auto',\n",
    ")"
   ]
  },
  {
   "cell_type": "code",
   "execution_count": null,
   "metadata": {},
   "outputs": [],
   "source": [
    "def generate_text(system, instruction, input=None):\n",
    "    \n",
    "    if input:\n",
    "        prompt = f\"### System:\\n{system}\\n\\n### User:\\n{instruction}\\n\\n### Input:\\n{input}\\n\\n### Response:\\n\"\n",
    "    else:\n",
    "        prompt = f\"### System:\\n{system}\\n\\n### User:\\n{instruction}\\n\\n### Response:\\n\"\n",
    "    \n",
    "    tokens = tokenizer.encode(prompt)\n",
    "    tokens = torch.LongTensor(tokens).unsqueeze(0)\n",
    "    tokens = tokens.to('cuda')\n",
    "\n",
    "    instance = {'input_ids': tokens,'top_p': 1.0, 'temperature':0.7, 'generate_len': 1024, 'top_k': 50}\n",
    "\n",
    "    length = len(tokens[0])\n",
    "    with torch.no_grad():\n",
    "        rest = model.generate(\n",
    "            input_ids=tokens, \n",
    "            max_length=length+instance['generate_len'], \n",
    "            use_cache=True, \n",
    "            do_sample=True, \n",
    "            top_p=instance['top_p'],\n",
    "            temperature=instance['temperature'],\n",
    "            top_k=instance['top_k']\n",
    "        )    \n",
    "    output = rest[0][length:]\n",
    "    string = tokenizer.decode(output, skip_special_tokens=True)\n",
    "    return f'[!] Response: {string}'\n",
    "\n",
    "system = 'You are an AI assistant that follows instruction extremely well. Help as much as you can.'\n",
    "instruction = 'If there are 5 boxes of apples and each box contains 24 apples, how many apples are there in total?'\n",
    "print(generate_text(system, instruction))"
   ]
  }
 ],
 "metadata": {
  "kernelspec": {
   "display_name": "gen_ai",
   "language": "python",
   "name": "python3"
  },
  "language_info": {
   "codemirror_mode": {
    "name": "ipython",
    "version": 3
   },
   "file_extension": ".py",
   "mimetype": "text/x-python",
   "name": "python",
   "nbconvert_exporter": "python",
   "pygments_lexer": "ipython3",
   "version": "3.12.1"
  }
 },
 "nbformat": 4,
 "nbformat_minor": 2
}
