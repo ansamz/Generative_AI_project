{
 "cells": [
  {
   "cell_type": "code",
   "execution_count": 76,
   "metadata": {},
   "outputs": [
    {
     "name": "stderr",
     "output_type": "stream",
     "text": [
      "[nltk_data] Downloading package punkt to\n",
      "[nltk_data]     C:\\Users\\ansam\\AppData\\Roaming\\nltk_data...\n",
      "[nltk_data]   Package punkt is already up-to-date!\n",
      "[nltk_data] Downloading package stopwords to\n",
      "[nltk_data]     C:\\Users\\ansam\\AppData\\Roaming\\nltk_data...\n",
      "[nltk_data]   Package stopwords is already up-to-date!\n"
     ]
    },
    {
     "data": {
      "text/plain": [
       "True"
      ]
     },
     "execution_count": 76,
     "metadata": {},
     "output_type": "execute_result"
    }
   ],
   "source": [
    "import pandas as pd\n",
    "pd.set_option('display.max_columns', None)\n",
    "pd.set_option('display.max_rows', None)\n",
    "\n",
    "import unicodedata\n",
    "import numpy as np\n",
    "import re\n",
    "import plotly.express as px\n",
    "import plotly.graph_objects as go\n",
    "from plotly.subplots import make_subplots\n",
    "\n",
    "import warnings\n",
    "warnings.filterwarnings('ignore')\n",
    "\n",
    "from textblob import TextBlob\n",
    "from wordcloud import WordCloud, STOPWORDS\n",
    "\n",
    "import matplotlib.pyplot as plt\n",
    "plt.style.use('fivethirtyeight')\n",
    "\n",
    "import nltk\n",
    "nltk.download('punkt')\n",
    "nltk.download('stopwords')\n"
   ]
  },
  {
   "cell_type": "markdown",
   "metadata": {},
   "source": [
    "Documentation:\n",
    "\n",
    "* nltk: https://www.nltk.org/\n",
    "* Textblob: https://textblob.readthedocs.io/en/dev/\n",
    "* wordcloud: https://amueller.github.io/word_cloud/"
   ]
  },
  {
   "cell_type": "code",
   "execution_count": 77,
   "metadata": {},
   "outputs": [
    {
     "data": {
      "text/html": [
       "<div>\n",
       "<style scoped>\n",
       "    .dataframe tbody tr th:only-of-type {\n",
       "        vertical-align: middle;\n",
       "    }\n",
       "\n",
       "    .dataframe tbody tr th {\n",
       "        vertical-align: top;\n",
       "    }\n",
       "\n",
       "    .dataframe thead th {\n",
       "        text-align: right;\n",
       "    }\n",
       "</style>\n",
       "<table border=\"1\" class=\"dataframe\">\n",
       "  <thead>\n",
       "    <tr style=\"text-align: right;\">\n",
       "      <th></th>\n",
       "      <th>Topic</th>\n",
       "      <th>Prompt Nr</th>\n",
       "      <th>Prompt</th>\n",
       "      <th>Model</th>\n",
       "      <th>Actual Model (Fill in after Rating is complete)</th>\n",
       "      <th>Response</th>\n",
       "      <th>Rating Christine</th>\n",
       "      <th>Comments Christine</th>\n",
       "      <th>Rating Ansam</th>\n",
       "      <th>Comment Ansam</th>\n",
       "      <th>Rating Adrian</th>\n",
       "      <th>Comment Adrian</th>\n",
       "      <th>Rating Mike</th>\n",
       "      <th>Comment Mike</th>\n",
       "      <th>Rating Albin</th>\n",
       "      <th>Comment Albin</th>\n",
       "      <th>Rating Grzegorz</th>\n",
       "      <th>Comment Grzegorz</th>\n",
       "      <th>Translation Language</th>\n",
       "      <th>Translation Type</th>\n",
       "    </tr>\n",
       "  </thead>\n",
       "  <tbody>\n",
       "    <tr>\n",
       "      <th>0</th>\n",
       "      <td>Creativity (Christine)</td>\n",
       "      <td>1.0</td>\n",
       "      <td>Write a Haiku about a fork</td>\n",
       "      <td>1.0</td>\n",
       "      <td>ChatGPT 3.5</td>\n",
       "      <td>Silver prongs reach out, Guiding food from pla...</td>\n",
       "      <td>8.0</td>\n",
       "      <td>Simple yet efficient</td>\n",
       "      <td>7.0</td>\n",
       "      <td>Creative, I know what it's talking about</td>\n",
       "      <td>7.0</td>\n",
       "      <td>Structure matches, feels bland though</td>\n",
       "      <td>8.0</td>\n",
       "      <td>Is a Haiku, nice!</td>\n",
       "      <td>8.0</td>\n",
       "      <td>first 2 lines really good.</td>\n",
       "      <td>7.0</td>\n",
       "      <td>Nice wording</td>\n",
       "      <td>NaN</td>\n",
       "      <td>NaN</td>\n",
       "    </tr>\n",
       "    <tr>\n",
       "      <th>1</th>\n",
       "      <td>NaN</td>\n",
       "      <td>NaN</td>\n",
       "      <td>NaN</td>\n",
       "      <td>2.0</td>\n",
       "      <td>ChatGPT 4</td>\n",
       "      <td>In hands it dances, Tines whisper through the ...</td>\n",
       "      <td>4.0</td>\n",
       "      <td>Confusing</td>\n",
       "      <td>6.0</td>\n",
       "      <td>Not bad but too vague</td>\n",
       "      <td>7.0</td>\n",
       "      <td>Structure matches, can't judge it really</td>\n",
       "      <td>4.0</td>\n",
       "      <td>Not quite Haiku, not so specific</td>\n",
       "      <td>6.0</td>\n",
       "      <td>unclear</td>\n",
       "      <td>6.0</td>\n",
       "      <td>Just ok</td>\n",
       "      <td>NaN</td>\n",
       "      <td>NaN</td>\n",
       "    </tr>\n",
       "    <tr>\n",
       "      <th>2</th>\n",
       "      <td>NaN</td>\n",
       "      <td>NaN</td>\n",
       "      <td>NaN</td>\n",
       "      <td>3.0</td>\n",
       "      <td>Gemini</td>\n",
       "      <td>Curved metal tines gleam,  Separates bites, a ...</td>\n",
       "      <td>4.0</td>\n",
       "      <td>Confusing</td>\n",
       "      <td>9.0</td>\n",
       "      <td>Creative, accurate, made me smile</td>\n",
       "      <td>4.0</td>\n",
       "      <td>Structure mismatch, I don't get it</td>\n",
       "      <td>3.0</td>\n",
       "      <td>Not quite Haiku, too long</td>\n",
       "      <td>4.0</td>\n",
       "      <td>incorrect format</td>\n",
       "      <td>10.0</td>\n",
       "      <td>The best in this category. Creative, funny</td>\n",
       "      <td>NaN</td>\n",
       "      <td>NaN</td>\n",
       "    </tr>\n",
       "    <tr>\n",
       "      <th>3</th>\n",
       "      <td>NaN</td>\n",
       "      <td>NaN</td>\n",
       "      <td>NaN</td>\n",
       "      <td>4.0</td>\n",
       "      <td>Gemini Advanced</td>\n",
       "      <td>Metal tines curve up, Ready to capture and lif...</td>\n",
       "      <td>8.0</td>\n",
       "      <td>Cute</td>\n",
       "      <td>10.0</td>\n",
       "      <td>Love the use of words to describe it</td>\n",
       "      <td>5.0</td>\n",
       "      <td>Structure matches, but feels basic</td>\n",
       "      <td>9.0</td>\n",
       "      <td>Is a Haiku, focuses on fork, really like this</td>\n",
       "      <td>7.0</td>\n",
       "      <td>good wording</td>\n",
       "      <td>8.0</td>\n",
       "      <td>Nice wording, creative</td>\n",
       "      <td>NaN</td>\n",
       "      <td>NaN</td>\n",
       "    </tr>\n",
       "    <tr>\n",
       "      <th>4</th>\n",
       "      <td>NaN</td>\n",
       "      <td>NaN</td>\n",
       "      <td>NaN</td>\n",
       "      <td>5.0</td>\n",
       "      <td>LLaMA 70b</td>\n",
       "      <td>Tines raised high Food's best friend, a humble...</td>\n",
       "      <td>6.0</td>\n",
       "      <td>Confusing</td>\n",
       "      <td>5.0</td>\n",
       "      <td>Confusing and trying too hard</td>\n",
       "      <td>3.0</td>\n",
       "      <td>Structure mismatch, feels clumsy</td>\n",
       "      <td>7.0</td>\n",
       "      <td>Is a Haiku, like this one too</td>\n",
       "      <td>4.0</td>\n",
       "      <td>incorrect format</td>\n",
       "      <td>5.0</td>\n",
       "      <td>The worst in this category. Boring</td>\n",
       "      <td>NaN</td>\n",
       "      <td>NaN</td>\n",
       "    </tr>\n",
       "  </tbody>\n",
       "</table>\n",
       "</div>"
      ],
      "text/plain": [
       "                    Topic  Prompt Nr                      Prompt  Model  \\\n",
       "0  Creativity (Christine)        1.0  Write a Haiku about a fork    1.0   \n",
       "1                     NaN        NaN                         NaN    2.0   \n",
       "2                     NaN        NaN                         NaN    3.0   \n",
       "3                     NaN        NaN                         NaN    4.0   \n",
       "4                     NaN        NaN                         NaN    5.0   \n",
       "\n",
       "  Actual Model (Fill in after Rating is complete)  \\\n",
       "0                                     ChatGPT 3.5   \n",
       "1                                       ChatGPT 4   \n",
       "2                                          Gemini   \n",
       "3                                 Gemini Advanced   \n",
       "4                                       LLaMA 70b   \n",
       "\n",
       "                                            Response  Rating Christine  \\\n",
       "0  Silver prongs reach out, Guiding food from pla...               8.0   \n",
       "1  In hands it dances, Tines whisper through the ...               4.0   \n",
       "2  Curved metal tines gleam,  Separates bites, a ...               4.0   \n",
       "3  Metal tines curve up, Ready to capture and lif...               8.0   \n",
       "4  Tines raised high Food's best friend, a humble...               6.0   \n",
       "\n",
       "     Comments Christine  Rating Ansam  \\\n",
       "0  Simple yet efficient           7.0   \n",
       "1             Confusing           6.0   \n",
       "2             Confusing           9.0   \n",
       "3                  Cute          10.0   \n",
       "4             Confusing           5.0   \n",
       "\n",
       "                              Comment Ansam  Rating Adrian  \\\n",
       "0  Creative, I know what it's talking about            7.0   \n",
       "1                     Not bad but too vague            7.0   \n",
       "2         Creative, accurate, made me smile            4.0   \n",
       "3      Love the use of words to describe it            5.0   \n",
       "4             Confusing and trying too hard            3.0   \n",
       "\n",
       "                             Comment Adrian  Rating Mike  \\\n",
       "0     Structure matches, feels bland though          8.0   \n",
       "1  Structure matches, can't judge it really          4.0   \n",
       "2        Structure mismatch, I don't get it          3.0   \n",
       "3        Structure matches, but feels basic          9.0   \n",
       "4          Structure mismatch, feels clumsy          7.0   \n",
       "\n",
       "                                    Comment Mike  Rating Albin  \\\n",
       "0                              Is a Haiku, nice!           8.0   \n",
       "1               Not quite Haiku, not so specific           6.0   \n",
       "2                      Not quite Haiku, too long           4.0   \n",
       "3  Is a Haiku, focuses on fork, really like this           7.0   \n",
       "4                  Is a Haiku, like this one too           4.0   \n",
       "\n",
       "                Comment Albin  Rating Grzegorz  \\\n",
       "0  first 2 lines really good.              7.0   \n",
       "1                     unclear              6.0   \n",
       "2            incorrect format             10.0   \n",
       "3                good wording              8.0   \n",
       "4            incorrect format              5.0   \n",
       "\n",
       "                             Comment Grzegorz Translation Language  \\\n",
       "0                                Nice wording                  NaN   \n",
       "1                                     Just ok                  NaN   \n",
       "2  The best in this category. Creative, funny                  NaN   \n",
       "3                      Nice wording, creative                  NaN   \n",
       "4          The worst in this category. Boring                  NaN   \n",
       "\n",
       "  Translation Type  \n",
       "0              NaN  \n",
       "1              NaN  \n",
       "2              NaN  \n",
       "3              NaN  \n",
       "4              NaN  "
      ]
     },
     "execution_count": 77,
     "metadata": {},
     "output_type": "execute_result"
    }
   ],
   "source": [
    "data = pd.read_csv('../data/Categories and prompts and ratings.csv')\n",
    "data.head()"
   ]
  },
  {
   "cell_type": "markdown",
   "metadata": {},
   "source": [
    "# Data cleaning"
   ]
  },
  {
   "cell_type": "code",
   "execution_count": 78,
   "metadata": {},
   "outputs": [
    {
     "data": {
      "text/plain": [
       "Index(['Topic', 'Prompt Nr', 'Prompt', 'Model',\n",
       "       'Actual Model (Fill in after Rating is complete)', 'Response',\n",
       "       'Rating Christine', 'Comments Christine', 'Rating Ansam',\n",
       "       'Comment Ansam', 'Rating Adrian', 'Comment Adrian', 'Rating Mike',\n",
       "       'Comment Mike', 'Rating Albin', 'Comment Albin', 'Rating Grzegorz',\n",
       "       'Comment Grzegorz', 'Translation Language', 'Translation Type'],\n",
       "      dtype='object')"
      ]
     },
     "execution_count": 78,
     "metadata": {},
     "output_type": "execute_result"
    }
   ],
   "source": [
    "data.columns"
   ]
  },
  {
   "cell_type": "code",
   "execution_count": 79,
   "metadata": {},
   "outputs": [],
   "source": [
    "# filling the empty columns with missing data about topics, pormpt number and prompt\n",
    "data['Topic'].fillna(method='ffill', inplace=True)\n",
    "data['Prompt Nr'].fillna(method='ffill', inplace=True)\n",
    "data['Prompt'].fillna(method='ffill', inplace=True)"
   ]
  },
  {
   "cell_type": "code",
   "execution_count": 80,
   "metadata": {},
   "outputs": [
    {
     "data": {
      "text/plain": [
       "Index(['Topic', 'Prompt_Nr', 'Prompt', 'Model',\n",
       "       'Actual_Model_(Fill_in_after_Rating_is_complete)', 'Response',\n",
       "       'Rating_Christine', 'Comments_Christine', 'Rating_Ansam',\n",
       "       'Comment_Ansam', 'Rating_Adrian', 'Comment_Adrian', 'Rating_Mike',\n",
       "       'Comment_Mike', 'Rating_Albin', 'Comment_Albin', 'Rating_Grzegorz',\n",
       "       'Comment_Grzegorz', 'Translation_Language', 'Translation_Type'],\n",
       "      dtype='object')"
      ]
     },
     "execution_count": 80,
     "metadata": {},
     "output_type": "execute_result"
    }
   ],
   "source": [
    "# replace space with _ for column names for easier coding\n",
    "\n",
    "data.columns = data.columns.str.replace(' ', '_')\n",
    "data.columns"
   ]
  },
  {
   "cell_type": "code",
   "execution_count": 81,
   "metadata": {},
   "outputs": [
    {
     "data": {
      "text/html": [
       "<div>\n",
       "<style scoped>\n",
       "    .dataframe tbody tr th:only-of-type {\n",
       "        vertical-align: middle;\n",
       "    }\n",
       "\n",
       "    .dataframe tbody tr th {\n",
       "        vertical-align: top;\n",
       "    }\n",
       "\n",
       "    .dataframe thead th {\n",
       "        text-align: right;\n",
       "    }\n",
       "</style>\n",
       "<table border=\"1\" class=\"dataframe\">\n",
       "  <thead>\n",
       "    <tr style=\"text-align: right;\">\n",
       "      <th></th>\n",
       "      <th>Topic</th>\n",
       "      <th>Prompt_Nr</th>\n",
       "      <th>Prompt</th>\n",
       "      <th>Model</th>\n",
       "      <th>Actual_Model_(Fill_in_after_Rating_is_complete)</th>\n",
       "      <th>Response</th>\n",
       "      <th>Rating_Christine</th>\n",
       "      <th>Comments_Christine</th>\n",
       "      <th>Rating_Ansam</th>\n",
       "      <th>Comment_Ansam</th>\n",
       "      <th>Rating_Adrian</th>\n",
       "      <th>Comment_Adrian</th>\n",
       "      <th>Rating_Mike</th>\n",
       "      <th>Comment_Mike</th>\n",
       "      <th>Rating_Albin</th>\n",
       "      <th>Comment_Albin</th>\n",
       "      <th>Rating_Grzegorz</th>\n",
       "      <th>Comment_Grzegorz</th>\n",
       "      <th>Translation_Language</th>\n",
       "      <th>Translation_Type</th>\n",
       "    </tr>\n",
       "  </thead>\n",
       "  <tbody>\n",
       "    <tr>\n",
       "      <th>0</th>\n",
       "      <td>Creativity (Christine)</td>\n",
       "      <td>1.0</td>\n",
       "      <td>Write a Haiku about a fork</td>\n",
       "      <td>1.0</td>\n",
       "      <td>ChatGPT 3.5</td>\n",
       "      <td>Silver prongs reach out, Guiding food from pla...</td>\n",
       "      <td>8.0</td>\n",
       "      <td>Simple yet efficient</td>\n",
       "      <td>7.0</td>\n",
       "      <td>Creative, I know what it's talking about</td>\n",
       "      <td>7.0</td>\n",
       "      <td>Structure matches, feels bland though</td>\n",
       "      <td>8.0</td>\n",
       "      <td>Is a Haiku, nice!</td>\n",
       "      <td>8.0</td>\n",
       "      <td>first 2 lines really good.</td>\n",
       "      <td>7.0</td>\n",
       "      <td>Nice wording</td>\n",
       "      <td>NaN</td>\n",
       "      <td>NaN</td>\n",
       "    </tr>\n",
       "    <tr>\n",
       "      <th>1</th>\n",
       "      <td>Creativity (Christine)</td>\n",
       "      <td>1.0</td>\n",
       "      <td>Write a Haiku about a fork</td>\n",
       "      <td>2.0</td>\n",
       "      <td>ChatGPT 4</td>\n",
       "      <td>In hands it dances, Tines whisper through the ...</td>\n",
       "      <td>4.0</td>\n",
       "      <td>Confusing</td>\n",
       "      <td>6.0</td>\n",
       "      <td>Not bad but too vague</td>\n",
       "      <td>7.0</td>\n",
       "      <td>Structure matches, can't judge it really</td>\n",
       "      <td>4.0</td>\n",
       "      <td>Not quite Haiku, not so specific</td>\n",
       "      <td>6.0</td>\n",
       "      <td>unclear</td>\n",
       "      <td>6.0</td>\n",
       "      <td>Just ok</td>\n",
       "      <td>NaN</td>\n",
       "      <td>NaN</td>\n",
       "    </tr>\n",
       "    <tr>\n",
       "      <th>2</th>\n",
       "      <td>Creativity (Christine)</td>\n",
       "      <td>1.0</td>\n",
       "      <td>Write a Haiku about a fork</td>\n",
       "      <td>3.0</td>\n",
       "      <td>Gemini</td>\n",
       "      <td>Curved metal tines gleam,  Separates bites, a ...</td>\n",
       "      <td>4.0</td>\n",
       "      <td>Confusing</td>\n",
       "      <td>9.0</td>\n",
       "      <td>Creative, accurate, made me smile</td>\n",
       "      <td>4.0</td>\n",
       "      <td>Structure mismatch, I don't get it</td>\n",
       "      <td>3.0</td>\n",
       "      <td>Not quite Haiku, too long</td>\n",
       "      <td>4.0</td>\n",
       "      <td>incorrect format</td>\n",
       "      <td>10.0</td>\n",
       "      <td>The best in this category. Creative, funny</td>\n",
       "      <td>NaN</td>\n",
       "      <td>NaN</td>\n",
       "    </tr>\n",
       "    <tr>\n",
       "      <th>3</th>\n",
       "      <td>Creativity (Christine)</td>\n",
       "      <td>1.0</td>\n",
       "      <td>Write a Haiku about a fork</td>\n",
       "      <td>4.0</td>\n",
       "      <td>Gemini Advanced</td>\n",
       "      <td>Metal tines curve up, Ready to capture and lif...</td>\n",
       "      <td>8.0</td>\n",
       "      <td>Cute</td>\n",
       "      <td>10.0</td>\n",
       "      <td>Love the use of words to describe it</td>\n",
       "      <td>5.0</td>\n",
       "      <td>Structure matches, but feels basic</td>\n",
       "      <td>9.0</td>\n",
       "      <td>Is a Haiku, focuses on fork, really like this</td>\n",
       "      <td>7.0</td>\n",
       "      <td>good wording</td>\n",
       "      <td>8.0</td>\n",
       "      <td>Nice wording, creative</td>\n",
       "      <td>NaN</td>\n",
       "      <td>NaN</td>\n",
       "    </tr>\n",
       "    <tr>\n",
       "      <th>4</th>\n",
       "      <td>Creativity (Christine)</td>\n",
       "      <td>1.0</td>\n",
       "      <td>Write a Haiku about a fork</td>\n",
       "      <td>5.0</td>\n",
       "      <td>LLaMA 70b</td>\n",
       "      <td>Tines raised high Food's best friend, a humble...</td>\n",
       "      <td>6.0</td>\n",
       "      <td>Confusing</td>\n",
       "      <td>5.0</td>\n",
       "      <td>Confusing and trying too hard</td>\n",
       "      <td>3.0</td>\n",
       "      <td>Structure mismatch, feels clumsy</td>\n",
       "      <td>7.0</td>\n",
       "      <td>Is a Haiku, like this one too</td>\n",
       "      <td>4.0</td>\n",
       "      <td>incorrect format</td>\n",
       "      <td>5.0</td>\n",
       "      <td>The worst in this category. Boring</td>\n",
       "      <td>NaN</td>\n",
       "      <td>NaN</td>\n",
       "    </tr>\n",
       "  </tbody>\n",
       "</table>\n",
       "</div>"
      ],
      "text/plain": [
       "                    Topic  Prompt_Nr                      Prompt  Model  \\\n",
       "0  Creativity (Christine)        1.0  Write a Haiku about a fork    1.0   \n",
       "1  Creativity (Christine)        1.0  Write a Haiku about a fork    2.0   \n",
       "2  Creativity (Christine)        1.0  Write a Haiku about a fork    3.0   \n",
       "3  Creativity (Christine)        1.0  Write a Haiku about a fork    4.0   \n",
       "4  Creativity (Christine)        1.0  Write a Haiku about a fork    5.0   \n",
       "\n",
       "  Actual_Model_(Fill_in_after_Rating_is_complete)  \\\n",
       "0                                     ChatGPT 3.5   \n",
       "1                                       ChatGPT 4   \n",
       "2                                          Gemini   \n",
       "3                                 Gemini Advanced   \n",
       "4                                       LLaMA 70b   \n",
       "\n",
       "                                            Response  Rating_Christine  \\\n",
       "0  Silver prongs reach out, Guiding food from pla...               8.0   \n",
       "1  In hands it dances, Tines whisper through the ...               4.0   \n",
       "2  Curved metal tines gleam,  Separates bites, a ...               4.0   \n",
       "3  Metal tines curve up, Ready to capture and lif...               8.0   \n",
       "4  Tines raised high Food's best friend, a humble...               6.0   \n",
       "\n",
       "     Comments_Christine  Rating_Ansam  \\\n",
       "0  Simple yet efficient           7.0   \n",
       "1             Confusing           6.0   \n",
       "2             Confusing           9.0   \n",
       "3                  Cute          10.0   \n",
       "4             Confusing           5.0   \n",
       "\n",
       "                              Comment_Ansam  Rating_Adrian  \\\n",
       "0  Creative, I know what it's talking about            7.0   \n",
       "1                     Not bad but too vague            7.0   \n",
       "2         Creative, accurate, made me smile            4.0   \n",
       "3      Love the use of words to describe it            5.0   \n",
       "4             Confusing and trying too hard            3.0   \n",
       "\n",
       "                             Comment_Adrian  Rating_Mike  \\\n",
       "0     Structure matches, feels bland though          8.0   \n",
       "1  Structure matches, can't judge it really          4.0   \n",
       "2        Structure mismatch, I don't get it          3.0   \n",
       "3        Structure matches, but feels basic          9.0   \n",
       "4          Structure mismatch, feels clumsy          7.0   \n",
       "\n",
       "                                    Comment_Mike  Rating_Albin  \\\n",
       "0                              Is a Haiku, nice!           8.0   \n",
       "1               Not quite Haiku, not so specific           6.0   \n",
       "2                      Not quite Haiku, too long           4.0   \n",
       "3  Is a Haiku, focuses on fork, really like this           7.0   \n",
       "4                  Is a Haiku, like this one too           4.0   \n",
       "\n",
       "                Comment_Albin  Rating_Grzegorz  \\\n",
       "0  first 2 lines really good.              7.0   \n",
       "1                     unclear              6.0   \n",
       "2            incorrect format             10.0   \n",
       "3                good wording              8.0   \n",
       "4            incorrect format              5.0   \n",
       "\n",
       "                             Comment_Grzegorz Translation_Language  \\\n",
       "0                                Nice wording                  NaN   \n",
       "1                                     Just ok                  NaN   \n",
       "2  The best in this category. Creative, funny                  NaN   \n",
       "3                      Nice wording, creative                  NaN   \n",
       "4          The worst in this category. Boring                  NaN   \n",
       "\n",
       "  Translation_Type  \n",
       "0              NaN  \n",
       "1              NaN  \n",
       "2              NaN  \n",
       "3              NaN  \n",
       "4              NaN  "
      ]
     },
     "execution_count": 81,
     "metadata": {},
     "output_type": "execute_result"
    }
   ],
   "source": [
    "# delete rows where there is no prompt or prompt number \n",
    "\n",
    "data = data.dropna(subset=['Model', 'Actual_Model_(Fill_in_after_Rating_is_complete)'], how='all')\n",
    "data.head(5)"
   ]
  },
  {
   "cell_type": "code",
   "execution_count": 82,
   "metadata": {},
   "outputs": [],
   "source": [
    "data = data.rename(columns={'Actual_Model_(Fill_in_after_Rating_is_complete)': 'Model_Name'})"
   ]
  },
  {
   "cell_type": "markdown",
   "metadata": {},
   "source": [
    "Cleaning for sentiment analysis"
   ]
  },
  {
   "cell_type": "code",
   "execution_count": 83,
   "metadata": {},
   "outputs": [],
   "source": [
    "# text cleaning \n",
    "def remove_accented_chars(text):\n",
    "    text = unicodedata.normalize('NFKD', text).encode('ascii', 'ignore').decode('utf-8', 'ignore')\n",
    "    return text\n",
    "\n",
    "def remove_special_characters(text, remove_digits=False):\n",
    "    pattern = r'[^a-zA-Z0-9\\s]' if not remove_digits else r'[^a-zA-Z\\s]'\n",
    "    text = re.sub(pattern, '', text) \n",
    "    return text\n",
    "\n",
    "def clean_text(text):\n",
    "    text = re.sub(r\"@[A-Za-z0–9]+\", \"\", text) # Remove @mentions replace with blank\n",
    "    text = re.sub(r\"#\", \"\", text) # Remove the ‘#’ symbol, replace with blank\n",
    "    text = re.sub(r\"RT[\\s]+\", \"\", text) # Removing RT, replace with blank\n",
    "    text = re.sub(r\"https?:\\/\\/\\S+\", \"\", text) # Remove the hyperlinks\n",
    "    text = re.sub(r\":\", \"\", text) # Remove :\n",
    "    return text\n",
    "\n",
    "def remove_emojis(text):\n",
    "    emoji_pattern = re.compile(\"[\"\n",
    "    u\"\\U0001F600-\\U0001F64F\" # emoticons\n",
    "    u\"\\U0001F300-\\U0001F5FF\" # symbols & pictographs\n",
    "    u\"\\U0001F680-\\U0001F6FF\" # transport & map symbols\n",
    "    u\"\\U0001F1E0-\\U0001F1FF\" # flags (iOS)\n",
    "    u\"\\U00002500-\\U00002BEF\" # chinese char\n",
    "    u\"\\U00002702-\\U000027B0\"\n",
    "    u\"\\U00002702-\\U000027B0\"\n",
    "    u\"\\U000024C2-\\U0001F251\"\n",
    "    u\"\\U0001f926-\\U0001f937\"\n",
    "    u\"\\U00010000-\\U0010ffff\"\n",
    "    u\"\\u2640-\\u2642\"\n",
    "    u\"\\u2600-\\u2B55\"\n",
    "    u\"\\u200d\"\n",
    "    u\"\\u23cf\"\n",
    "    u\"\\u23e9\"\n",
    "    u\"\\u231a\"\n",
    "    u\"\\ufe0f\" # dingbats\n",
    "    u\"\\u3030\"\n",
    "    \"]+\", flags=re.UNICODE)\n",
    "    return emoji_pattern.sub(r'', text)"
   ]
  },
  {
   "cell_type": "code",
   "execution_count": 84,
   "metadata": {},
   "outputs": [],
   "source": [
    "def clean_column(df, column_name):\n",
    "    df[column_name] = df[column_name].apply(remove_accented_chars)\n",
    "    df[column_name] = df[column_name].apply(remove_special_characters)\n",
    "    df[column_name] = df[column_name].apply(clean_text)\n",
    "    df[column_name] = df[column_name].apply(remove_emojis)\n",
    "    return df"
   ]
  },
  {
   "cell_type": "code",
   "execution_count": 85,
   "metadata": {},
   "outputs": [],
   "source": [
    "# this will be used for the word cloud\n",
    "\n",
    "def remove_stopwords(text, is_lower_case=False, stopwords=None):\n",
    "    if not stopwords:\n",
    "        stopwords = nltk.corpus.stopwords.words('english')\n",
    "    tokens = nltk.word_tokenize(text)\n",
    "    tokens = [token.strip() for token in tokens]\n",
    "    \n",
    "    if is_lower_case:\n",
    "        filtered_tokens = [token for token in tokens if token not in stopwords]\n",
    "    else:\n",
    "        filtered_tokens = [token for token in tokens if token.lower() not in stopwords]\n",
    "    \n",
    "    filtered_text = ' '.join(filtered_tokens)    \n",
    "    return filtered_text"
   ]
  },
  {
   "cell_type": "code",
   "execution_count": 86,
   "metadata": {},
   "outputs": [],
   "source": [
    "for colname in ['Comments_Christine', 'Comment_Ansam', 'Comment_Adrian', 'Comment_Mike', 'Comment_Albin', 'Comment_Grzegorz']:\n",
    "    data[colname] = data[colname].replace(np.nan, 'No comment')\n",
    "    data = clean_column(data, colname)"
   ]
  },
  {
   "cell_type": "markdown",
   "metadata": {},
   "source": [
    "# Calculations"
   ]
  },
  {
   "cell_type": "markdown",
   "metadata": {},
   "source": [
    "### Average rating for each prompt"
   ]
  },
  {
   "cell_type": "code",
   "execution_count": 87,
   "metadata": {},
   "outputs": [
    {
     "data": {
      "text/html": [
       "<div>\n",
       "<style scoped>\n",
       "    .dataframe tbody tr th:only-of-type {\n",
       "        vertical-align: middle;\n",
       "    }\n",
       "\n",
       "    .dataframe tbody tr th {\n",
       "        vertical-align: top;\n",
       "    }\n",
       "\n",
       "    .dataframe thead th {\n",
       "        text-align: right;\n",
       "    }\n",
       "</style>\n",
       "<table border=\"1\" class=\"dataframe\">\n",
       "  <thead>\n",
       "    <tr style=\"text-align: right;\">\n",
       "      <th></th>\n",
       "      <th>Topic</th>\n",
       "      <th>Prompt_Nr</th>\n",
       "      <th>Prompt</th>\n",
       "      <th>Model</th>\n",
       "      <th>Model_Name</th>\n",
       "      <th>Response</th>\n",
       "      <th>Rating_Christine</th>\n",
       "      <th>Comments_Christine</th>\n",
       "      <th>Rating_Ansam</th>\n",
       "      <th>Comment_Ansam</th>\n",
       "      <th>Rating_Adrian</th>\n",
       "      <th>Comment_Adrian</th>\n",
       "      <th>Rating_Mike</th>\n",
       "      <th>Comment_Mike</th>\n",
       "      <th>Rating_Albin</th>\n",
       "      <th>Comment_Albin</th>\n",
       "      <th>Rating_Grzegorz</th>\n",
       "      <th>Comment_Grzegorz</th>\n",
       "      <th>Translation_Language</th>\n",
       "      <th>Translation_Type</th>\n",
       "      <th>Average_rating</th>\n",
       "    </tr>\n",
       "  </thead>\n",
       "  <tbody>\n",
       "    <tr>\n",
       "      <th>0</th>\n",
       "      <td>Creativity (Christine)</td>\n",
       "      <td>1.0</td>\n",
       "      <td>Write a Haiku about a fork</td>\n",
       "      <td>1.0</td>\n",
       "      <td>ChatGPT 3.5</td>\n",
       "      <td>Silver prongs reach out, Guiding food from pla...</td>\n",
       "      <td>8.0</td>\n",
       "      <td>Simple yet efficient</td>\n",
       "      <td>7.0</td>\n",
       "      <td>Creative I know what its talking about</td>\n",
       "      <td>7.0</td>\n",
       "      <td>Structure matches feels bland though</td>\n",
       "      <td>8.0</td>\n",
       "      <td>Is a Haiku nice</td>\n",
       "      <td>8.0</td>\n",
       "      <td>first 2 lines really good</td>\n",
       "      <td>7.0</td>\n",
       "      <td>Nice wording</td>\n",
       "      <td>NaN</td>\n",
       "      <td>NaN</td>\n",
       "      <td>7.500000</td>\n",
       "    </tr>\n",
       "    <tr>\n",
       "      <th>1</th>\n",
       "      <td>Creativity (Christine)</td>\n",
       "      <td>1.0</td>\n",
       "      <td>Write a Haiku about a fork</td>\n",
       "      <td>2.0</td>\n",
       "      <td>ChatGPT 4</td>\n",
       "      <td>In hands it dances, Tines whisper through the ...</td>\n",
       "      <td>4.0</td>\n",
       "      <td>Confusing</td>\n",
       "      <td>6.0</td>\n",
       "      <td>Not bad but too vague</td>\n",
       "      <td>7.0</td>\n",
       "      <td>Structure matches cant judge it really</td>\n",
       "      <td>4.0</td>\n",
       "      <td>Not quite Haiku not so specific</td>\n",
       "      <td>6.0</td>\n",
       "      <td>unclear</td>\n",
       "      <td>6.0</td>\n",
       "      <td>Just ok</td>\n",
       "      <td>NaN</td>\n",
       "      <td>NaN</td>\n",
       "      <td>5.500000</td>\n",
       "    </tr>\n",
       "    <tr>\n",
       "      <th>2</th>\n",
       "      <td>Creativity (Christine)</td>\n",
       "      <td>1.0</td>\n",
       "      <td>Write a Haiku about a fork</td>\n",
       "      <td>3.0</td>\n",
       "      <td>Gemini</td>\n",
       "      <td>Curved metal tines gleam,  Separates bites, a ...</td>\n",
       "      <td>4.0</td>\n",
       "      <td>Confusing</td>\n",
       "      <td>9.0</td>\n",
       "      <td>Creative accurate made me smile</td>\n",
       "      <td>4.0</td>\n",
       "      <td>Structure mismatch I dont get it</td>\n",
       "      <td>3.0</td>\n",
       "      <td>Not quite Haiku too long</td>\n",
       "      <td>4.0</td>\n",
       "      <td>incorrect format</td>\n",
       "      <td>10.0</td>\n",
       "      <td>The best in this category Creative funny</td>\n",
       "      <td>NaN</td>\n",
       "      <td>NaN</td>\n",
       "      <td>5.666667</td>\n",
       "    </tr>\n",
       "    <tr>\n",
       "      <th>3</th>\n",
       "      <td>Creativity (Christine)</td>\n",
       "      <td>1.0</td>\n",
       "      <td>Write a Haiku about a fork</td>\n",
       "      <td>4.0</td>\n",
       "      <td>Gemini Advanced</td>\n",
       "      <td>Metal tines curve up, Ready to capture and lif...</td>\n",
       "      <td>8.0</td>\n",
       "      <td>Cute</td>\n",
       "      <td>10.0</td>\n",
       "      <td>Love the use of words to describe it</td>\n",
       "      <td>5.0</td>\n",
       "      <td>Structure matches but feels basic</td>\n",
       "      <td>9.0</td>\n",
       "      <td>Is a Haiku focuses on fork really like this</td>\n",
       "      <td>7.0</td>\n",
       "      <td>good wording</td>\n",
       "      <td>8.0</td>\n",
       "      <td>Nice wording creative</td>\n",
       "      <td>NaN</td>\n",
       "      <td>NaN</td>\n",
       "      <td>7.833333</td>\n",
       "    </tr>\n",
       "    <tr>\n",
       "      <th>4</th>\n",
       "      <td>Creativity (Christine)</td>\n",
       "      <td>1.0</td>\n",
       "      <td>Write a Haiku about a fork</td>\n",
       "      <td>5.0</td>\n",
       "      <td>LLaMA 70b</td>\n",
       "      <td>Tines raised high Food's best friend, a humble...</td>\n",
       "      <td>6.0</td>\n",
       "      <td>Confusing</td>\n",
       "      <td>5.0</td>\n",
       "      <td>Confusing and trying too hard</td>\n",
       "      <td>3.0</td>\n",
       "      <td>Structure mismatch feels clumsy</td>\n",
       "      <td>7.0</td>\n",
       "      <td>Is a Haiku like this one too</td>\n",
       "      <td>4.0</td>\n",
       "      <td>incorrect format</td>\n",
       "      <td>5.0</td>\n",
       "      <td>The worst in this category Boring</td>\n",
       "      <td>NaN</td>\n",
       "      <td>NaN</td>\n",
       "      <td>5.000000</td>\n",
       "    </tr>\n",
       "  </tbody>\n",
       "</table>\n",
       "</div>"
      ],
      "text/plain": [
       "                    Topic  Prompt_Nr                      Prompt  Model  \\\n",
       "0  Creativity (Christine)        1.0  Write a Haiku about a fork    1.0   \n",
       "1  Creativity (Christine)        1.0  Write a Haiku about a fork    2.0   \n",
       "2  Creativity (Christine)        1.0  Write a Haiku about a fork    3.0   \n",
       "3  Creativity (Christine)        1.0  Write a Haiku about a fork    4.0   \n",
       "4  Creativity (Christine)        1.0  Write a Haiku about a fork    5.0   \n",
       "\n",
       "        Model_Name                                           Response  \\\n",
       "0      ChatGPT 3.5  Silver prongs reach out, Guiding food from pla...   \n",
       "1        ChatGPT 4  In hands it dances, Tines whisper through the ...   \n",
       "2           Gemini  Curved metal tines gleam,  Separates bites, a ...   \n",
       "3  Gemini Advanced  Metal tines curve up, Ready to capture and lif...   \n",
       "4        LLaMA 70b  Tines raised high Food's best friend, a humble...   \n",
       "\n",
       "   Rating_Christine    Comments_Christine  Rating_Ansam  \\\n",
       "0               8.0  Simple yet efficient           7.0   \n",
       "1               4.0             Confusing           6.0   \n",
       "2               4.0             Confusing           9.0   \n",
       "3               8.0                  Cute          10.0   \n",
       "4               6.0             Confusing           5.0   \n",
       "\n",
       "                            Comment_Ansam  Rating_Adrian  \\\n",
       "0  Creative I know what its talking about            7.0   \n",
       "1                   Not bad but too vague            7.0   \n",
       "2         Creative accurate made me smile            4.0   \n",
       "3    Love the use of words to describe it            5.0   \n",
       "4           Confusing and trying too hard            3.0   \n",
       "\n",
       "                           Comment_Adrian  Rating_Mike  \\\n",
       "0    Structure matches feels bland though          8.0   \n",
       "1  Structure matches cant judge it really          4.0   \n",
       "2        Structure mismatch I dont get it          3.0   \n",
       "3       Structure matches but feels basic          9.0   \n",
       "4         Structure mismatch feels clumsy          7.0   \n",
       "\n",
       "                                  Comment_Mike  Rating_Albin  \\\n",
       "0                              Is a Haiku nice           8.0   \n",
       "1              Not quite Haiku not so specific           6.0   \n",
       "2                     Not quite Haiku too long           4.0   \n",
       "3  Is a Haiku focuses on fork really like this           7.0   \n",
       "4                 Is a Haiku like this one too           4.0   \n",
       "\n",
       "               Comment_Albin  Rating_Grzegorz  \\\n",
       "0  first 2 lines really good              7.0   \n",
       "1                    unclear              6.0   \n",
       "2           incorrect format             10.0   \n",
       "3               good wording              8.0   \n",
       "4           incorrect format              5.0   \n",
       "\n",
       "                           Comment_Grzegorz Translation_Language  \\\n",
       "0                              Nice wording                  NaN   \n",
       "1                                   Just ok                  NaN   \n",
       "2  The best in this category Creative funny                  NaN   \n",
       "3                     Nice wording creative                  NaN   \n",
       "4         The worst in this category Boring                  NaN   \n",
       "\n",
       "  Translation_Type  Average_rating  \n",
       "0              NaN        7.500000  \n",
       "1              NaN        5.500000  \n",
       "2              NaN        5.666667  \n",
       "3              NaN        7.833333  \n",
       "4              NaN        5.000000  "
      ]
     },
     "execution_count": 87,
     "metadata": {},
     "output_type": "execute_result"
    }
   ],
   "source": [
    "data['Average_rating'] = data[['Rating_Christine', 'Rating_Ansam', 'Rating_Adrian', 'Rating_Mike', 'Rating_Albin', 'Rating_Grzegorz']].mean(axis=1)\n",
    "data.head()"
   ]
  },
  {
   "cell_type": "markdown",
   "metadata": {},
   "source": [
    "### Group by topic"
   ]
  },
  {
   "cell_type": "code",
   "execution_count": 88,
   "metadata": {},
   "outputs": [
    {
     "data": {
      "text/html": [
       "<div>\n",
       "<style scoped>\n",
       "    .dataframe tbody tr th:only-of-type {\n",
       "        vertical-align: middle;\n",
       "    }\n",
       "\n",
       "    .dataframe tbody tr th {\n",
       "        vertical-align: top;\n",
       "    }\n",
       "\n",
       "    .dataframe thead th {\n",
       "        text-align: right;\n",
       "    }\n",
       "</style>\n",
       "<table border=\"1\" class=\"dataframe\">\n",
       "  <thead>\n",
       "    <tr style=\"text-align: right;\">\n",
       "      <th></th>\n",
       "      <th>Topic</th>\n",
       "      <th>Average_rating</th>\n",
       "    </tr>\n",
       "  </thead>\n",
       "  <tbody>\n",
       "    <tr>\n",
       "      <th>0</th>\n",
       "      <td>Creativity (Christine)</td>\n",
       "      <td>6.444444</td>\n",
       "    </tr>\n",
       "    <tr>\n",
       "      <th>1</th>\n",
       "      <td>Idea Generation (Albin)</td>\n",
       "      <td>7.166667</td>\n",
       "    </tr>\n",
       "    <tr>\n",
       "      <th>2</th>\n",
       "      <td>Intuitive Physics (Mike)</td>\n",
       "      <td>6.666667</td>\n",
       "    </tr>\n",
       "    <tr>\n",
       "      <th>3</th>\n",
       "      <td>Math (Ansam)</td>\n",
       "      <td>6.082222</td>\n",
       "    </tr>\n",
       "    <tr>\n",
       "      <th>4</th>\n",
       "      <td>Theory of Mind (Adrian)</td>\n",
       "      <td>7.800000</td>\n",
       "    </tr>\n",
       "    <tr>\n",
       "      <th>5</th>\n",
       "      <td>Translation (Grzegorz)</td>\n",
       "      <td>6.457143</td>\n",
       "    </tr>\n",
       "  </tbody>\n",
       "</table>\n",
       "</div>"
      ],
      "text/plain": [
       "                      Topic  Average_rating\n",
       "0    Creativity (Christine)        6.444444\n",
       "1   Idea Generation (Albin)        7.166667\n",
       "2  Intuitive Physics (Mike)        6.666667\n",
       "3              Math (Ansam)        6.082222\n",
       "4   Theory of Mind (Adrian)        7.800000\n",
       "5    Translation (Grzegorz)        6.457143"
      ]
     },
     "execution_count": 88,
     "metadata": {},
     "output_type": "execute_result"
    }
   ],
   "source": [
    "data_gb_topic = data.groupby('Topic').agg({'Average_rating':'mean'}).reset_index()\n",
    "data_gb_topic"
   ]
  },
  {
   "cell_type": "markdown",
   "metadata": {},
   "source": [
    "### Group by Model"
   ]
  },
  {
   "cell_type": "code",
   "execution_count": 89,
   "metadata": {},
   "outputs": [
    {
     "data": {
      "text/html": [
       "<div>\n",
       "<style scoped>\n",
       "    .dataframe tbody tr th:only-of-type {\n",
       "        vertical-align: middle;\n",
       "    }\n",
       "\n",
       "    .dataframe tbody tr th {\n",
       "        vertical-align: top;\n",
       "    }\n",
       "\n",
       "    .dataframe thead th {\n",
       "        text-align: right;\n",
       "    }\n",
       "</style>\n",
       "<table border=\"1\" class=\"dataframe\">\n",
       "  <thead>\n",
       "    <tr style=\"text-align: right;\">\n",
       "      <th></th>\n",
       "      <th>Model_Name</th>\n",
       "      <th>Average_rating</th>\n",
       "    </tr>\n",
       "  </thead>\n",
       "  <tbody>\n",
       "    <tr>\n",
       "      <th>0</th>\n",
       "      <td>ChatGPT 3.5</td>\n",
       "      <td>6.675000</td>\n",
       "    </tr>\n",
       "    <tr>\n",
       "      <th>1</th>\n",
       "      <td>ChatGPT 4</td>\n",
       "      <td>7.694167</td>\n",
       "    </tr>\n",
       "    <tr>\n",
       "      <th>2</th>\n",
       "      <td>Gemini</td>\n",
       "      <td>7.008333</td>\n",
       "    </tr>\n",
       "    <tr>\n",
       "      <th>3</th>\n",
       "      <td>Gemini Advanced</td>\n",
       "      <td>7.005833</td>\n",
       "    </tr>\n",
       "    <tr>\n",
       "      <th>4</th>\n",
       "      <td>LLaMA 70b</td>\n",
       "      <td>4.101667</td>\n",
       "    </tr>\n",
       "  </tbody>\n",
       "</table>\n",
       "</div>"
      ],
      "text/plain": [
       "        Model_Name  Average_rating\n",
       "0      ChatGPT 3.5        6.675000\n",
       "1        ChatGPT 4        7.694167\n",
       "2           Gemini        7.008333\n",
       "3  Gemini Advanced        7.005833\n",
       "4        LLaMA 70b        4.101667"
      ]
     },
     "execution_count": 89,
     "metadata": {},
     "output_type": "execute_result"
    }
   ],
   "source": [
    "data_gb_model = data.groupby('Model_Name').agg({'Average_rating':'mean'}).reset_index()\n",
    "data_gb_model"
   ]
  },
  {
   "cell_type": "markdown",
   "metadata": {},
   "source": [
    "# Visualizations"
   ]
  },
  {
   "cell_type": "markdown",
   "metadata": {},
   "source": [
    "How did models in general do in each topic?"
   ]
  },
  {
   "cell_type": "code",
   "execution_count": 90,
   "metadata": {},
   "outputs": [
    {
     "data": {
      "application/vnd.plotly.v1+json": {
       "config": {
        "plotlyServerURL": "https://plot.ly"
       },
       "data": [
        {
         "alignmentgroup": "True",
         "hovertemplate": "Topic=%{x}<br>Average_rating=%{y}<extra></extra>",
         "legendgroup": "Creativity (Christine)",
         "marker": {
          "color": "#636efa",
          "pattern": {
           "shape": ""
          }
         },
         "name": "Creativity (Christine)",
         "offsetgroup": "Creativity (Christine)",
         "orientation": "v",
         "showlegend": true,
         "textposition": "auto",
         "type": "bar",
         "x": [
          "Creativity (Christine)"
         ],
         "xaxis": "x",
         "y": [
          6.444444444444445
         ],
         "yaxis": "y"
        },
        {
         "alignmentgroup": "True",
         "hovertemplate": "Topic=%{x}<br>Average_rating=%{y}<extra></extra>",
         "legendgroup": "Idea Generation (Albin)",
         "marker": {
          "color": "#EF553B",
          "pattern": {
           "shape": ""
          }
         },
         "name": "Idea Generation (Albin)",
         "offsetgroup": "Idea Generation (Albin)",
         "orientation": "v",
         "showlegend": true,
         "textposition": "auto",
         "type": "bar",
         "x": [
          "Idea Generation (Albin)"
         ],
         "xaxis": "x",
         "y": [
          7.166666666666667
         ],
         "yaxis": "y"
        },
        {
         "alignmentgroup": "True",
         "hovertemplate": "Topic=%{x}<br>Average_rating=%{y}<extra></extra>",
         "legendgroup": "Intuitive Physics (Mike)",
         "marker": {
          "color": "#00cc96",
          "pattern": {
           "shape": ""
          }
         },
         "name": "Intuitive Physics (Mike)",
         "offsetgroup": "Intuitive Physics (Mike)",
         "orientation": "v",
         "showlegend": true,
         "textposition": "auto",
         "type": "bar",
         "x": [
          "Intuitive Physics (Mike)"
         ],
         "xaxis": "x",
         "y": [
          6.666666666666667
         ],
         "yaxis": "y"
        },
        {
         "alignmentgroup": "True",
         "hovertemplate": "Topic=%{x}<br>Average_rating=%{y}<extra></extra>",
         "legendgroup": "Math (Ansam)",
         "marker": {
          "color": "#ab63fa",
          "pattern": {
           "shape": ""
          }
         },
         "name": "Math (Ansam)",
         "offsetgroup": "Math (Ansam)",
         "orientation": "v",
         "showlegend": true,
         "textposition": "auto",
         "type": "bar",
         "x": [
          "Math (Ansam)"
         ],
         "xaxis": "x",
         "y": [
          6.082222222222223
         ],
         "yaxis": "y"
        },
        {
         "alignmentgroup": "True",
         "hovertemplate": "Topic=%{x}<br>Average_rating=%{y}<extra></extra>",
         "legendgroup": "Theory of Mind (Adrian)",
         "marker": {
          "color": "#FFA15A",
          "pattern": {
           "shape": ""
          }
         },
         "name": "Theory of Mind (Adrian)",
         "offsetgroup": "Theory of Mind (Adrian)",
         "orientation": "v",
         "showlegend": true,
         "textposition": "auto",
         "type": "bar",
         "x": [
          "Theory of Mind (Adrian)"
         ],
         "xaxis": "x",
         "y": [
          7.8
         ],
         "yaxis": "y"
        },
        {
         "alignmentgroup": "True",
         "hovertemplate": "Topic=%{x}<br>Average_rating=%{y}<extra></extra>",
         "legendgroup": "Translation (Grzegorz)",
         "marker": {
          "color": "#19d3f3",
          "pattern": {
           "shape": ""
          }
         },
         "name": "Translation (Grzegorz)",
         "offsetgroup": "Translation (Grzegorz)",
         "orientation": "v",
         "showlegend": true,
         "textposition": "auto",
         "type": "bar",
         "x": [
          "Translation (Grzegorz)"
         ],
         "xaxis": "x",
         "y": [
          6.457142857142857
         ],
         "yaxis": "y"
        }
       ],
       "layout": {
        "annotations": [
         {
          "font": {
           "color": "black"
          },
          "showarrow": false,
          "text": "6.44",
          "x": "Creativity (Christine)",
          "y": 6.794444444444444
         },
         {
          "font": {
           "color": "black"
          },
          "showarrow": false,
          "text": "7.17",
          "x": "Idea Generation (Albin)",
          "y": 7.516666666666667
         },
         {
          "font": {
           "color": "black"
          },
          "showarrow": false,
          "text": "6.67",
          "x": "Intuitive Physics (Mike)",
          "y": 7.016666666666667
         },
         {
          "font": {
           "color": "black"
          },
          "showarrow": false,
          "text": "6.08",
          "x": "Math (Ansam)",
          "y": 6.432222222222222
         },
         {
          "font": {
           "color": "black"
          },
          "showarrow": false,
          "text": "7.8",
          "x": "Theory of Mind (Adrian)",
          "y": 8.15
         },
         {
          "font": {
           "color": "black"
          },
          "showarrow": false,
          "text": "6.46",
          "x": "Translation (Grzegorz)",
          "y": 6.807142857142857
         }
        ],
        "barmode": "relative",
        "legend": {
         "title": {
          "text": "Topic"
         },
         "tracegroupgap": 0
        },
        "showlegend": false,
        "template": {
         "data": {
          "bar": [
           {
            "error_x": {
             "color": "#2a3f5f"
            },
            "error_y": {
             "color": "#2a3f5f"
            },
            "marker": {
             "line": {
              "color": "#E5ECF6",
              "width": 0.5
             },
             "pattern": {
              "fillmode": "overlay",
              "size": 10,
              "solidity": 0.2
             }
            },
            "type": "bar"
           }
          ],
          "barpolar": [
           {
            "marker": {
             "line": {
              "color": "#E5ECF6",
              "width": 0.5
             },
             "pattern": {
              "fillmode": "overlay",
              "size": 10,
              "solidity": 0.2
             }
            },
            "type": "barpolar"
           }
          ],
          "carpet": [
           {
            "aaxis": {
             "endlinecolor": "#2a3f5f",
             "gridcolor": "white",
             "linecolor": "white",
             "minorgridcolor": "white",
             "startlinecolor": "#2a3f5f"
            },
            "baxis": {
             "endlinecolor": "#2a3f5f",
             "gridcolor": "white",
             "linecolor": "white",
             "minorgridcolor": "white",
             "startlinecolor": "#2a3f5f"
            },
            "type": "carpet"
           }
          ],
          "choropleth": [
           {
            "colorbar": {
             "outlinewidth": 0,
             "ticks": ""
            },
            "type": "choropleth"
           }
          ],
          "contour": [
           {
            "colorbar": {
             "outlinewidth": 0,
             "ticks": ""
            },
            "colorscale": [
             [
              0,
              "#0d0887"
             ],
             [
              0.1111111111111111,
              "#46039f"
             ],
             [
              0.2222222222222222,
              "#7201a8"
             ],
             [
              0.3333333333333333,
              "#9c179e"
             ],
             [
              0.4444444444444444,
              "#bd3786"
             ],
             [
              0.5555555555555556,
              "#d8576b"
             ],
             [
              0.6666666666666666,
              "#ed7953"
             ],
             [
              0.7777777777777778,
              "#fb9f3a"
             ],
             [
              0.8888888888888888,
              "#fdca26"
             ],
             [
              1,
              "#f0f921"
             ]
            ],
            "type": "contour"
           }
          ],
          "contourcarpet": [
           {
            "colorbar": {
             "outlinewidth": 0,
             "ticks": ""
            },
            "type": "contourcarpet"
           }
          ],
          "heatmap": [
           {
            "colorbar": {
             "outlinewidth": 0,
             "ticks": ""
            },
            "colorscale": [
             [
              0,
              "#0d0887"
             ],
             [
              0.1111111111111111,
              "#46039f"
             ],
             [
              0.2222222222222222,
              "#7201a8"
             ],
             [
              0.3333333333333333,
              "#9c179e"
             ],
             [
              0.4444444444444444,
              "#bd3786"
             ],
             [
              0.5555555555555556,
              "#d8576b"
             ],
             [
              0.6666666666666666,
              "#ed7953"
             ],
             [
              0.7777777777777778,
              "#fb9f3a"
             ],
             [
              0.8888888888888888,
              "#fdca26"
             ],
             [
              1,
              "#f0f921"
             ]
            ],
            "type": "heatmap"
           }
          ],
          "heatmapgl": [
           {
            "colorbar": {
             "outlinewidth": 0,
             "ticks": ""
            },
            "colorscale": [
             [
              0,
              "#0d0887"
             ],
             [
              0.1111111111111111,
              "#46039f"
             ],
             [
              0.2222222222222222,
              "#7201a8"
             ],
             [
              0.3333333333333333,
              "#9c179e"
             ],
             [
              0.4444444444444444,
              "#bd3786"
             ],
             [
              0.5555555555555556,
              "#d8576b"
             ],
             [
              0.6666666666666666,
              "#ed7953"
             ],
             [
              0.7777777777777778,
              "#fb9f3a"
             ],
             [
              0.8888888888888888,
              "#fdca26"
             ],
             [
              1,
              "#f0f921"
             ]
            ],
            "type": "heatmapgl"
           }
          ],
          "histogram": [
           {
            "marker": {
             "pattern": {
              "fillmode": "overlay",
              "size": 10,
              "solidity": 0.2
             }
            },
            "type": "histogram"
           }
          ],
          "histogram2d": [
           {
            "colorbar": {
             "outlinewidth": 0,
             "ticks": ""
            },
            "colorscale": [
             [
              0,
              "#0d0887"
             ],
             [
              0.1111111111111111,
              "#46039f"
             ],
             [
              0.2222222222222222,
              "#7201a8"
             ],
             [
              0.3333333333333333,
              "#9c179e"
             ],
             [
              0.4444444444444444,
              "#bd3786"
             ],
             [
              0.5555555555555556,
              "#d8576b"
             ],
             [
              0.6666666666666666,
              "#ed7953"
             ],
             [
              0.7777777777777778,
              "#fb9f3a"
             ],
             [
              0.8888888888888888,
              "#fdca26"
             ],
             [
              1,
              "#f0f921"
             ]
            ],
            "type": "histogram2d"
           }
          ],
          "histogram2dcontour": [
           {
            "colorbar": {
             "outlinewidth": 0,
             "ticks": ""
            },
            "colorscale": [
             [
              0,
              "#0d0887"
             ],
             [
              0.1111111111111111,
              "#46039f"
             ],
             [
              0.2222222222222222,
              "#7201a8"
             ],
             [
              0.3333333333333333,
              "#9c179e"
             ],
             [
              0.4444444444444444,
              "#bd3786"
             ],
             [
              0.5555555555555556,
              "#d8576b"
             ],
             [
              0.6666666666666666,
              "#ed7953"
             ],
             [
              0.7777777777777778,
              "#fb9f3a"
             ],
             [
              0.8888888888888888,
              "#fdca26"
             ],
             [
              1,
              "#f0f921"
             ]
            ],
            "type": "histogram2dcontour"
           }
          ],
          "mesh3d": [
           {
            "colorbar": {
             "outlinewidth": 0,
             "ticks": ""
            },
            "type": "mesh3d"
           }
          ],
          "parcoords": [
           {
            "line": {
             "colorbar": {
              "outlinewidth": 0,
              "ticks": ""
             }
            },
            "type": "parcoords"
           }
          ],
          "pie": [
           {
            "automargin": true,
            "type": "pie"
           }
          ],
          "scatter": [
           {
            "fillpattern": {
             "fillmode": "overlay",
             "size": 10,
             "solidity": 0.2
            },
            "type": "scatter"
           }
          ],
          "scatter3d": [
           {
            "line": {
             "colorbar": {
              "outlinewidth": 0,
              "ticks": ""
             }
            },
            "marker": {
             "colorbar": {
              "outlinewidth": 0,
              "ticks": ""
             }
            },
            "type": "scatter3d"
           }
          ],
          "scattercarpet": [
           {
            "marker": {
             "colorbar": {
              "outlinewidth": 0,
              "ticks": ""
             }
            },
            "type": "scattercarpet"
           }
          ],
          "scattergeo": [
           {
            "marker": {
             "colorbar": {
              "outlinewidth": 0,
              "ticks": ""
             }
            },
            "type": "scattergeo"
           }
          ],
          "scattergl": [
           {
            "marker": {
             "colorbar": {
              "outlinewidth": 0,
              "ticks": ""
             }
            },
            "type": "scattergl"
           }
          ],
          "scattermapbox": [
           {
            "marker": {
             "colorbar": {
              "outlinewidth": 0,
              "ticks": ""
             }
            },
            "type": "scattermapbox"
           }
          ],
          "scatterpolar": [
           {
            "marker": {
             "colorbar": {
              "outlinewidth": 0,
              "ticks": ""
             }
            },
            "type": "scatterpolar"
           }
          ],
          "scatterpolargl": [
           {
            "marker": {
             "colorbar": {
              "outlinewidth": 0,
              "ticks": ""
             }
            },
            "type": "scatterpolargl"
           }
          ],
          "scatterternary": [
           {
            "marker": {
             "colorbar": {
              "outlinewidth": 0,
              "ticks": ""
             }
            },
            "type": "scatterternary"
           }
          ],
          "surface": [
           {
            "colorbar": {
             "outlinewidth": 0,
             "ticks": ""
            },
            "colorscale": [
             [
              0,
              "#0d0887"
             ],
             [
              0.1111111111111111,
              "#46039f"
             ],
             [
              0.2222222222222222,
              "#7201a8"
             ],
             [
              0.3333333333333333,
              "#9c179e"
             ],
             [
              0.4444444444444444,
              "#bd3786"
             ],
             [
              0.5555555555555556,
              "#d8576b"
             ],
             [
              0.6666666666666666,
              "#ed7953"
             ],
             [
              0.7777777777777778,
              "#fb9f3a"
             ],
             [
              0.8888888888888888,
              "#fdca26"
             ],
             [
              1,
              "#f0f921"
             ]
            ],
            "type": "surface"
           }
          ],
          "table": [
           {
            "cells": {
             "fill": {
              "color": "#EBF0F8"
             },
             "line": {
              "color": "white"
             }
            },
            "header": {
             "fill": {
              "color": "#C8D4E3"
             },
             "line": {
              "color": "white"
             }
            },
            "type": "table"
           }
          ]
         },
         "layout": {
          "annotationdefaults": {
           "arrowcolor": "#2a3f5f",
           "arrowhead": 0,
           "arrowwidth": 1
          },
          "autotypenumbers": "strict",
          "coloraxis": {
           "colorbar": {
            "outlinewidth": 0,
            "ticks": ""
           }
          },
          "colorscale": {
           "diverging": [
            [
             0,
             "#8e0152"
            ],
            [
             0.1,
             "#c51b7d"
            ],
            [
             0.2,
             "#de77ae"
            ],
            [
             0.3,
             "#f1b6da"
            ],
            [
             0.4,
             "#fde0ef"
            ],
            [
             0.5,
             "#f7f7f7"
            ],
            [
             0.6,
             "#e6f5d0"
            ],
            [
             0.7,
             "#b8e186"
            ],
            [
             0.8,
             "#7fbc41"
            ],
            [
             0.9,
             "#4d9221"
            ],
            [
             1,
             "#276419"
            ]
           ],
           "sequential": [
            [
             0,
             "#0d0887"
            ],
            [
             0.1111111111111111,
             "#46039f"
            ],
            [
             0.2222222222222222,
             "#7201a8"
            ],
            [
             0.3333333333333333,
             "#9c179e"
            ],
            [
             0.4444444444444444,
             "#bd3786"
            ],
            [
             0.5555555555555556,
             "#d8576b"
            ],
            [
             0.6666666666666666,
             "#ed7953"
            ],
            [
             0.7777777777777778,
             "#fb9f3a"
            ],
            [
             0.8888888888888888,
             "#fdca26"
            ],
            [
             1,
             "#f0f921"
            ]
           ],
           "sequentialminus": [
            [
             0,
             "#0d0887"
            ],
            [
             0.1111111111111111,
             "#46039f"
            ],
            [
             0.2222222222222222,
             "#7201a8"
            ],
            [
             0.3333333333333333,
             "#9c179e"
            ],
            [
             0.4444444444444444,
             "#bd3786"
            ],
            [
             0.5555555555555556,
             "#d8576b"
            ],
            [
             0.6666666666666666,
             "#ed7953"
            ],
            [
             0.7777777777777778,
             "#fb9f3a"
            ],
            [
             0.8888888888888888,
             "#fdca26"
            ],
            [
             1,
             "#f0f921"
            ]
           ]
          },
          "colorway": [
           "#636efa",
           "#EF553B",
           "#00cc96",
           "#ab63fa",
           "#FFA15A",
           "#19d3f3",
           "#FF6692",
           "#B6E880",
           "#FF97FF",
           "#FECB52"
          ],
          "font": {
           "color": "#2a3f5f"
          },
          "geo": {
           "bgcolor": "white",
           "lakecolor": "white",
           "landcolor": "#E5ECF6",
           "showlakes": true,
           "showland": true,
           "subunitcolor": "white"
          },
          "hoverlabel": {
           "align": "left"
          },
          "hovermode": "closest",
          "mapbox": {
           "style": "light"
          },
          "paper_bgcolor": "white",
          "plot_bgcolor": "#E5ECF6",
          "polar": {
           "angularaxis": {
            "gridcolor": "white",
            "linecolor": "white",
            "ticks": ""
           },
           "bgcolor": "#E5ECF6",
           "radialaxis": {
            "gridcolor": "white",
            "linecolor": "white",
            "ticks": ""
           }
          },
          "scene": {
           "xaxis": {
            "backgroundcolor": "#E5ECF6",
            "gridcolor": "white",
            "gridwidth": 2,
            "linecolor": "white",
            "showbackground": true,
            "ticks": "",
            "zerolinecolor": "white"
           },
           "yaxis": {
            "backgroundcolor": "#E5ECF6",
            "gridcolor": "white",
            "gridwidth": 2,
            "linecolor": "white",
            "showbackground": true,
            "ticks": "",
            "zerolinecolor": "white"
           },
           "zaxis": {
            "backgroundcolor": "#E5ECF6",
            "gridcolor": "white",
            "gridwidth": 2,
            "linecolor": "white",
            "showbackground": true,
            "ticks": "",
            "zerolinecolor": "white"
           }
          },
          "shapedefaults": {
           "line": {
            "color": "#2a3f5f"
           }
          },
          "ternary": {
           "aaxis": {
            "gridcolor": "white",
            "linecolor": "white",
            "ticks": ""
           },
           "baxis": {
            "gridcolor": "white",
            "linecolor": "white",
            "ticks": ""
           },
           "bgcolor": "#E5ECF6",
           "caxis": {
            "gridcolor": "white",
            "linecolor": "white",
            "ticks": ""
           }
          },
          "title": {
           "x": 0.05
          },
          "xaxis": {
           "automargin": true,
           "gridcolor": "white",
           "linecolor": "white",
           "ticks": "",
           "title": {
            "standoff": 15
           },
           "zerolinecolor": "white",
           "zerolinewidth": 2
          },
          "yaxis": {
           "automargin": true,
           "gridcolor": "white",
           "linecolor": "white",
           "ticks": "",
           "title": {
            "standoff": 15
           },
           "zerolinecolor": "white",
           "zerolinewidth": 2
          }
         }
        },
        "title": {
         "text": "Average Rating per Topic"
        },
        "xaxis": {
         "anchor": "y",
         "categoryarray": [
          "Creativity (Christine)",
          "Idea Generation (Albin)",
          "Intuitive Physics (Mike)",
          "Math (Ansam)",
          "Theory of Mind (Adrian)",
          "Translation (Grzegorz)"
         ],
         "categoryorder": "array",
         "domain": [
          0,
          1
         ],
         "title": {
          "text": "Topic"
         }
        },
        "yaxis": {
         "anchor": "x",
         "domain": [
          0,
          1
         ],
         "title": {
          "text": "Average_rating"
         }
        }
       }
      }
     },
     "metadata": {},
     "output_type": "display_data"
    }
   ],
   "source": [
    "fig = px.bar(data_gb_topic, x='Topic', y='Average_rating', \n",
    "             title='Average Rating per Topic',\n",
    "             color='Topic') \n",
    "\n",
    "# add average labels on top of the bars\n",
    "for trace in fig.data:\n",
    "    for i, value in enumerate(trace['y']):\n",
    "        fig.add_annotation(\n",
    "            x=trace['x'][i],\n",
    "            y=value+0.35,\n",
    "            text=str(round(value, 2)),\n",
    "            showarrow=False,\n",
    "            font=dict(color='black')\n",
    "        )\n",
    "\n",
    "fig.update_layout(showlegend=False)\n",
    "\n",
    "fig.show()\n"
   ]
  },
  {
   "cell_type": "markdown",
   "metadata": {},
   "source": [
    "The distribution of ratings for each topic"
   ]
  },
  {
   "cell_type": "code",
   "execution_count": 91,
   "metadata": {},
   "outputs": [
    {
     "data": {
      "application/vnd.plotly.v1+json": {
       "config": {
        "plotlyServerURL": "https://plot.ly"
       },
       "data": [
        {
         "alignmentgroup": "True",
         "hovertemplate": "Topic=%{x}<br>Average_rating=%{y}<extra></extra>",
         "legendgroup": "Creativity (Christine)",
         "marker": {
          "color": "#636efa"
         },
         "name": "Creativity (Christine)",
         "notched": false,
         "offsetgroup": "Creativity (Christine)",
         "orientation": "v",
         "showlegend": true,
         "type": "box",
         "x": [
          "Creativity (Christine)",
          "Creativity (Christine)",
          "Creativity (Christine)",
          "Creativity (Christine)",
          "Creativity (Christine)",
          "Creativity (Christine)",
          "Creativity (Christine)",
          "Creativity (Christine)",
          "Creativity (Christine)",
          "Creativity (Christine)",
          "Creativity (Christine)",
          "Creativity (Christine)",
          "Creativity (Christine)",
          "Creativity (Christine)",
          "Creativity (Christine)"
         ],
         "x0": " ",
         "xaxis": "x",
         "y": [
          7.5,
          5.5,
          5.666666666666667,
          7.833333333333333,
          5,
          8.5,
          5.333333333333333,
          7,
          4.166666666666667,
          7.833333333333333,
          5,
          8.166666666666666,
          5.833333333333333,
          5.833333333333333,
          7.5
         ],
         "y0": " ",
         "yaxis": "y"
        },
        {
         "alignmentgroup": "True",
         "hovertemplate": "Topic=%{x}<br>Average_rating=%{y}<extra></extra>",
         "legendgroup": "Math (Ansam)",
         "marker": {
          "color": "#EF553B"
         },
         "name": "Math (Ansam)",
         "notched": false,
         "offsetgroup": "Math (Ansam)",
         "orientation": "v",
         "showlegend": true,
         "type": "box",
         "x": [
          "Math (Ansam)",
          "Math (Ansam)",
          "Math (Ansam)",
          "Math (Ansam)",
          "Math (Ansam)",
          "Math (Ansam)",
          "Math (Ansam)",
          "Math (Ansam)",
          "Math (Ansam)",
          "Math (Ansam)",
          "Math (Ansam)",
          "Math (Ansam)",
          "Math (Ansam)",
          "Math (Ansam)",
          "Math (Ansam)"
         ],
         "x0": " ",
         "xaxis": "x",
         "y": [
          9.666666666666666,
          9,
          6,
          8.833333333333334,
          9.5,
          1.6666666666666667,
          7.666666666666667,
          9.5,
          9.833333333333334,
          1,
          2.8333333333333335,
          3.6666666666666665,
          5.5,
          5.4,
          1.1666666666666667
         ],
         "y0": " ",
         "yaxis": "y"
        },
        {
         "alignmentgroup": "True",
         "hovertemplate": "Topic=%{x}<br>Average_rating=%{y}<extra></extra>",
         "legendgroup": "Theory of Mind (Adrian)",
         "marker": {
          "color": "#00cc96"
         },
         "name": "Theory of Mind (Adrian)",
         "notched": false,
         "offsetgroup": "Theory of Mind (Adrian)",
         "orientation": "v",
         "showlegend": true,
         "type": "box",
         "x": [
          "Theory of Mind (Adrian)",
          "Theory of Mind (Adrian)",
          "Theory of Mind (Adrian)",
          "Theory of Mind (Adrian)",
          "Theory of Mind (Adrian)",
          "Theory of Mind (Adrian)",
          "Theory of Mind (Adrian)",
          "Theory of Mind (Adrian)",
          "Theory of Mind (Adrian)",
          "Theory of Mind (Adrian)",
          "Theory of Mind (Adrian)",
          "Theory of Mind (Adrian)",
          "Theory of Mind (Adrian)",
          "Theory of Mind (Adrian)",
          "Theory of Mind (Adrian)"
         ],
         "x0": " ",
         "xaxis": "x",
         "y": [
          10,
          3.8333333333333335,
          10,
          9.833333333333334,
          10,
          8.166666666666666,
          8.5,
          7,
          9.833333333333334,
          6.166666666666667,
          3.5,
          1.6666666666666667,
          9.166666666666666,
          9.333333333333334,
          10
         ],
         "y0": " ",
         "yaxis": "y"
        },
        {
         "alignmentgroup": "True",
         "hovertemplate": "Topic=%{x}<br>Average_rating=%{y}<extra></extra>",
         "legendgroup": "Intuitive Physics (Mike)",
         "marker": {
          "color": "#ab63fa"
         },
         "name": "Intuitive Physics (Mike)",
         "notched": false,
         "offsetgroup": "Intuitive Physics (Mike)",
         "orientation": "v",
         "showlegend": true,
         "type": "box",
         "x": [
          "Intuitive Physics (Mike)",
          "Intuitive Physics (Mike)",
          "Intuitive Physics (Mike)",
          "Intuitive Physics (Mike)",
          "Intuitive Physics (Mike)",
          "Intuitive Physics (Mike)",
          "Intuitive Physics (Mike)",
          "Intuitive Physics (Mike)",
          "Intuitive Physics (Mike)",
          "Intuitive Physics (Mike)",
          "Intuitive Physics (Mike)",
          "Intuitive Physics (Mike)",
          "Intuitive Physics (Mike)",
          "Intuitive Physics (Mike)",
          "Intuitive Physics (Mike)"
         ],
         "x0": " ",
         "xaxis": "x",
         "y": [
          4.666666666666667,
          8.666666666666666,
          6,
          8,
          9.333333333333334,
          3,
          7,
          6.5,
          9,
          8.666666666666666,
          2.3333333333333335,
          5,
          4.5,
          9,
          8.333333333333334
         ],
         "y0": " ",
         "yaxis": "y"
        },
        {
         "alignmentgroup": "True",
         "hovertemplate": "Topic=%{x}<br>Average_rating=%{y}<extra></extra>",
         "legendgroup": "Idea Generation (Albin)",
         "marker": {
          "color": "#FFA15A"
         },
         "name": "Idea Generation (Albin)",
         "notched": false,
         "offsetgroup": "Idea Generation (Albin)",
         "orientation": "v",
         "showlegend": true,
         "type": "box",
         "x": [
          "Idea Generation (Albin)",
          "Idea Generation (Albin)",
          "Idea Generation (Albin)",
          "Idea Generation (Albin)",
          "Idea Generation (Albin)",
          "Idea Generation (Albin)",
          "Idea Generation (Albin)",
          "Idea Generation (Albin)",
          "Idea Generation (Albin)",
          "Idea Generation (Albin)",
          "Idea Generation (Albin)",
          "Idea Generation (Albin)",
          "Idea Generation (Albin)",
          "Idea Generation (Albin)",
          "Idea Generation (Albin)"
         ],
         "x0": " ",
         "xaxis": "x",
         "y": [
          5.5,
          6.333333333333333,
          8.166666666666666,
          6.166666666666667,
          8.666666666666666,
          5.333333333333333,
          7.333333333333333,
          7.833333333333333,
          8.666666666666666,
          6.5,
          7.5,
          8.5,
          8.666666666666666,
          6.166666666666667,
          6.166666666666667
         ],
         "y0": " ",
         "yaxis": "y"
        },
        {
         "alignmentgroup": "True",
         "hovertemplate": "Topic=%{x}<br>Average_rating=%{y}<extra></extra>",
         "legendgroup": "Translation (Grzegorz)",
         "marker": {
          "color": "#19d3f3"
         },
         "name": "Translation (Grzegorz)",
         "notched": false,
         "offsetgroup": "Translation (Grzegorz)",
         "orientation": "v",
         "showlegend": true,
         "type": "box",
         "x": [
          "Translation (Grzegorz)",
          "Translation (Grzegorz)",
          "Translation (Grzegorz)",
          "Translation (Grzegorz)",
          "Translation (Grzegorz)",
          "Translation (Grzegorz)",
          "Translation (Grzegorz)",
          "Translation (Grzegorz)",
          "Translation (Grzegorz)",
          "Translation (Grzegorz)",
          "Translation (Grzegorz)",
          "Translation (Grzegorz)",
          "Translation (Grzegorz)",
          "Translation (Grzegorz)",
          "Translation (Grzegorz)",
          "Translation (Grzegorz)",
          "Translation (Grzegorz)",
          "Translation (Grzegorz)",
          "Translation (Grzegorz)",
          "Translation (Grzegorz)",
          "Translation (Grzegorz)",
          "Translation (Grzegorz)",
          "Translation (Grzegorz)",
          "Translation (Grzegorz)",
          "Translation (Grzegorz)",
          "Translation (Grzegorz)",
          "Translation (Grzegorz)",
          "Translation (Grzegorz)",
          "Translation (Grzegorz)",
          "Translation (Grzegorz)",
          "Translation (Grzegorz)",
          "Translation (Grzegorz)",
          "Translation (Grzegorz)",
          "Translation (Grzegorz)",
          "Translation (Grzegorz)",
          "Translation (Grzegorz)",
          "Translation (Grzegorz)",
          "Translation (Grzegorz)",
          "Translation (Grzegorz)",
          "Translation (Grzegorz)",
          "Translation (Grzegorz)",
          "Translation (Grzegorz)",
          "Translation (Grzegorz)",
          "Translation (Grzegorz)",
          "Translation (Grzegorz)",
          "Translation (Grzegorz)",
          "Translation (Grzegorz)",
          "Translation (Grzegorz)",
          "Translation (Grzegorz)",
          "Translation (Grzegorz)",
          "Translation (Grzegorz)",
          "Translation (Grzegorz)",
          "Translation (Grzegorz)",
          "Translation (Grzegorz)",
          "Translation (Grzegorz)",
          "Translation (Grzegorz)",
          "Translation (Grzegorz)",
          "Translation (Grzegorz)",
          "Translation (Grzegorz)",
          "Translation (Grzegorz)",
          "Translation (Grzegorz)",
          "Translation (Grzegorz)",
          "Translation (Grzegorz)",
          "Translation (Grzegorz)",
          "Translation (Grzegorz)",
          "Translation (Grzegorz)",
          "Translation (Grzegorz)",
          "Translation (Grzegorz)",
          "Translation (Grzegorz)",
          "Translation (Grzegorz)",
          "Translation (Grzegorz)",
          "Translation (Grzegorz)",
          "Translation (Grzegorz)",
          "Translation (Grzegorz)",
          "Translation (Grzegorz)",
          "Translation (Grzegorz)",
          "Translation (Grzegorz)",
          "Translation (Grzegorz)",
          "Translation (Grzegorz)",
          "Translation (Grzegorz)",
          "Translation (Grzegorz)",
          "Translation (Grzegorz)",
          "Translation (Grzegorz)",
          "Translation (Grzegorz)",
          "Translation (Grzegorz)",
          "Translation (Grzegorz)",
          "Translation (Grzegorz)",
          "Translation (Grzegorz)",
          "Translation (Grzegorz)",
          "Translation (Grzegorz)",
          "Translation (Grzegorz)",
          "Translation (Grzegorz)",
          "Translation (Grzegorz)",
          "Translation (Grzegorz)",
          "Translation (Grzegorz)",
          "Translation (Grzegorz)",
          "Translation (Grzegorz)",
          "Translation (Grzegorz)",
          "Translation (Grzegorz)",
          "Translation (Grzegorz)",
          "Translation (Grzegorz)",
          "Translation (Grzegorz)",
          "Translation (Grzegorz)",
          "Translation (Grzegorz)",
          "Translation (Grzegorz)",
          "Translation (Grzegorz)",
          "Translation (Grzegorz)",
          "Translation (Grzegorz)",
          "Translation (Grzegorz)",
          "Translation (Grzegorz)",
          "Translation (Grzegorz)",
          "Translation (Grzegorz)",
          "Translation (Grzegorz)",
          "Translation (Grzegorz)",
          "Translation (Grzegorz)",
          "Translation (Grzegorz)",
          "Translation (Grzegorz)",
          "Translation (Grzegorz)",
          "Translation (Grzegorz)",
          "Translation (Grzegorz)",
          "Translation (Grzegorz)",
          "Translation (Grzegorz)",
          "Translation (Grzegorz)",
          "Translation (Grzegorz)",
          "Translation (Grzegorz)",
          "Translation (Grzegorz)",
          "Translation (Grzegorz)",
          "Translation (Grzegorz)",
          "Translation (Grzegorz)",
          "Translation (Grzegorz)",
          "Translation (Grzegorz)",
          "Translation (Grzegorz)",
          "Translation (Grzegorz)",
          "Translation (Grzegorz)",
          "Translation (Grzegorz)",
          "Translation (Grzegorz)",
          "Translation (Grzegorz)",
          "Translation (Grzegorz)",
          "Translation (Grzegorz)",
          "Translation (Grzegorz)"
         ],
         "x0": " ",
         "xaxis": "x",
         "y": [
          7.833333333333333,
          7.166666666666667,
          4.166666666666667,
          4.833333333333333,
          7.5,
          7.833333333333333,
          6,
          5.5,
          5.833333333333333,
          6,
          3.5,
          3.8333333333333335,
          5.666666666666667,
          9.166666666666666,
          7.833333333333333,
          7.666666666666667,
          8,
          9.5,
          7.333333333333333,
          6.833333333333333,
          7.5,
          9.166666666666666,
          5.5,
          5.666666666666667,
          8.833333333333334,
          8.666666666666666,
          5.5,
          5.5,
          5.833333333333333,
          7.666666666666667,
          6.666666666666667,
          6.833333333333333,
          6.333333333333333,
          5,
          3.8333333333333335,
          3.6666666666666665,
          7,
          8,
          1,
          6.333333333333333,
          8.5,
          6.333333333333333,
          7.833333333333333,
          7.833333333333333,
          8.666666666666666,
          9.666666666666666,
          6.333333333333333,
          4.333333333333333,
          8.666666666666666,
          8.833333333333334,
          1,
          2,
          4.666666666666667,
          4.333333333333333,
          3,
          3,
          4.5,
          5,
          1,
          3.1666666666666665,
          7.166666666666667,
          9.5,
          7.666666666666667,
          7.666666666666667,
          8,
          9.5,
          8.166666666666666,
          7.333333333333333,
          7.5,
          9.333333333333334,
          7,
          6.166666666666667,
          5.666666666666667,
          9.833333333333334,
          8.166666666666666,
          8.333333333333334,
          6.5,
          7.333333333333333,
          8.666666666666666,
          9,
          7.6,
          9.666666666666666,
          7.833333333333333,
          8,
          9,
          9.833333333333334,
          6.5,
          7.166666666666667,
          7.166666666666667,
          8.666666666666666,
          9.166666666666666,
          9,
          8.333333333333334,
          9.833333333333334,
          8.666666666666666,
          9,
          9.166666666666666,
          9.333333333333334,
          7.833333333333333,
          8,
          8,
          9.333333333333334,
          8.166666666666666,
          8.833333333333334,
          9,
          9.833333333333334,
          8.666666666666666,
          1,
          6.833333333333333,
          4,
          1,
          1,
          5.4,
          5.666666666666667,
          1,
          1,
          7.166666666666667,
          3.8333333333333335,
          1,
          1.5,
          7.5,
          8,
          6.833333333333333,
          6.666666666666667,
          8,
          8.666666666666666,
          7.166666666666667,
          7.5,
          7.833333333333333,
          6.5,
          7.333333333333333,
          2.3333333333333335,
          7.166666666666667,
          1.1666666666666667,
          2.8333333333333335,
          2.8333333333333335,
          4,
          3.1666666666666665,
          1.1666666666666667,
          1.6666666666666667
         ],
         "y0": " ",
         "yaxis": "y"
        }
       ],
       "layout": {
        "boxmode": "overlay",
        "legend": {
         "title": {
          "text": "Topic"
         },
         "tracegroupgap": 0
        },
        "showlegend": false,
        "template": {
         "data": {
          "bar": [
           {
            "error_x": {
             "color": "#2a3f5f"
            },
            "error_y": {
             "color": "#2a3f5f"
            },
            "marker": {
             "line": {
              "color": "#E5ECF6",
              "width": 0.5
             },
             "pattern": {
              "fillmode": "overlay",
              "size": 10,
              "solidity": 0.2
             }
            },
            "type": "bar"
           }
          ],
          "barpolar": [
           {
            "marker": {
             "line": {
              "color": "#E5ECF6",
              "width": 0.5
             },
             "pattern": {
              "fillmode": "overlay",
              "size": 10,
              "solidity": 0.2
             }
            },
            "type": "barpolar"
           }
          ],
          "carpet": [
           {
            "aaxis": {
             "endlinecolor": "#2a3f5f",
             "gridcolor": "white",
             "linecolor": "white",
             "minorgridcolor": "white",
             "startlinecolor": "#2a3f5f"
            },
            "baxis": {
             "endlinecolor": "#2a3f5f",
             "gridcolor": "white",
             "linecolor": "white",
             "minorgridcolor": "white",
             "startlinecolor": "#2a3f5f"
            },
            "type": "carpet"
           }
          ],
          "choropleth": [
           {
            "colorbar": {
             "outlinewidth": 0,
             "ticks": ""
            },
            "type": "choropleth"
           }
          ],
          "contour": [
           {
            "colorbar": {
             "outlinewidth": 0,
             "ticks": ""
            },
            "colorscale": [
             [
              0,
              "#0d0887"
             ],
             [
              0.1111111111111111,
              "#46039f"
             ],
             [
              0.2222222222222222,
              "#7201a8"
             ],
             [
              0.3333333333333333,
              "#9c179e"
             ],
             [
              0.4444444444444444,
              "#bd3786"
             ],
             [
              0.5555555555555556,
              "#d8576b"
             ],
             [
              0.6666666666666666,
              "#ed7953"
             ],
             [
              0.7777777777777778,
              "#fb9f3a"
             ],
             [
              0.8888888888888888,
              "#fdca26"
             ],
             [
              1,
              "#f0f921"
             ]
            ],
            "type": "contour"
           }
          ],
          "contourcarpet": [
           {
            "colorbar": {
             "outlinewidth": 0,
             "ticks": ""
            },
            "type": "contourcarpet"
           }
          ],
          "heatmap": [
           {
            "colorbar": {
             "outlinewidth": 0,
             "ticks": ""
            },
            "colorscale": [
             [
              0,
              "#0d0887"
             ],
             [
              0.1111111111111111,
              "#46039f"
             ],
             [
              0.2222222222222222,
              "#7201a8"
             ],
             [
              0.3333333333333333,
              "#9c179e"
             ],
             [
              0.4444444444444444,
              "#bd3786"
             ],
             [
              0.5555555555555556,
              "#d8576b"
             ],
             [
              0.6666666666666666,
              "#ed7953"
             ],
             [
              0.7777777777777778,
              "#fb9f3a"
             ],
             [
              0.8888888888888888,
              "#fdca26"
             ],
             [
              1,
              "#f0f921"
             ]
            ],
            "type": "heatmap"
           }
          ],
          "heatmapgl": [
           {
            "colorbar": {
             "outlinewidth": 0,
             "ticks": ""
            },
            "colorscale": [
             [
              0,
              "#0d0887"
             ],
             [
              0.1111111111111111,
              "#46039f"
             ],
             [
              0.2222222222222222,
              "#7201a8"
             ],
             [
              0.3333333333333333,
              "#9c179e"
             ],
             [
              0.4444444444444444,
              "#bd3786"
             ],
             [
              0.5555555555555556,
              "#d8576b"
             ],
             [
              0.6666666666666666,
              "#ed7953"
             ],
             [
              0.7777777777777778,
              "#fb9f3a"
             ],
             [
              0.8888888888888888,
              "#fdca26"
             ],
             [
              1,
              "#f0f921"
             ]
            ],
            "type": "heatmapgl"
           }
          ],
          "histogram": [
           {
            "marker": {
             "pattern": {
              "fillmode": "overlay",
              "size": 10,
              "solidity": 0.2
             }
            },
            "type": "histogram"
           }
          ],
          "histogram2d": [
           {
            "colorbar": {
             "outlinewidth": 0,
             "ticks": ""
            },
            "colorscale": [
             [
              0,
              "#0d0887"
             ],
             [
              0.1111111111111111,
              "#46039f"
             ],
             [
              0.2222222222222222,
              "#7201a8"
             ],
             [
              0.3333333333333333,
              "#9c179e"
             ],
             [
              0.4444444444444444,
              "#bd3786"
             ],
             [
              0.5555555555555556,
              "#d8576b"
             ],
             [
              0.6666666666666666,
              "#ed7953"
             ],
             [
              0.7777777777777778,
              "#fb9f3a"
             ],
             [
              0.8888888888888888,
              "#fdca26"
             ],
             [
              1,
              "#f0f921"
             ]
            ],
            "type": "histogram2d"
           }
          ],
          "histogram2dcontour": [
           {
            "colorbar": {
             "outlinewidth": 0,
             "ticks": ""
            },
            "colorscale": [
             [
              0,
              "#0d0887"
             ],
             [
              0.1111111111111111,
              "#46039f"
             ],
             [
              0.2222222222222222,
              "#7201a8"
             ],
             [
              0.3333333333333333,
              "#9c179e"
             ],
             [
              0.4444444444444444,
              "#bd3786"
             ],
             [
              0.5555555555555556,
              "#d8576b"
             ],
             [
              0.6666666666666666,
              "#ed7953"
             ],
             [
              0.7777777777777778,
              "#fb9f3a"
             ],
             [
              0.8888888888888888,
              "#fdca26"
             ],
             [
              1,
              "#f0f921"
             ]
            ],
            "type": "histogram2dcontour"
           }
          ],
          "mesh3d": [
           {
            "colorbar": {
             "outlinewidth": 0,
             "ticks": ""
            },
            "type": "mesh3d"
           }
          ],
          "parcoords": [
           {
            "line": {
             "colorbar": {
              "outlinewidth": 0,
              "ticks": ""
             }
            },
            "type": "parcoords"
           }
          ],
          "pie": [
           {
            "automargin": true,
            "type": "pie"
           }
          ],
          "scatter": [
           {
            "fillpattern": {
             "fillmode": "overlay",
             "size": 10,
             "solidity": 0.2
            },
            "type": "scatter"
           }
          ],
          "scatter3d": [
           {
            "line": {
             "colorbar": {
              "outlinewidth": 0,
              "ticks": ""
             }
            },
            "marker": {
             "colorbar": {
              "outlinewidth": 0,
              "ticks": ""
             }
            },
            "type": "scatter3d"
           }
          ],
          "scattercarpet": [
           {
            "marker": {
             "colorbar": {
              "outlinewidth": 0,
              "ticks": ""
             }
            },
            "type": "scattercarpet"
           }
          ],
          "scattergeo": [
           {
            "marker": {
             "colorbar": {
              "outlinewidth": 0,
              "ticks": ""
             }
            },
            "type": "scattergeo"
           }
          ],
          "scattergl": [
           {
            "marker": {
             "colorbar": {
              "outlinewidth": 0,
              "ticks": ""
             }
            },
            "type": "scattergl"
           }
          ],
          "scattermapbox": [
           {
            "marker": {
             "colorbar": {
              "outlinewidth": 0,
              "ticks": ""
             }
            },
            "type": "scattermapbox"
           }
          ],
          "scatterpolar": [
           {
            "marker": {
             "colorbar": {
              "outlinewidth": 0,
              "ticks": ""
             }
            },
            "type": "scatterpolar"
           }
          ],
          "scatterpolargl": [
           {
            "marker": {
             "colorbar": {
              "outlinewidth": 0,
              "ticks": ""
             }
            },
            "type": "scatterpolargl"
           }
          ],
          "scatterternary": [
           {
            "marker": {
             "colorbar": {
              "outlinewidth": 0,
              "ticks": ""
             }
            },
            "type": "scatterternary"
           }
          ],
          "surface": [
           {
            "colorbar": {
             "outlinewidth": 0,
             "ticks": ""
            },
            "colorscale": [
             [
              0,
              "#0d0887"
             ],
             [
              0.1111111111111111,
              "#46039f"
             ],
             [
              0.2222222222222222,
              "#7201a8"
             ],
             [
              0.3333333333333333,
              "#9c179e"
             ],
             [
              0.4444444444444444,
              "#bd3786"
             ],
             [
              0.5555555555555556,
              "#d8576b"
             ],
             [
              0.6666666666666666,
              "#ed7953"
             ],
             [
              0.7777777777777778,
              "#fb9f3a"
             ],
             [
              0.8888888888888888,
              "#fdca26"
             ],
             [
              1,
              "#f0f921"
             ]
            ],
            "type": "surface"
           }
          ],
          "table": [
           {
            "cells": {
             "fill": {
              "color": "#EBF0F8"
             },
             "line": {
              "color": "white"
             }
            },
            "header": {
             "fill": {
              "color": "#C8D4E3"
             },
             "line": {
              "color": "white"
             }
            },
            "type": "table"
           }
          ]
         },
         "layout": {
          "annotationdefaults": {
           "arrowcolor": "#2a3f5f",
           "arrowhead": 0,
           "arrowwidth": 1
          },
          "autotypenumbers": "strict",
          "coloraxis": {
           "colorbar": {
            "outlinewidth": 0,
            "ticks": ""
           }
          },
          "colorscale": {
           "diverging": [
            [
             0,
             "#8e0152"
            ],
            [
             0.1,
             "#c51b7d"
            ],
            [
             0.2,
             "#de77ae"
            ],
            [
             0.3,
             "#f1b6da"
            ],
            [
             0.4,
             "#fde0ef"
            ],
            [
             0.5,
             "#f7f7f7"
            ],
            [
             0.6,
             "#e6f5d0"
            ],
            [
             0.7,
             "#b8e186"
            ],
            [
             0.8,
             "#7fbc41"
            ],
            [
             0.9,
             "#4d9221"
            ],
            [
             1,
             "#276419"
            ]
           ],
           "sequential": [
            [
             0,
             "#0d0887"
            ],
            [
             0.1111111111111111,
             "#46039f"
            ],
            [
             0.2222222222222222,
             "#7201a8"
            ],
            [
             0.3333333333333333,
             "#9c179e"
            ],
            [
             0.4444444444444444,
             "#bd3786"
            ],
            [
             0.5555555555555556,
             "#d8576b"
            ],
            [
             0.6666666666666666,
             "#ed7953"
            ],
            [
             0.7777777777777778,
             "#fb9f3a"
            ],
            [
             0.8888888888888888,
             "#fdca26"
            ],
            [
             1,
             "#f0f921"
            ]
           ],
           "sequentialminus": [
            [
             0,
             "#0d0887"
            ],
            [
             0.1111111111111111,
             "#46039f"
            ],
            [
             0.2222222222222222,
             "#7201a8"
            ],
            [
             0.3333333333333333,
             "#9c179e"
            ],
            [
             0.4444444444444444,
             "#bd3786"
            ],
            [
             0.5555555555555556,
             "#d8576b"
            ],
            [
             0.6666666666666666,
             "#ed7953"
            ],
            [
             0.7777777777777778,
             "#fb9f3a"
            ],
            [
             0.8888888888888888,
             "#fdca26"
            ],
            [
             1,
             "#f0f921"
            ]
           ]
          },
          "colorway": [
           "#636efa",
           "#EF553B",
           "#00cc96",
           "#ab63fa",
           "#FFA15A",
           "#19d3f3",
           "#FF6692",
           "#B6E880",
           "#FF97FF",
           "#FECB52"
          ],
          "font": {
           "color": "#2a3f5f"
          },
          "geo": {
           "bgcolor": "white",
           "lakecolor": "white",
           "landcolor": "#E5ECF6",
           "showlakes": true,
           "showland": true,
           "subunitcolor": "white"
          },
          "hoverlabel": {
           "align": "left"
          },
          "hovermode": "closest",
          "mapbox": {
           "style": "light"
          },
          "paper_bgcolor": "white",
          "plot_bgcolor": "#E5ECF6",
          "polar": {
           "angularaxis": {
            "gridcolor": "white",
            "linecolor": "white",
            "ticks": ""
           },
           "bgcolor": "#E5ECF6",
           "radialaxis": {
            "gridcolor": "white",
            "linecolor": "white",
            "ticks": ""
           }
          },
          "scene": {
           "xaxis": {
            "backgroundcolor": "#E5ECF6",
            "gridcolor": "white",
            "gridwidth": 2,
            "linecolor": "white",
            "showbackground": true,
            "ticks": "",
            "zerolinecolor": "white"
           },
           "yaxis": {
            "backgroundcolor": "#E5ECF6",
            "gridcolor": "white",
            "gridwidth": 2,
            "linecolor": "white",
            "showbackground": true,
            "ticks": "",
            "zerolinecolor": "white"
           },
           "zaxis": {
            "backgroundcolor": "#E5ECF6",
            "gridcolor": "white",
            "gridwidth": 2,
            "linecolor": "white",
            "showbackground": true,
            "ticks": "",
            "zerolinecolor": "white"
           }
          },
          "shapedefaults": {
           "line": {
            "color": "#2a3f5f"
           }
          },
          "ternary": {
           "aaxis": {
            "gridcolor": "white",
            "linecolor": "white",
            "ticks": ""
           },
           "baxis": {
            "gridcolor": "white",
            "linecolor": "white",
            "ticks": ""
           },
           "bgcolor": "#E5ECF6",
           "caxis": {
            "gridcolor": "white",
            "linecolor": "white",
            "ticks": ""
           }
          },
          "title": {
           "x": 0.05
          },
          "xaxis": {
           "automargin": true,
           "gridcolor": "white",
           "linecolor": "white",
           "ticks": "",
           "title": {
            "standoff": 15
           },
           "zerolinecolor": "white",
           "zerolinewidth": 2
          },
          "yaxis": {
           "automargin": true,
           "gridcolor": "white",
           "linecolor": "white",
           "ticks": "",
           "title": {
            "standoff": 15
           },
           "zerolinecolor": "white",
           "zerolinewidth": 2
          }
         }
        },
        "title": {
         "text": "Rating Distribution by Topic"
        },
        "xaxis": {
         "anchor": "y",
         "categoryarray": [
          "Creativity (Christine)",
          "Math (Ansam)",
          "Theory of Mind (Adrian)",
          "Intuitive Physics (Mike)",
          "Idea Generation (Albin)",
          "Translation (Grzegorz)"
         ],
         "categoryorder": "array",
         "domain": [
          0,
          1
         ],
         "title": {
          "text": "Topic"
         }
        },
        "yaxis": {
         "anchor": "x",
         "domain": [
          0,
          1
         ],
         "title": {
          "text": "Average_rating"
         }
        }
       }
      }
     },
     "metadata": {},
     "output_type": "display_data"
    }
   ],
   "source": [
    "fig = px.box(data, x='Topic', y='Average_rating', title='Rating Distribution by Topic', color='Topic')\n",
    "fig.update_layout(showlegend=False)\n",
    "fig.show()"
   ]
  },
  {
   "cell_type": "markdown",
   "metadata": {},
   "source": [
    "How did each model do in each topic?"
   ]
  },
  {
   "cell_type": "code",
   "execution_count": 92,
   "metadata": {},
   "outputs": [
    {
     "data": {
      "application/vnd.plotly.v1+json": {
       "config": {
        "plotlyServerURL": "https://plot.ly"
       },
       "data": [
        {
         "alignmentgroup": "True",
         "hovertemplate": "Model_Name=%{x}<br>Average_rating=%{y}<extra></extra>",
         "legendgroup": "ChatGPT 3.5",
         "marker": {
          "color": "#636efa",
          "pattern": {
           "shape": ""
          }
         },
         "name": "ChatGPT 3.5",
         "offsetgroup": "ChatGPT 3.5",
         "orientation": "v",
         "showlegend": true,
         "textposition": "auto",
         "type": "bar",
         "x": [
          "ChatGPT 3.5"
         ],
         "xaxis": "x",
         "y": [
          6.675
         ],
         "yaxis": "y"
        },
        {
         "alignmentgroup": "True",
         "hovertemplate": "Model_Name=%{x}<br>Average_rating=%{y}<extra></extra>",
         "legendgroup": "ChatGPT 4",
         "marker": {
          "color": "#EF553B",
          "pattern": {
           "shape": ""
          }
         },
         "name": "ChatGPT 4",
         "offsetgroup": "ChatGPT 4",
         "orientation": "v",
         "showlegend": true,
         "textposition": "auto",
         "type": "bar",
         "x": [
          "ChatGPT 4"
         ],
         "xaxis": "x",
         "y": [
          7.694166666666666
         ],
         "yaxis": "y"
        },
        {
         "alignmentgroup": "True",
         "hovertemplate": "Model_Name=%{x}<br>Average_rating=%{y}<extra></extra>",
         "legendgroup": "Gemini",
         "marker": {
          "color": "#00cc96",
          "pattern": {
           "shape": ""
          }
         },
         "name": "Gemini",
         "offsetgroup": "Gemini",
         "orientation": "v",
         "showlegend": true,
         "textposition": "auto",
         "type": "bar",
         "x": [
          "Gemini"
         ],
         "xaxis": "x",
         "y": [
          7.008333333333333
         ],
         "yaxis": "y"
        },
        {
         "alignmentgroup": "True",
         "hovertemplate": "Model_Name=%{x}<br>Average_rating=%{y}<extra></extra>",
         "legendgroup": "Gemini Advanced",
         "marker": {
          "color": "#ab63fa",
          "pattern": {
           "shape": ""
          }
         },
         "name": "Gemini Advanced",
         "offsetgroup": "Gemini Advanced",
         "orientation": "v",
         "showlegend": true,
         "textposition": "auto",
         "type": "bar",
         "x": [
          "Gemini Advanced"
         ],
         "xaxis": "x",
         "y": [
          7.005833333333333
         ],
         "yaxis": "y"
        },
        {
         "alignmentgroup": "True",
         "hovertemplate": "Model_Name=%{x}<br>Average_rating=%{y}<extra></extra>",
         "legendgroup": "LLaMA 70b",
         "marker": {
          "color": "#FFA15A",
          "pattern": {
           "shape": ""
          }
         },
         "name": "LLaMA 70b",
         "offsetgroup": "LLaMA 70b",
         "orientation": "v",
         "showlegend": true,
         "textposition": "auto",
         "type": "bar",
         "x": [
          "LLaMA 70b"
         ],
         "xaxis": "x",
         "y": [
          4.101666666666667
         ],
         "yaxis": "y"
        }
       ],
       "layout": {
        "annotations": [
         {
          "font": {
           "color": "black"
          },
          "showarrow": false,
          "text": "6.68",
          "x": "ChatGPT 3.5",
          "y": 7.0249999999999995
         },
         {
          "font": {
           "color": "black"
          },
          "showarrow": false,
          "text": "7.69",
          "x": "ChatGPT 4",
          "y": 8.044166666666666
         },
         {
          "font": {
           "color": "black"
          },
          "showarrow": false,
          "text": "7.01",
          "x": "Gemini",
          "y": 7.3583333333333325
         },
         {
          "font": {
           "color": "black"
          },
          "showarrow": false,
          "text": "7.01",
          "x": "Gemini Advanced",
          "y": 7.355833333333333
         },
         {
          "font": {
           "color": "black"
          },
          "showarrow": false,
          "text": "4.1",
          "x": "LLaMA 70b",
          "y": 4.451666666666666
         }
        ],
        "barmode": "relative",
        "legend": {
         "title": {
          "text": "Model_Name"
         },
         "tracegroupgap": 0
        },
        "showlegend": false,
        "template": {
         "data": {
          "bar": [
           {
            "error_x": {
             "color": "#2a3f5f"
            },
            "error_y": {
             "color": "#2a3f5f"
            },
            "marker": {
             "line": {
              "color": "#E5ECF6",
              "width": 0.5
             },
             "pattern": {
              "fillmode": "overlay",
              "size": 10,
              "solidity": 0.2
             }
            },
            "type": "bar"
           }
          ],
          "barpolar": [
           {
            "marker": {
             "line": {
              "color": "#E5ECF6",
              "width": 0.5
             },
             "pattern": {
              "fillmode": "overlay",
              "size": 10,
              "solidity": 0.2
             }
            },
            "type": "barpolar"
           }
          ],
          "carpet": [
           {
            "aaxis": {
             "endlinecolor": "#2a3f5f",
             "gridcolor": "white",
             "linecolor": "white",
             "minorgridcolor": "white",
             "startlinecolor": "#2a3f5f"
            },
            "baxis": {
             "endlinecolor": "#2a3f5f",
             "gridcolor": "white",
             "linecolor": "white",
             "minorgridcolor": "white",
             "startlinecolor": "#2a3f5f"
            },
            "type": "carpet"
           }
          ],
          "choropleth": [
           {
            "colorbar": {
             "outlinewidth": 0,
             "ticks": ""
            },
            "type": "choropleth"
           }
          ],
          "contour": [
           {
            "colorbar": {
             "outlinewidth": 0,
             "ticks": ""
            },
            "colorscale": [
             [
              0,
              "#0d0887"
             ],
             [
              0.1111111111111111,
              "#46039f"
             ],
             [
              0.2222222222222222,
              "#7201a8"
             ],
             [
              0.3333333333333333,
              "#9c179e"
             ],
             [
              0.4444444444444444,
              "#bd3786"
             ],
             [
              0.5555555555555556,
              "#d8576b"
             ],
             [
              0.6666666666666666,
              "#ed7953"
             ],
             [
              0.7777777777777778,
              "#fb9f3a"
             ],
             [
              0.8888888888888888,
              "#fdca26"
             ],
             [
              1,
              "#f0f921"
             ]
            ],
            "type": "contour"
           }
          ],
          "contourcarpet": [
           {
            "colorbar": {
             "outlinewidth": 0,
             "ticks": ""
            },
            "type": "contourcarpet"
           }
          ],
          "heatmap": [
           {
            "colorbar": {
             "outlinewidth": 0,
             "ticks": ""
            },
            "colorscale": [
             [
              0,
              "#0d0887"
             ],
             [
              0.1111111111111111,
              "#46039f"
             ],
             [
              0.2222222222222222,
              "#7201a8"
             ],
             [
              0.3333333333333333,
              "#9c179e"
             ],
             [
              0.4444444444444444,
              "#bd3786"
             ],
             [
              0.5555555555555556,
              "#d8576b"
             ],
             [
              0.6666666666666666,
              "#ed7953"
             ],
             [
              0.7777777777777778,
              "#fb9f3a"
             ],
             [
              0.8888888888888888,
              "#fdca26"
             ],
             [
              1,
              "#f0f921"
             ]
            ],
            "type": "heatmap"
           }
          ],
          "heatmapgl": [
           {
            "colorbar": {
             "outlinewidth": 0,
             "ticks": ""
            },
            "colorscale": [
             [
              0,
              "#0d0887"
             ],
             [
              0.1111111111111111,
              "#46039f"
             ],
             [
              0.2222222222222222,
              "#7201a8"
             ],
             [
              0.3333333333333333,
              "#9c179e"
             ],
             [
              0.4444444444444444,
              "#bd3786"
             ],
             [
              0.5555555555555556,
              "#d8576b"
             ],
             [
              0.6666666666666666,
              "#ed7953"
             ],
             [
              0.7777777777777778,
              "#fb9f3a"
             ],
             [
              0.8888888888888888,
              "#fdca26"
             ],
             [
              1,
              "#f0f921"
             ]
            ],
            "type": "heatmapgl"
           }
          ],
          "histogram": [
           {
            "marker": {
             "pattern": {
              "fillmode": "overlay",
              "size": 10,
              "solidity": 0.2
             }
            },
            "type": "histogram"
           }
          ],
          "histogram2d": [
           {
            "colorbar": {
             "outlinewidth": 0,
             "ticks": ""
            },
            "colorscale": [
             [
              0,
              "#0d0887"
             ],
             [
              0.1111111111111111,
              "#46039f"
             ],
             [
              0.2222222222222222,
              "#7201a8"
             ],
             [
              0.3333333333333333,
              "#9c179e"
             ],
             [
              0.4444444444444444,
              "#bd3786"
             ],
             [
              0.5555555555555556,
              "#d8576b"
             ],
             [
              0.6666666666666666,
              "#ed7953"
             ],
             [
              0.7777777777777778,
              "#fb9f3a"
             ],
             [
              0.8888888888888888,
              "#fdca26"
             ],
             [
              1,
              "#f0f921"
             ]
            ],
            "type": "histogram2d"
           }
          ],
          "histogram2dcontour": [
           {
            "colorbar": {
             "outlinewidth": 0,
             "ticks": ""
            },
            "colorscale": [
             [
              0,
              "#0d0887"
             ],
             [
              0.1111111111111111,
              "#46039f"
             ],
             [
              0.2222222222222222,
              "#7201a8"
             ],
             [
              0.3333333333333333,
              "#9c179e"
             ],
             [
              0.4444444444444444,
              "#bd3786"
             ],
             [
              0.5555555555555556,
              "#d8576b"
             ],
             [
              0.6666666666666666,
              "#ed7953"
             ],
             [
              0.7777777777777778,
              "#fb9f3a"
             ],
             [
              0.8888888888888888,
              "#fdca26"
             ],
             [
              1,
              "#f0f921"
             ]
            ],
            "type": "histogram2dcontour"
           }
          ],
          "mesh3d": [
           {
            "colorbar": {
             "outlinewidth": 0,
             "ticks": ""
            },
            "type": "mesh3d"
           }
          ],
          "parcoords": [
           {
            "line": {
             "colorbar": {
              "outlinewidth": 0,
              "ticks": ""
             }
            },
            "type": "parcoords"
           }
          ],
          "pie": [
           {
            "automargin": true,
            "type": "pie"
           }
          ],
          "scatter": [
           {
            "fillpattern": {
             "fillmode": "overlay",
             "size": 10,
             "solidity": 0.2
            },
            "type": "scatter"
           }
          ],
          "scatter3d": [
           {
            "line": {
             "colorbar": {
              "outlinewidth": 0,
              "ticks": ""
             }
            },
            "marker": {
             "colorbar": {
              "outlinewidth": 0,
              "ticks": ""
             }
            },
            "type": "scatter3d"
           }
          ],
          "scattercarpet": [
           {
            "marker": {
             "colorbar": {
              "outlinewidth": 0,
              "ticks": ""
             }
            },
            "type": "scattercarpet"
           }
          ],
          "scattergeo": [
           {
            "marker": {
             "colorbar": {
              "outlinewidth": 0,
              "ticks": ""
             }
            },
            "type": "scattergeo"
           }
          ],
          "scattergl": [
           {
            "marker": {
             "colorbar": {
              "outlinewidth": 0,
              "ticks": ""
             }
            },
            "type": "scattergl"
           }
          ],
          "scattermapbox": [
           {
            "marker": {
             "colorbar": {
              "outlinewidth": 0,
              "ticks": ""
             }
            },
            "type": "scattermapbox"
           }
          ],
          "scatterpolar": [
           {
            "marker": {
             "colorbar": {
              "outlinewidth": 0,
              "ticks": ""
             }
            },
            "type": "scatterpolar"
           }
          ],
          "scatterpolargl": [
           {
            "marker": {
             "colorbar": {
              "outlinewidth": 0,
              "ticks": ""
             }
            },
            "type": "scatterpolargl"
           }
          ],
          "scatterternary": [
           {
            "marker": {
             "colorbar": {
              "outlinewidth": 0,
              "ticks": ""
             }
            },
            "type": "scatterternary"
           }
          ],
          "surface": [
           {
            "colorbar": {
             "outlinewidth": 0,
             "ticks": ""
            },
            "colorscale": [
             [
              0,
              "#0d0887"
             ],
             [
              0.1111111111111111,
              "#46039f"
             ],
             [
              0.2222222222222222,
              "#7201a8"
             ],
             [
              0.3333333333333333,
              "#9c179e"
             ],
             [
              0.4444444444444444,
              "#bd3786"
             ],
             [
              0.5555555555555556,
              "#d8576b"
             ],
             [
              0.6666666666666666,
              "#ed7953"
             ],
             [
              0.7777777777777778,
              "#fb9f3a"
             ],
             [
              0.8888888888888888,
              "#fdca26"
             ],
             [
              1,
              "#f0f921"
             ]
            ],
            "type": "surface"
           }
          ],
          "table": [
           {
            "cells": {
             "fill": {
              "color": "#EBF0F8"
             },
             "line": {
              "color": "white"
             }
            },
            "header": {
             "fill": {
              "color": "#C8D4E3"
             },
             "line": {
              "color": "white"
             }
            },
            "type": "table"
           }
          ]
         },
         "layout": {
          "annotationdefaults": {
           "arrowcolor": "#2a3f5f",
           "arrowhead": 0,
           "arrowwidth": 1
          },
          "autotypenumbers": "strict",
          "coloraxis": {
           "colorbar": {
            "outlinewidth": 0,
            "ticks": ""
           }
          },
          "colorscale": {
           "diverging": [
            [
             0,
             "#8e0152"
            ],
            [
             0.1,
             "#c51b7d"
            ],
            [
             0.2,
             "#de77ae"
            ],
            [
             0.3,
             "#f1b6da"
            ],
            [
             0.4,
             "#fde0ef"
            ],
            [
             0.5,
             "#f7f7f7"
            ],
            [
             0.6,
             "#e6f5d0"
            ],
            [
             0.7,
             "#b8e186"
            ],
            [
             0.8,
             "#7fbc41"
            ],
            [
             0.9,
             "#4d9221"
            ],
            [
             1,
             "#276419"
            ]
           ],
           "sequential": [
            [
             0,
             "#0d0887"
            ],
            [
             0.1111111111111111,
             "#46039f"
            ],
            [
             0.2222222222222222,
             "#7201a8"
            ],
            [
             0.3333333333333333,
             "#9c179e"
            ],
            [
             0.4444444444444444,
             "#bd3786"
            ],
            [
             0.5555555555555556,
             "#d8576b"
            ],
            [
             0.6666666666666666,
             "#ed7953"
            ],
            [
             0.7777777777777778,
             "#fb9f3a"
            ],
            [
             0.8888888888888888,
             "#fdca26"
            ],
            [
             1,
             "#f0f921"
            ]
           ],
           "sequentialminus": [
            [
             0,
             "#0d0887"
            ],
            [
             0.1111111111111111,
             "#46039f"
            ],
            [
             0.2222222222222222,
             "#7201a8"
            ],
            [
             0.3333333333333333,
             "#9c179e"
            ],
            [
             0.4444444444444444,
             "#bd3786"
            ],
            [
             0.5555555555555556,
             "#d8576b"
            ],
            [
             0.6666666666666666,
             "#ed7953"
            ],
            [
             0.7777777777777778,
             "#fb9f3a"
            ],
            [
             0.8888888888888888,
             "#fdca26"
            ],
            [
             1,
             "#f0f921"
            ]
           ]
          },
          "colorway": [
           "#636efa",
           "#EF553B",
           "#00cc96",
           "#ab63fa",
           "#FFA15A",
           "#19d3f3",
           "#FF6692",
           "#B6E880",
           "#FF97FF",
           "#FECB52"
          ],
          "font": {
           "color": "#2a3f5f"
          },
          "geo": {
           "bgcolor": "white",
           "lakecolor": "white",
           "landcolor": "#E5ECF6",
           "showlakes": true,
           "showland": true,
           "subunitcolor": "white"
          },
          "hoverlabel": {
           "align": "left"
          },
          "hovermode": "closest",
          "mapbox": {
           "style": "light"
          },
          "paper_bgcolor": "white",
          "plot_bgcolor": "#E5ECF6",
          "polar": {
           "angularaxis": {
            "gridcolor": "white",
            "linecolor": "white",
            "ticks": ""
           },
           "bgcolor": "#E5ECF6",
           "radialaxis": {
            "gridcolor": "white",
            "linecolor": "white",
            "ticks": ""
           }
          },
          "scene": {
           "xaxis": {
            "backgroundcolor": "#E5ECF6",
            "gridcolor": "white",
            "gridwidth": 2,
            "linecolor": "white",
            "showbackground": true,
            "ticks": "",
            "zerolinecolor": "white"
           },
           "yaxis": {
            "backgroundcolor": "#E5ECF6",
            "gridcolor": "white",
            "gridwidth": 2,
            "linecolor": "white",
            "showbackground": true,
            "ticks": "",
            "zerolinecolor": "white"
           },
           "zaxis": {
            "backgroundcolor": "#E5ECF6",
            "gridcolor": "white",
            "gridwidth": 2,
            "linecolor": "white",
            "showbackground": true,
            "ticks": "",
            "zerolinecolor": "white"
           }
          },
          "shapedefaults": {
           "line": {
            "color": "#2a3f5f"
           }
          },
          "ternary": {
           "aaxis": {
            "gridcolor": "white",
            "linecolor": "white",
            "ticks": ""
           },
           "baxis": {
            "gridcolor": "white",
            "linecolor": "white",
            "ticks": ""
           },
           "bgcolor": "#E5ECF6",
           "caxis": {
            "gridcolor": "white",
            "linecolor": "white",
            "ticks": ""
           }
          },
          "title": {
           "x": 0.05
          },
          "xaxis": {
           "automargin": true,
           "gridcolor": "white",
           "linecolor": "white",
           "ticks": "",
           "title": {
            "standoff": 15
           },
           "zerolinecolor": "white",
           "zerolinewidth": 2
          },
          "yaxis": {
           "automargin": true,
           "gridcolor": "white",
           "linecolor": "white",
           "ticks": "",
           "title": {
            "standoff": 15
           },
           "zerolinecolor": "white",
           "zerolinewidth": 2
          }
         }
        },
        "title": {
         "text": "Average Rating per Model"
        },
        "xaxis": {
         "anchor": "y",
         "categoryarray": [
          "ChatGPT 3.5",
          "ChatGPT 4",
          "Gemini",
          "Gemini Advanced",
          "LLaMA 70b"
         ],
         "categoryorder": "array",
         "domain": [
          0,
          1
         ],
         "title": {
          "text": "Model_Name"
         }
        },
        "yaxis": {
         "anchor": "x",
         "domain": [
          0,
          1
         ],
         "title": {
          "text": "Average_rating"
         }
        }
       }
      }
     },
     "metadata": {},
     "output_type": "display_data"
    }
   ],
   "source": [
    "fig = px.bar(data_gb_model, x='Model_Name', y='Average_rating', \n",
    "             title='Average Rating per Model',\n",
    "             color='Model_Name') \n",
    "\n",
    "# add average labels on top of the bars\n",
    "for trace in fig.data:\n",
    "    for i, value in enumerate(trace['y']):\n",
    "        fig.add_annotation(\n",
    "            x=trace['x'][i],\n",
    "            y=value+0.35,\n",
    "            text=str(round(value, 2)),\n",
    "            showarrow=False,\n",
    "            font=dict(color='black')\n",
    "        )\n",
    "\n",
    "fig.update_layout(showlegend=False)\n",
    "\n",
    "fig.show()"
   ]
  },
  {
   "cell_type": "markdown",
   "metadata": {},
   "source": [
    "The distribution of ratings for each model"
   ]
  },
  {
   "cell_type": "code",
   "execution_count": 93,
   "metadata": {},
   "outputs": [
    {
     "data": {
      "application/vnd.plotly.v1+json": {
       "config": {
        "plotlyServerURL": "https://plot.ly"
       },
       "data": [
        {
         "alignmentgroup": "True",
         "hovertemplate": "Model_Name=%{x}<br>Average_rating=%{y}<extra></extra>",
         "legendgroup": "ChatGPT 3.5",
         "marker": {
          "color": "#636efa"
         },
         "name": "ChatGPT 3.5",
         "notched": false,
         "offsetgroup": "ChatGPT 3.5",
         "orientation": "v",
         "showlegend": true,
         "type": "box",
         "x": [
          "ChatGPT 3.5",
          "ChatGPT 3.5",
          "ChatGPT 3.5",
          "ChatGPT 3.5",
          "ChatGPT 3.5",
          "ChatGPT 3.5",
          "ChatGPT 3.5",
          "ChatGPT 3.5",
          "ChatGPT 3.5",
          "ChatGPT 3.5",
          "ChatGPT 3.5",
          "ChatGPT 3.5",
          "ChatGPT 3.5",
          "ChatGPT 3.5",
          "ChatGPT 3.5",
          "ChatGPT 3.5",
          "ChatGPT 3.5",
          "ChatGPT 3.5",
          "ChatGPT 3.5",
          "ChatGPT 3.5",
          "ChatGPT 3.5",
          "ChatGPT 3.5",
          "ChatGPT 3.5",
          "ChatGPT 3.5",
          "ChatGPT 3.5",
          "ChatGPT 3.5",
          "ChatGPT 3.5",
          "ChatGPT 3.5",
          "ChatGPT 3.5",
          "ChatGPT 3.5",
          "ChatGPT 3.5",
          "ChatGPT 3.5",
          "ChatGPT 3.5",
          "ChatGPT 3.5",
          "ChatGPT 3.5",
          "ChatGPT 3.5",
          "ChatGPT 3.5",
          "ChatGPT 3.5",
          "ChatGPT 3.5",
          "ChatGPT 3.5"
         ],
         "x0": " ",
         "xaxis": "x",
         "y": [
          7.5,
          8.5,
          5,
          9.666666666666666,
          1.6666666666666667,
          2.8333333333333335,
          6,
          6.5,
          4.5,
          8.166666666666666,
          6.5,
          6.166666666666667,
          7.833333333333333,
          7.166666666666667,
          4.166666666666667,
          4.833333333333333,
          7.5,
          7.833333333333333,
          6,
          5.5,
          5.833333333333333,
          6,
          3.5,
          3.8333333333333335,
          7.166666666666667,
          9.5,
          7.666666666666667,
          7.666666666666667,
          8,
          9.5,
          8.166666666666666,
          7.333333333333333,
          7.5,
          9.333333333333334,
          7,
          6.166666666666667,
          7.5,
          8,
          6.833333333333333,
          6.666666666666667
         ],
         "y0": " ",
         "yaxis": "y"
        },
        {
         "alignmentgroup": "True",
         "hovertemplate": "Model_Name=%{x}<br>Average_rating=%{y}<extra></extra>",
         "legendgroup": "ChatGPT 4",
         "marker": {
          "color": "#EF553B"
         },
         "name": "ChatGPT 4",
         "notched": false,
         "offsetgroup": "ChatGPT 4",
         "orientation": "v",
         "showlegend": true,
         "type": "box",
         "x": [
          "ChatGPT 4",
          "ChatGPT 4",
          "ChatGPT 4",
          "ChatGPT 4",
          "ChatGPT 4",
          "ChatGPT 4",
          "ChatGPT 4",
          "ChatGPT 4",
          "ChatGPT 4",
          "ChatGPT 4",
          "ChatGPT 4",
          "ChatGPT 4",
          "ChatGPT 4",
          "ChatGPT 4",
          "ChatGPT 4",
          "ChatGPT 4",
          "ChatGPT 4",
          "ChatGPT 4",
          "ChatGPT 4",
          "ChatGPT 4",
          "ChatGPT 4",
          "ChatGPT 4",
          "ChatGPT 4",
          "ChatGPT 4",
          "ChatGPT 4",
          "ChatGPT 4",
          "ChatGPT 4",
          "ChatGPT 4",
          "ChatGPT 4",
          "ChatGPT 4",
          "ChatGPT 4",
          "ChatGPT 4",
          "ChatGPT 4",
          "ChatGPT 4",
          "ChatGPT 4",
          "ChatGPT 4",
          "ChatGPT 4",
          "ChatGPT 4",
          "ChatGPT 4",
          "ChatGPT 4"
         ],
         "x0": " ",
         "xaxis": "x",
         "y": [
          5.5,
          5.333333333333333,
          8.166666666666666,
          9,
          7.666666666666667,
          3.6666666666666665,
          8,
          9,
          9,
          8.666666666666666,
          7.333333333333333,
          8.666666666666666,
          5.666666666666667,
          9.166666666666666,
          7.833333333333333,
          7.666666666666667,
          8,
          9.5,
          7.333333333333333,
          6.833333333333333,
          7.5,
          9.166666666666666,
          5.5,
          5.666666666666667,
          5.666666666666667,
          9.833333333333334,
          8.166666666666666,
          8.333333333333334,
          6.5,
          7.333333333333333,
          8.666666666666666,
          9,
          7.6,
          9.666666666666666,
          7.833333333333333,
          8,
          8,
          8.666666666666666,
          7.166666666666667,
          7.5
         ],
         "y0": " ",
         "yaxis": "y"
        },
        {
         "alignmentgroup": "True",
         "hovertemplate": "Model_Name=%{x}<br>Average_rating=%{y}<extra></extra>",
         "legendgroup": "Gemini",
         "marker": {
          "color": "#00cc96"
         },
         "name": "Gemini",
         "notched": false,
         "offsetgroup": "Gemini",
         "orientation": "v",
         "showlegend": true,
         "type": "box",
         "x": [
          "Gemini",
          "Gemini",
          "Gemini",
          "Gemini",
          "Gemini",
          "Gemini",
          "Gemini",
          "Gemini",
          "Gemini",
          "Gemini",
          "Gemini",
          "Gemini",
          "Gemini",
          "Gemini",
          "Gemini",
          "Gemini",
          "Gemini",
          "Gemini",
          "Gemini",
          "Gemini",
          "Gemini",
          "Gemini",
          "Gemini",
          "Gemini",
          "Gemini",
          "Gemini",
          "Gemini",
          "Gemini",
          "Gemini",
          "Gemini",
          "Gemini",
          "Gemini",
          "Gemini",
          "Gemini",
          "Gemini",
          "Gemini",
          "Gemini",
          "Gemini",
          "Gemini",
          "Gemini"
         ],
         "x0": " ",
         "xaxis": "x",
         "y": [
          5.666666666666667,
          7,
          5.833333333333333,
          6,
          9.5,
          5.5,
          8.666666666666666,
          7,
          5,
          5.5,
          7.833333333333333,
          6.166666666666667,
          8.833333333333334,
          8.666666666666666,
          5.5,
          5.5,
          5.833333333333333,
          7.666666666666667,
          6.666666666666667,
          6.833333333333333,
          6.333333333333333,
          5,
          3.8333333333333335,
          3.6666666666666665,
          9,
          9.833333333333334,
          6.5,
          7.166666666666667,
          7.166666666666667,
          8.666666666666666,
          9.166666666666666,
          9,
          8.333333333333334,
          9.833333333333334,
          8.666666666666666,
          9,
          7.833333333333333,
          6.5,
          7.333333333333333,
          2.3333333333333335
         ],
         "y0": " ",
         "yaxis": "y"
        },
        {
         "alignmentgroup": "True",
         "hovertemplate": "Model_Name=%{x}<br>Average_rating=%{y}<extra></extra>",
         "legendgroup": "Gemini Advanced",
         "marker": {
          "color": "#ab63fa"
         },
         "name": "Gemini Advanced",
         "notched": false,
         "offsetgroup": "Gemini Advanced",
         "orientation": "v",
         "showlegend": true,
         "type": "box",
         "x": [
          "Gemini Advanced",
          "Gemini Advanced",
          "Gemini Advanced",
          "Gemini Advanced",
          "Gemini Advanced",
          "Gemini Advanced",
          "Gemini Advanced",
          "Gemini Advanced",
          "Gemini Advanced",
          "Gemini Advanced",
          "Gemini Advanced",
          "Gemini Advanced",
          "Gemini Advanced",
          "Gemini Advanced",
          "Gemini Advanced",
          "Gemini Advanced",
          "Gemini Advanced",
          "Gemini Advanced",
          "Gemini Advanced",
          "Gemini Advanced",
          "Gemini Advanced",
          "Gemini Advanced",
          "Gemini Advanced",
          "Gemini Advanced",
          "Gemini Advanced",
          "Gemini Advanced",
          "Gemini Advanced",
          "Gemini Advanced",
          "Gemini Advanced",
          "Gemini Advanced",
          "Gemini Advanced",
          "Gemini Advanced",
          "Gemini Advanced",
          "Gemini Advanced",
          "Gemini Advanced",
          "Gemini Advanced",
          "Gemini Advanced",
          "Gemini Advanced",
          "Gemini Advanced",
          "Gemini Advanced"
         ],
         "x0": " ",
         "xaxis": "x",
         "y": [
          7.833333333333333,
          4.166666666666667,
          5.833333333333333,
          8.833333333333334,
          9.833333333333334,
          5.4,
          9.333333333333334,
          8.666666666666666,
          8.333333333333334,
          6.166666666666667,
          5.333333333333333,
          7.5,
          7,
          8,
          1,
          6.333333333333333,
          8.5,
          6.333333333333333,
          7.833333333333333,
          7.833333333333333,
          8.666666666666666,
          9.666666666666666,
          6.333333333333333,
          4.333333333333333,
          9.166666666666666,
          9.333333333333334,
          7.833333333333333,
          8,
          8,
          9.333333333333334,
          8.166666666666666,
          8.833333333333334,
          9,
          9.833333333333334,
          8.666666666666666,
          1,
          7.166666666666667,
          1.1666666666666667,
          2.8333333333333335,
          2.8333333333333335
         ],
         "y0": " ",
         "yaxis": "y"
        },
        {
         "alignmentgroup": "True",
         "hovertemplate": "Model_Name=%{x}<br>Average_rating=%{y}<extra></extra>",
         "legendgroup": "LLaMA 70b",
         "marker": {
          "color": "#FFA15A"
         },
         "name": "LLaMA 70b",
         "notched": false,
         "offsetgroup": "LLaMA 70b",
         "orientation": "v",
         "showlegend": true,
         "type": "box",
         "x": [
          "LLaMA 70b",
          "LLaMA 70b",
          "LLaMA 70b",
          "LLaMA 70b",
          "LLaMA 70b",
          "LLaMA 70b",
          "LLaMA 70b",
          "LLaMA 70b",
          "LLaMA 70b",
          "LLaMA 70b",
          "LLaMA 70b",
          "LLaMA 70b",
          "LLaMA 70b",
          "LLaMA 70b",
          "LLaMA 70b",
          "LLaMA 70b",
          "LLaMA 70b",
          "LLaMA 70b",
          "LLaMA 70b",
          "LLaMA 70b",
          "LLaMA 70b",
          "LLaMA 70b",
          "LLaMA 70b",
          "LLaMA 70b",
          "LLaMA 70b",
          "LLaMA 70b",
          "LLaMA 70b",
          "LLaMA 70b",
          "LLaMA 70b",
          "LLaMA 70b",
          "LLaMA 70b",
          "LLaMA 70b",
          "LLaMA 70b",
          "LLaMA 70b",
          "LLaMA 70b",
          "LLaMA 70b",
          "LLaMA 70b",
          "LLaMA 70b",
          "LLaMA 70b",
          "LLaMA 70b"
         ],
         "x0": " ",
         "xaxis": "x",
         "y": [
          5,
          7.833333333333333,
          7.5,
          9.5,
          1,
          1.1666666666666667,
          4.666666666666667,
          3,
          2.3333333333333335,
          6.333333333333333,
          8.666666666666666,
          8.5,
          8.666666666666666,
          8.833333333333334,
          1,
          2,
          4.666666666666667,
          4.333333333333333,
          3,
          3,
          4.5,
          5,
          1,
          3.1666666666666665,
          6.833333333333333,
          4,
          1,
          1,
          5.4,
          5.666666666666667,
          1,
          1,
          7.166666666666667,
          3.8333333333333335,
          1,
          1.5,
          4,
          3.1666666666666665,
          1.1666666666666667,
          1.6666666666666667
         ],
         "y0": " ",
         "yaxis": "y"
        }
       ],
       "layout": {
        "boxmode": "overlay",
        "legend": {
         "title": {
          "text": "Model_Name"
         },
         "tracegroupgap": 0
        },
        "showlegend": false,
        "template": {
         "data": {
          "bar": [
           {
            "error_x": {
             "color": "#2a3f5f"
            },
            "error_y": {
             "color": "#2a3f5f"
            },
            "marker": {
             "line": {
              "color": "#E5ECF6",
              "width": 0.5
             },
             "pattern": {
              "fillmode": "overlay",
              "size": 10,
              "solidity": 0.2
             }
            },
            "type": "bar"
           }
          ],
          "barpolar": [
           {
            "marker": {
             "line": {
              "color": "#E5ECF6",
              "width": 0.5
             },
             "pattern": {
              "fillmode": "overlay",
              "size": 10,
              "solidity": 0.2
             }
            },
            "type": "barpolar"
           }
          ],
          "carpet": [
           {
            "aaxis": {
             "endlinecolor": "#2a3f5f",
             "gridcolor": "white",
             "linecolor": "white",
             "minorgridcolor": "white",
             "startlinecolor": "#2a3f5f"
            },
            "baxis": {
             "endlinecolor": "#2a3f5f",
             "gridcolor": "white",
             "linecolor": "white",
             "minorgridcolor": "white",
             "startlinecolor": "#2a3f5f"
            },
            "type": "carpet"
           }
          ],
          "choropleth": [
           {
            "colorbar": {
             "outlinewidth": 0,
             "ticks": ""
            },
            "type": "choropleth"
           }
          ],
          "contour": [
           {
            "colorbar": {
             "outlinewidth": 0,
             "ticks": ""
            },
            "colorscale": [
             [
              0,
              "#0d0887"
             ],
             [
              0.1111111111111111,
              "#46039f"
             ],
             [
              0.2222222222222222,
              "#7201a8"
             ],
             [
              0.3333333333333333,
              "#9c179e"
             ],
             [
              0.4444444444444444,
              "#bd3786"
             ],
             [
              0.5555555555555556,
              "#d8576b"
             ],
             [
              0.6666666666666666,
              "#ed7953"
             ],
             [
              0.7777777777777778,
              "#fb9f3a"
             ],
             [
              0.8888888888888888,
              "#fdca26"
             ],
             [
              1,
              "#f0f921"
             ]
            ],
            "type": "contour"
           }
          ],
          "contourcarpet": [
           {
            "colorbar": {
             "outlinewidth": 0,
             "ticks": ""
            },
            "type": "contourcarpet"
           }
          ],
          "heatmap": [
           {
            "colorbar": {
             "outlinewidth": 0,
             "ticks": ""
            },
            "colorscale": [
             [
              0,
              "#0d0887"
             ],
             [
              0.1111111111111111,
              "#46039f"
             ],
             [
              0.2222222222222222,
              "#7201a8"
             ],
             [
              0.3333333333333333,
              "#9c179e"
             ],
             [
              0.4444444444444444,
              "#bd3786"
             ],
             [
              0.5555555555555556,
              "#d8576b"
             ],
             [
              0.6666666666666666,
              "#ed7953"
             ],
             [
              0.7777777777777778,
              "#fb9f3a"
             ],
             [
              0.8888888888888888,
              "#fdca26"
             ],
             [
              1,
              "#f0f921"
             ]
            ],
            "type": "heatmap"
           }
          ],
          "heatmapgl": [
           {
            "colorbar": {
             "outlinewidth": 0,
             "ticks": ""
            },
            "colorscale": [
             [
              0,
              "#0d0887"
             ],
             [
              0.1111111111111111,
              "#46039f"
             ],
             [
              0.2222222222222222,
              "#7201a8"
             ],
             [
              0.3333333333333333,
              "#9c179e"
             ],
             [
              0.4444444444444444,
              "#bd3786"
             ],
             [
              0.5555555555555556,
              "#d8576b"
             ],
             [
              0.6666666666666666,
              "#ed7953"
             ],
             [
              0.7777777777777778,
              "#fb9f3a"
             ],
             [
              0.8888888888888888,
              "#fdca26"
             ],
             [
              1,
              "#f0f921"
             ]
            ],
            "type": "heatmapgl"
           }
          ],
          "histogram": [
           {
            "marker": {
             "pattern": {
              "fillmode": "overlay",
              "size": 10,
              "solidity": 0.2
             }
            },
            "type": "histogram"
           }
          ],
          "histogram2d": [
           {
            "colorbar": {
             "outlinewidth": 0,
             "ticks": ""
            },
            "colorscale": [
             [
              0,
              "#0d0887"
             ],
             [
              0.1111111111111111,
              "#46039f"
             ],
             [
              0.2222222222222222,
              "#7201a8"
             ],
             [
              0.3333333333333333,
              "#9c179e"
             ],
             [
              0.4444444444444444,
              "#bd3786"
             ],
             [
              0.5555555555555556,
              "#d8576b"
             ],
             [
              0.6666666666666666,
              "#ed7953"
             ],
             [
              0.7777777777777778,
              "#fb9f3a"
             ],
             [
              0.8888888888888888,
              "#fdca26"
             ],
             [
              1,
              "#f0f921"
             ]
            ],
            "type": "histogram2d"
           }
          ],
          "histogram2dcontour": [
           {
            "colorbar": {
             "outlinewidth": 0,
             "ticks": ""
            },
            "colorscale": [
             [
              0,
              "#0d0887"
             ],
             [
              0.1111111111111111,
              "#46039f"
             ],
             [
              0.2222222222222222,
              "#7201a8"
             ],
             [
              0.3333333333333333,
              "#9c179e"
             ],
             [
              0.4444444444444444,
              "#bd3786"
             ],
             [
              0.5555555555555556,
              "#d8576b"
             ],
             [
              0.6666666666666666,
              "#ed7953"
             ],
             [
              0.7777777777777778,
              "#fb9f3a"
             ],
             [
              0.8888888888888888,
              "#fdca26"
             ],
             [
              1,
              "#f0f921"
             ]
            ],
            "type": "histogram2dcontour"
           }
          ],
          "mesh3d": [
           {
            "colorbar": {
             "outlinewidth": 0,
             "ticks": ""
            },
            "type": "mesh3d"
           }
          ],
          "parcoords": [
           {
            "line": {
             "colorbar": {
              "outlinewidth": 0,
              "ticks": ""
             }
            },
            "type": "parcoords"
           }
          ],
          "pie": [
           {
            "automargin": true,
            "type": "pie"
           }
          ],
          "scatter": [
           {
            "fillpattern": {
             "fillmode": "overlay",
             "size": 10,
             "solidity": 0.2
            },
            "type": "scatter"
           }
          ],
          "scatter3d": [
           {
            "line": {
             "colorbar": {
              "outlinewidth": 0,
              "ticks": ""
             }
            },
            "marker": {
             "colorbar": {
              "outlinewidth": 0,
              "ticks": ""
             }
            },
            "type": "scatter3d"
           }
          ],
          "scattercarpet": [
           {
            "marker": {
             "colorbar": {
              "outlinewidth": 0,
              "ticks": ""
             }
            },
            "type": "scattercarpet"
           }
          ],
          "scattergeo": [
           {
            "marker": {
             "colorbar": {
              "outlinewidth": 0,
              "ticks": ""
             }
            },
            "type": "scattergeo"
           }
          ],
          "scattergl": [
           {
            "marker": {
             "colorbar": {
              "outlinewidth": 0,
              "ticks": ""
             }
            },
            "type": "scattergl"
           }
          ],
          "scattermapbox": [
           {
            "marker": {
             "colorbar": {
              "outlinewidth": 0,
              "ticks": ""
             }
            },
            "type": "scattermapbox"
           }
          ],
          "scatterpolar": [
           {
            "marker": {
             "colorbar": {
              "outlinewidth": 0,
              "ticks": ""
             }
            },
            "type": "scatterpolar"
           }
          ],
          "scatterpolargl": [
           {
            "marker": {
             "colorbar": {
              "outlinewidth": 0,
              "ticks": ""
             }
            },
            "type": "scatterpolargl"
           }
          ],
          "scatterternary": [
           {
            "marker": {
             "colorbar": {
              "outlinewidth": 0,
              "ticks": ""
             }
            },
            "type": "scatterternary"
           }
          ],
          "surface": [
           {
            "colorbar": {
             "outlinewidth": 0,
             "ticks": ""
            },
            "colorscale": [
             [
              0,
              "#0d0887"
             ],
             [
              0.1111111111111111,
              "#46039f"
             ],
             [
              0.2222222222222222,
              "#7201a8"
             ],
             [
              0.3333333333333333,
              "#9c179e"
             ],
             [
              0.4444444444444444,
              "#bd3786"
             ],
             [
              0.5555555555555556,
              "#d8576b"
             ],
             [
              0.6666666666666666,
              "#ed7953"
             ],
             [
              0.7777777777777778,
              "#fb9f3a"
             ],
             [
              0.8888888888888888,
              "#fdca26"
             ],
             [
              1,
              "#f0f921"
             ]
            ],
            "type": "surface"
           }
          ],
          "table": [
           {
            "cells": {
             "fill": {
              "color": "#EBF0F8"
             },
             "line": {
              "color": "white"
             }
            },
            "header": {
             "fill": {
              "color": "#C8D4E3"
             },
             "line": {
              "color": "white"
             }
            },
            "type": "table"
           }
          ]
         },
         "layout": {
          "annotationdefaults": {
           "arrowcolor": "#2a3f5f",
           "arrowhead": 0,
           "arrowwidth": 1
          },
          "autotypenumbers": "strict",
          "coloraxis": {
           "colorbar": {
            "outlinewidth": 0,
            "ticks": ""
           }
          },
          "colorscale": {
           "diverging": [
            [
             0,
             "#8e0152"
            ],
            [
             0.1,
             "#c51b7d"
            ],
            [
             0.2,
             "#de77ae"
            ],
            [
             0.3,
             "#f1b6da"
            ],
            [
             0.4,
             "#fde0ef"
            ],
            [
             0.5,
             "#f7f7f7"
            ],
            [
             0.6,
             "#e6f5d0"
            ],
            [
             0.7,
             "#b8e186"
            ],
            [
             0.8,
             "#7fbc41"
            ],
            [
             0.9,
             "#4d9221"
            ],
            [
             1,
             "#276419"
            ]
           ],
           "sequential": [
            [
             0,
             "#0d0887"
            ],
            [
             0.1111111111111111,
             "#46039f"
            ],
            [
             0.2222222222222222,
             "#7201a8"
            ],
            [
             0.3333333333333333,
             "#9c179e"
            ],
            [
             0.4444444444444444,
             "#bd3786"
            ],
            [
             0.5555555555555556,
             "#d8576b"
            ],
            [
             0.6666666666666666,
             "#ed7953"
            ],
            [
             0.7777777777777778,
             "#fb9f3a"
            ],
            [
             0.8888888888888888,
             "#fdca26"
            ],
            [
             1,
             "#f0f921"
            ]
           ],
           "sequentialminus": [
            [
             0,
             "#0d0887"
            ],
            [
             0.1111111111111111,
             "#46039f"
            ],
            [
             0.2222222222222222,
             "#7201a8"
            ],
            [
             0.3333333333333333,
             "#9c179e"
            ],
            [
             0.4444444444444444,
             "#bd3786"
            ],
            [
             0.5555555555555556,
             "#d8576b"
            ],
            [
             0.6666666666666666,
             "#ed7953"
            ],
            [
             0.7777777777777778,
             "#fb9f3a"
            ],
            [
             0.8888888888888888,
             "#fdca26"
            ],
            [
             1,
             "#f0f921"
            ]
           ]
          },
          "colorway": [
           "#636efa",
           "#EF553B",
           "#00cc96",
           "#ab63fa",
           "#FFA15A",
           "#19d3f3",
           "#FF6692",
           "#B6E880",
           "#FF97FF",
           "#FECB52"
          ],
          "font": {
           "color": "#2a3f5f"
          },
          "geo": {
           "bgcolor": "white",
           "lakecolor": "white",
           "landcolor": "#E5ECF6",
           "showlakes": true,
           "showland": true,
           "subunitcolor": "white"
          },
          "hoverlabel": {
           "align": "left"
          },
          "hovermode": "closest",
          "mapbox": {
           "style": "light"
          },
          "paper_bgcolor": "white",
          "plot_bgcolor": "#E5ECF6",
          "polar": {
           "angularaxis": {
            "gridcolor": "white",
            "linecolor": "white",
            "ticks": ""
           },
           "bgcolor": "#E5ECF6",
           "radialaxis": {
            "gridcolor": "white",
            "linecolor": "white",
            "ticks": ""
           }
          },
          "scene": {
           "xaxis": {
            "backgroundcolor": "#E5ECF6",
            "gridcolor": "white",
            "gridwidth": 2,
            "linecolor": "white",
            "showbackground": true,
            "ticks": "",
            "zerolinecolor": "white"
           },
           "yaxis": {
            "backgroundcolor": "#E5ECF6",
            "gridcolor": "white",
            "gridwidth": 2,
            "linecolor": "white",
            "showbackground": true,
            "ticks": "",
            "zerolinecolor": "white"
           },
           "zaxis": {
            "backgroundcolor": "#E5ECF6",
            "gridcolor": "white",
            "gridwidth": 2,
            "linecolor": "white",
            "showbackground": true,
            "ticks": "",
            "zerolinecolor": "white"
           }
          },
          "shapedefaults": {
           "line": {
            "color": "#2a3f5f"
           }
          },
          "ternary": {
           "aaxis": {
            "gridcolor": "white",
            "linecolor": "white",
            "ticks": ""
           },
           "baxis": {
            "gridcolor": "white",
            "linecolor": "white",
            "ticks": ""
           },
           "bgcolor": "#E5ECF6",
           "caxis": {
            "gridcolor": "white",
            "linecolor": "white",
            "ticks": ""
           }
          },
          "title": {
           "x": 0.05
          },
          "xaxis": {
           "automargin": true,
           "gridcolor": "white",
           "linecolor": "white",
           "ticks": "",
           "title": {
            "standoff": 15
           },
           "zerolinecolor": "white",
           "zerolinewidth": 2
          },
          "yaxis": {
           "automargin": true,
           "gridcolor": "white",
           "linecolor": "white",
           "ticks": "",
           "title": {
            "standoff": 15
           },
           "zerolinecolor": "white",
           "zerolinewidth": 2
          }
         }
        },
        "title": {
         "text": "Rating Distribution by Model"
        },
        "xaxis": {
         "anchor": "y",
         "categoryarray": [
          "ChatGPT 3.5",
          "ChatGPT 4",
          "Gemini",
          "Gemini Advanced",
          "LLaMA 70b",
          null
         ],
         "categoryorder": "array",
         "domain": [
          0,
          1
         ],
         "title": {
          "text": "Model_Name"
         }
        },
        "yaxis": {
         "anchor": "x",
         "domain": [
          0,
          1
         ],
         "title": {
          "text": "Average_rating"
         }
        }
       }
      }
     },
     "metadata": {},
     "output_type": "display_data"
    }
   ],
   "source": [
    "fig = px.box(data, x='Model_Name', \n",
    "             y='Average_rating', title='Rating Distribution by Model', color='Model_Name')\n",
    "fig.update_layout(showlegend=False)\n",
    "fig.show()"
   ]
  },
  {
   "cell_type": "markdown",
   "metadata": {},
   "source": [
    "How did each model do in all topic?"
   ]
  },
  {
   "cell_type": "code",
   "execution_count": 95,
   "metadata": {},
   "outputs": [],
   "source": [
    "# # TODO run this after we get all model names\n",
    "# models = data['Model_Name'].unique()\n",
    "# topics = data['Topic'].unique()\n",
    "\n",
    "# # Create subplots\n",
    "# rows = len(models)\n",
    "# fig = make_subplots(rows=rows, cols=1, subplot_titles=models, vertical_spacing=0.05)\n",
    "\n",
    "# # Populate each subplot\n",
    "# for i, model in enumerate(models, start=1):\n",
    "#     model_data = data[data['Model_Name'] == model]\n",
    "#     for topic in topics:\n",
    "#         avg_rating = model_data[model_data['Topic'] == topic]['Average_rating'].values[0]\n",
    "#         fig.add_trace(go.Bar(x=[topic], y=[avg_rating], name=topic), row=i, col=1)\n",
    "\n",
    "# # Update layout\n",
    "# fig.update_layout(height=600, width=700, title_text=\"Model Performance by Topic\", showlegend=False)\n",
    "# fig.show()"
   ]
  },
  {
   "cell_type": "markdown",
   "metadata": {},
   "source": [
    "Distribution of Ratings by Reviewer"
   ]
  },
  {
   "cell_type": "code",
   "execution_count": 98,
   "metadata": {},
   "outputs": [],
   "source": [
    "ratings_data = data.filter(like='Rating').melt(var_name='Reviewer', value_name='Rating')"
   ]
  },
  {
   "cell_type": "code",
   "execution_count": 100,
   "metadata": {},
   "outputs": [
    {
     "data": {
      "application/vnd.plotly.v1+json": {
       "config": {
        "plotlyServerURL": "https://plot.ly"
       },
       "data": [
        {
         "alignmentgroup": "True",
         "hovertemplate": "Reviewer=%{x}<br>Rating=%{y}<extra></extra>",
         "legendgroup": "Rating_Christine",
         "marker": {
          "color": "#636efa"
         },
         "name": "Rating_Christine",
         "notched": false,
         "offsetgroup": "Rating_Christine",
         "orientation": "v",
         "showlegend": true,
         "type": "box",
         "x": [
          "Rating_Christine",
          "Rating_Christine",
          "Rating_Christine",
          "Rating_Christine",
          "Rating_Christine",
          "Rating_Christine",
          "Rating_Christine",
          "Rating_Christine",
          "Rating_Christine",
          "Rating_Christine",
          "Rating_Christine",
          "Rating_Christine",
          "Rating_Christine",
          "Rating_Christine",
          "Rating_Christine",
          "Rating_Christine",
          "Rating_Christine",
          "Rating_Christine",
          "Rating_Christine",
          "Rating_Christine",
          "Rating_Christine",
          "Rating_Christine",
          "Rating_Christine",
          "Rating_Christine",
          "Rating_Christine",
          "Rating_Christine",
          "Rating_Christine",
          "Rating_Christine",
          "Rating_Christine",
          "Rating_Christine",
          "Rating_Christine",
          "Rating_Christine",
          "Rating_Christine",
          "Rating_Christine",
          "Rating_Christine",
          "Rating_Christine",
          "Rating_Christine",
          "Rating_Christine",
          "Rating_Christine",
          "Rating_Christine",
          "Rating_Christine",
          "Rating_Christine",
          "Rating_Christine",
          "Rating_Christine",
          "Rating_Christine",
          "Rating_Christine",
          "Rating_Christine",
          "Rating_Christine",
          "Rating_Christine",
          "Rating_Christine",
          "Rating_Christine",
          "Rating_Christine",
          "Rating_Christine",
          "Rating_Christine",
          "Rating_Christine",
          "Rating_Christine",
          "Rating_Christine",
          "Rating_Christine",
          "Rating_Christine",
          "Rating_Christine",
          "Rating_Christine",
          "Rating_Christine",
          "Rating_Christine",
          "Rating_Christine",
          "Rating_Christine",
          "Rating_Christine",
          "Rating_Christine",
          "Rating_Christine",
          "Rating_Christine",
          "Rating_Christine",
          "Rating_Christine",
          "Rating_Christine",
          "Rating_Christine",
          "Rating_Christine",
          "Rating_Christine",
          "Rating_Christine",
          "Rating_Christine",
          "Rating_Christine",
          "Rating_Christine",
          "Rating_Christine",
          "Rating_Christine",
          "Rating_Christine",
          "Rating_Christine",
          "Rating_Christine",
          "Rating_Christine",
          "Rating_Christine",
          "Rating_Christine",
          "Rating_Christine",
          "Rating_Christine",
          "Rating_Christine",
          "Rating_Christine",
          "Rating_Christine",
          "Rating_Christine",
          "Rating_Christine",
          "Rating_Christine",
          "Rating_Christine",
          "Rating_Christine",
          "Rating_Christine",
          "Rating_Christine",
          "Rating_Christine",
          "Rating_Christine",
          "Rating_Christine",
          "Rating_Christine",
          "Rating_Christine",
          "Rating_Christine",
          "Rating_Christine",
          "Rating_Christine",
          "Rating_Christine",
          "Rating_Christine",
          "Rating_Christine",
          "Rating_Christine",
          "Rating_Christine",
          "Rating_Christine",
          "Rating_Christine",
          "Rating_Christine",
          "Rating_Christine",
          "Rating_Christine",
          "Rating_Christine",
          "Rating_Christine",
          "Rating_Christine",
          "Rating_Christine",
          "Rating_Christine",
          "Rating_Christine",
          "Rating_Christine",
          "Rating_Christine",
          "Rating_Christine",
          "Rating_Christine",
          "Rating_Christine",
          "Rating_Christine",
          "Rating_Christine",
          "Rating_Christine",
          "Rating_Christine",
          "Rating_Christine",
          "Rating_Christine",
          "Rating_Christine",
          "Rating_Christine",
          "Rating_Christine",
          "Rating_Christine",
          "Rating_Christine",
          "Rating_Christine",
          "Rating_Christine",
          "Rating_Christine",
          "Rating_Christine",
          "Rating_Christine",
          "Rating_Christine",
          "Rating_Christine",
          "Rating_Christine",
          "Rating_Christine",
          "Rating_Christine",
          "Rating_Christine",
          "Rating_Christine",
          "Rating_Christine",
          "Rating_Christine",
          "Rating_Christine",
          "Rating_Christine",
          "Rating_Christine",
          "Rating_Christine",
          "Rating_Christine",
          "Rating_Christine",
          "Rating_Christine",
          "Rating_Christine",
          "Rating_Christine",
          "Rating_Christine",
          "Rating_Christine",
          "Rating_Christine",
          "Rating_Christine",
          "Rating_Christine",
          "Rating_Christine",
          "Rating_Christine",
          "Rating_Christine",
          "Rating_Christine",
          "Rating_Christine",
          "Rating_Christine",
          "Rating_Christine",
          "Rating_Christine",
          "Rating_Christine",
          "Rating_Christine",
          "Rating_Christine",
          "Rating_Christine",
          "Rating_Christine",
          "Rating_Christine",
          "Rating_Christine",
          "Rating_Christine",
          "Rating_Christine",
          "Rating_Christine",
          "Rating_Christine",
          "Rating_Christine",
          "Rating_Christine",
          "Rating_Christine",
          "Rating_Christine",
          "Rating_Christine",
          "Rating_Christine",
          "Rating_Christine",
          "Rating_Christine",
          "Rating_Christine",
          "Rating_Christine",
          "Rating_Christine",
          "Rating_Christine",
          "Rating_Christine",
          "Rating_Christine",
          "Rating_Christine",
          "Rating_Christine",
          "Rating_Christine",
          "Rating_Christine",
          "Rating_Christine",
          "Rating_Christine",
          "Rating_Christine",
          "Rating_Christine",
          "Rating_Christine",
          "Rating_Christine",
          "Rating_Christine",
          "Rating_Christine",
          "Rating_Christine",
          "Rating_Christine",
          "Rating_Christine"
         ],
         "x0": " ",
         "xaxis": "x",
         "y": [
          8,
          4,
          4,
          8,
          6,
          8,
          5,
          8,
          5,
          9,
          5,
          7,
          4,
          8,
          6,
          10,
          10,
          8,
          10,
          10,
          2,
          8,
          10,
          10,
          1,
          1,
          8,
          6,
          5,
          1,
          10,
          4,
          10,
          10,
          10,
          8,
          10,
          7,
          10,
          6,
          3,
          2,
          10,
          10,
          10,
          3,
          7,
          4,
          5,
          9,
          2,
          9,
          6,
          7,
          9,
          1,
          8,
          10,
          9,
          8,
          5,
          7,
          8,
          3,
          9,
          6,
          7,
          8,
          7,
          7,
          9,
          7,
          9,
          6,
          7,
          9,
          6,
          7,
          6,
          7,
          8,
          7,
          7,
          7,
          7,
          2,
          5,
          6,
          9,
          7,
          7,
          8,
          10,
          6,
          6,
          8,
          9,
          4,
          4,
          9,
          8,
          2,
          3,
          7,
          7,
          8,
          8,
          7,
          6,
          3,
          3,
          5,
          6,
          1,
          3,
          8,
          7,
          8,
          8,
          9,
          9,
          6,
          6,
          9,
          8,
          1,
          2,
          4,
          5,
          4,
          4,
          6,
          3,
          1,
          2,
          8,
          9,
          8,
          8,
          8,
          10,
          9,
          8,
          8,
          8,
          7,
          7,
          7,
          10,
          8,
          8,
          7,
          9,
          9,
          9,
          7,
          10,
          8,
          8,
          9,
          9,
          7,
          7,
          7,
          9,
          9,
          9,
          8,
          10,
          9,
          8,
          8,
          9,
          8,
          9,
          8,
          10,
          8,
          9,
          9,
          10,
          9,
          1,
          7,
          4,
          1,
          1,
          3,
          7,
          1,
          1,
          7,
          4,
          1,
          2,
          8,
          7,
          6,
          7,
          8,
          8,
          7,
          8,
          9,
          7,
          7,
          4,
          6,
          1,
          3,
          3,
          3,
          4,
          1,
          1
         ],
         "y0": " ",
         "yaxis": "y"
        },
        {
         "alignmentgroup": "True",
         "hovertemplate": "Reviewer=%{x}<br>Rating=%{y}<extra></extra>",
         "legendgroup": "Rating_Ansam",
         "marker": {
          "color": "#EF553B"
         },
         "name": "Rating_Ansam",
         "notched": false,
         "offsetgroup": "Rating_Ansam",
         "orientation": "v",
         "showlegend": true,
         "type": "box",
         "x": [
          "Rating_Ansam",
          "Rating_Ansam",
          "Rating_Ansam",
          "Rating_Ansam",
          "Rating_Ansam",
          "Rating_Ansam",
          "Rating_Ansam",
          "Rating_Ansam",
          "Rating_Ansam",
          "Rating_Ansam",
          "Rating_Ansam",
          "Rating_Ansam",
          "Rating_Ansam",
          "Rating_Ansam",
          "Rating_Ansam",
          "Rating_Ansam",
          "Rating_Ansam",
          "Rating_Ansam",
          "Rating_Ansam",
          "Rating_Ansam",
          "Rating_Ansam",
          "Rating_Ansam",
          "Rating_Ansam",
          "Rating_Ansam",
          "Rating_Ansam",
          "Rating_Ansam",
          "Rating_Ansam",
          "Rating_Ansam",
          "Rating_Ansam",
          "Rating_Ansam",
          "Rating_Ansam",
          "Rating_Ansam",
          "Rating_Ansam",
          "Rating_Ansam",
          "Rating_Ansam",
          "Rating_Ansam",
          "Rating_Ansam",
          "Rating_Ansam",
          "Rating_Ansam",
          "Rating_Ansam",
          "Rating_Ansam",
          "Rating_Ansam",
          "Rating_Ansam",
          "Rating_Ansam",
          "Rating_Ansam",
          "Rating_Ansam",
          "Rating_Ansam",
          "Rating_Ansam",
          "Rating_Ansam",
          "Rating_Ansam",
          "Rating_Ansam",
          "Rating_Ansam",
          "Rating_Ansam",
          "Rating_Ansam",
          "Rating_Ansam",
          "Rating_Ansam",
          "Rating_Ansam",
          "Rating_Ansam",
          "Rating_Ansam",
          "Rating_Ansam",
          "Rating_Ansam",
          "Rating_Ansam",
          "Rating_Ansam",
          "Rating_Ansam",
          "Rating_Ansam",
          "Rating_Ansam",
          "Rating_Ansam",
          "Rating_Ansam",
          "Rating_Ansam",
          "Rating_Ansam",
          "Rating_Ansam",
          "Rating_Ansam",
          "Rating_Ansam",
          "Rating_Ansam",
          "Rating_Ansam",
          "Rating_Ansam",
          "Rating_Ansam",
          "Rating_Ansam",
          "Rating_Ansam",
          "Rating_Ansam",
          "Rating_Ansam",
          "Rating_Ansam",
          "Rating_Ansam",
          "Rating_Ansam",
          "Rating_Ansam",
          "Rating_Ansam",
          "Rating_Ansam",
          "Rating_Ansam",
          "Rating_Ansam",
          "Rating_Ansam",
          "Rating_Ansam",
          "Rating_Ansam",
          "Rating_Ansam",
          "Rating_Ansam",
          "Rating_Ansam",
          "Rating_Ansam",
          "Rating_Ansam",
          "Rating_Ansam",
          "Rating_Ansam",
          "Rating_Ansam",
          "Rating_Ansam",
          "Rating_Ansam",
          "Rating_Ansam",
          "Rating_Ansam",
          "Rating_Ansam",
          "Rating_Ansam",
          "Rating_Ansam",
          "Rating_Ansam",
          "Rating_Ansam",
          "Rating_Ansam",
          "Rating_Ansam",
          "Rating_Ansam",
          "Rating_Ansam",
          "Rating_Ansam",
          "Rating_Ansam",
          "Rating_Ansam",
          "Rating_Ansam",
          "Rating_Ansam",
          "Rating_Ansam",
          "Rating_Ansam",
          "Rating_Ansam",
          "Rating_Ansam",
          "Rating_Ansam",
          "Rating_Ansam",
          "Rating_Ansam",
          "Rating_Ansam",
          "Rating_Ansam",
          "Rating_Ansam",
          "Rating_Ansam",
          "Rating_Ansam",
          "Rating_Ansam",
          "Rating_Ansam",
          "Rating_Ansam",
          "Rating_Ansam",
          "Rating_Ansam",
          "Rating_Ansam",
          "Rating_Ansam",
          "Rating_Ansam",
          "Rating_Ansam",
          "Rating_Ansam",
          "Rating_Ansam",
          "Rating_Ansam",
          "Rating_Ansam",
          "Rating_Ansam",
          "Rating_Ansam",
          "Rating_Ansam",
          "Rating_Ansam",
          "Rating_Ansam",
          "Rating_Ansam",
          "Rating_Ansam",
          "Rating_Ansam",
          "Rating_Ansam",
          "Rating_Ansam",
          "Rating_Ansam",
          "Rating_Ansam",
          "Rating_Ansam",
          "Rating_Ansam",
          "Rating_Ansam",
          "Rating_Ansam",
          "Rating_Ansam",
          "Rating_Ansam",
          "Rating_Ansam",
          "Rating_Ansam",
          "Rating_Ansam",
          "Rating_Ansam",
          "Rating_Ansam",
          "Rating_Ansam",
          "Rating_Ansam",
          "Rating_Ansam",
          "Rating_Ansam",
          "Rating_Ansam",
          "Rating_Ansam",
          "Rating_Ansam",
          "Rating_Ansam",
          "Rating_Ansam",
          "Rating_Ansam",
          "Rating_Ansam",
          "Rating_Ansam",
          "Rating_Ansam",
          "Rating_Ansam",
          "Rating_Ansam",
          "Rating_Ansam",
          "Rating_Ansam",
          "Rating_Ansam",
          "Rating_Ansam",
          "Rating_Ansam",
          "Rating_Ansam",
          "Rating_Ansam",
          "Rating_Ansam",
          "Rating_Ansam",
          "Rating_Ansam",
          "Rating_Ansam",
          "Rating_Ansam",
          "Rating_Ansam",
          "Rating_Ansam",
          "Rating_Ansam",
          "Rating_Ansam",
          "Rating_Ansam",
          "Rating_Ansam",
          "Rating_Ansam",
          "Rating_Ansam",
          "Rating_Ansam",
          "Rating_Ansam",
          "Rating_Ansam",
          "Rating_Ansam",
          "Rating_Ansam",
          "Rating_Ansam",
          "Rating_Ansam",
          "Rating_Ansam",
          "Rating_Ansam",
          "Rating_Ansam",
          "Rating_Ansam",
          "Rating_Ansam",
          "Rating_Ansam",
          "Rating_Ansam"
         ],
         "x0": " ",
         "xaxis": "x",
         "y": [
          7,
          6,
          9,
          10,
          5,
          10,
          6,
          8,
          4,
          8,
          6,
          10,
          9,
          6,
          10,
          10,
          10,
          8,
          10,
          10,
          1,
          9,
          10,
          10,
          1,
          2,
          2,
          5,
          4,
          1,
          10,
          2,
          10,
          10,
          10,
          9,
          9,
          8,
          10,
          7,
          4,
          1,
          9,
          9,
          10,
          9,
          10,
          10,
          10,
          10,
          5,
          6,
          6,
          9,
          8,
          4,
          2,
          1,
          10,
          9,
          6,
          4,
          8,
          9,
          10,
          6,
          8,
          9,
          10,
          6,
          7,
          9,
          10,
          7,
          6,
          7,
          7,
          5,
          6,
          7,
          8,
          8,
          7,
          7,
          6,
          5,
          4,
          5,
          10,
          9,
          10,
          6,
          10,
          8,
          8,
          7,
          10,
          4,
          6,
          8,
          9,
          2,
          6,
          6,
          8,
          9,
          9,
          7,
          4,
          4,
          5,
          9,
          8,
          1,
          9,
          7,
          6,
          7,
          6,
          8,
          10,
          2,
          4,
          8,
          9,
          1,
          2,
          7,
          3,
          6,
          6,
          5,
          6,
          1,
          2,
          5,
          10,
          10,
          10,
          8,
          10,
          8,
          7,
          8,
          9,
          7,
          6,
          5,
          10,
          9,
          9,
          7,
          7,
          10,
          10,
          8,
          10,
          8,
          9,
          9,
          10,
          8,
          8,
          9,
          10,
          10,
          10,
          10,
          10,
          10,
          10,
          10,
          8,
          9,
          10,
          9,
          10,
          9,
          10,
          10,
          10,
          10,
          1,
          9,
          6,
          1,
          1,
          7,
          5,
          1,
          1,
          7,
          2,
          1,
          2,
          7,
          8,
          7,
          7,
          8,
          9,
          7,
          7,
          8,
          8,
          8,
          3,
          8,
          1,
          4,
          4,
          6,
          5,
          2,
          2
         ],
         "y0": " ",
         "yaxis": "y"
        },
        {
         "alignmentgroup": "True",
         "hovertemplate": "Reviewer=%{x}<br>Rating=%{y}<extra></extra>",
         "legendgroup": "Rating_Adrian",
         "marker": {
          "color": "#00cc96"
         },
         "name": "Rating_Adrian",
         "notched": false,
         "offsetgroup": "Rating_Adrian",
         "orientation": "v",
         "showlegend": true,
         "type": "box",
         "x": [
          "Rating_Adrian",
          "Rating_Adrian",
          "Rating_Adrian",
          "Rating_Adrian",
          "Rating_Adrian",
          "Rating_Adrian",
          "Rating_Adrian",
          "Rating_Adrian",
          "Rating_Adrian",
          "Rating_Adrian",
          "Rating_Adrian",
          "Rating_Adrian",
          "Rating_Adrian",
          "Rating_Adrian",
          "Rating_Adrian",
          "Rating_Adrian",
          "Rating_Adrian",
          "Rating_Adrian",
          "Rating_Adrian",
          "Rating_Adrian",
          "Rating_Adrian",
          "Rating_Adrian",
          "Rating_Adrian",
          "Rating_Adrian",
          "Rating_Adrian",
          "Rating_Adrian",
          "Rating_Adrian",
          "Rating_Adrian",
          "Rating_Adrian",
          "Rating_Adrian",
          "Rating_Adrian",
          "Rating_Adrian",
          "Rating_Adrian",
          "Rating_Adrian",
          "Rating_Adrian",
          "Rating_Adrian",
          "Rating_Adrian",
          "Rating_Adrian",
          "Rating_Adrian",
          "Rating_Adrian",
          "Rating_Adrian",
          "Rating_Adrian",
          "Rating_Adrian",
          "Rating_Adrian",
          "Rating_Adrian",
          "Rating_Adrian",
          "Rating_Adrian",
          "Rating_Adrian",
          "Rating_Adrian",
          "Rating_Adrian",
          "Rating_Adrian",
          "Rating_Adrian",
          "Rating_Adrian",
          "Rating_Adrian",
          "Rating_Adrian",
          "Rating_Adrian",
          "Rating_Adrian",
          "Rating_Adrian",
          "Rating_Adrian",
          "Rating_Adrian",
          "Rating_Adrian",
          "Rating_Adrian",
          "Rating_Adrian",
          "Rating_Adrian",
          "Rating_Adrian",
          "Rating_Adrian",
          "Rating_Adrian",
          "Rating_Adrian",
          "Rating_Adrian",
          "Rating_Adrian",
          "Rating_Adrian",
          "Rating_Adrian",
          "Rating_Adrian",
          "Rating_Adrian",
          "Rating_Adrian",
          "Rating_Adrian",
          "Rating_Adrian",
          "Rating_Adrian",
          "Rating_Adrian",
          "Rating_Adrian",
          "Rating_Adrian",
          "Rating_Adrian",
          "Rating_Adrian",
          "Rating_Adrian",
          "Rating_Adrian",
          "Rating_Adrian",
          "Rating_Adrian",
          "Rating_Adrian",
          "Rating_Adrian",
          "Rating_Adrian",
          "Rating_Adrian",
          "Rating_Adrian",
          "Rating_Adrian",
          "Rating_Adrian",
          "Rating_Adrian",
          "Rating_Adrian",
          "Rating_Adrian",
          "Rating_Adrian",
          "Rating_Adrian",
          "Rating_Adrian",
          "Rating_Adrian",
          "Rating_Adrian",
          "Rating_Adrian",
          "Rating_Adrian",
          "Rating_Adrian",
          "Rating_Adrian",
          "Rating_Adrian",
          "Rating_Adrian",
          "Rating_Adrian",
          "Rating_Adrian",
          "Rating_Adrian",
          "Rating_Adrian",
          "Rating_Adrian",
          "Rating_Adrian",
          "Rating_Adrian",
          "Rating_Adrian",
          "Rating_Adrian",
          "Rating_Adrian",
          "Rating_Adrian",
          "Rating_Adrian",
          "Rating_Adrian",
          "Rating_Adrian",
          "Rating_Adrian",
          "Rating_Adrian",
          "Rating_Adrian",
          "Rating_Adrian",
          "Rating_Adrian",
          "Rating_Adrian",
          "Rating_Adrian",
          "Rating_Adrian",
          "Rating_Adrian",
          "Rating_Adrian",
          "Rating_Adrian",
          "Rating_Adrian",
          "Rating_Adrian",
          "Rating_Adrian",
          "Rating_Adrian",
          "Rating_Adrian",
          "Rating_Adrian",
          "Rating_Adrian",
          "Rating_Adrian",
          "Rating_Adrian",
          "Rating_Adrian",
          "Rating_Adrian",
          "Rating_Adrian",
          "Rating_Adrian",
          "Rating_Adrian",
          "Rating_Adrian",
          "Rating_Adrian",
          "Rating_Adrian",
          "Rating_Adrian",
          "Rating_Adrian",
          "Rating_Adrian",
          "Rating_Adrian",
          "Rating_Adrian",
          "Rating_Adrian",
          "Rating_Adrian",
          "Rating_Adrian",
          "Rating_Adrian",
          "Rating_Adrian",
          "Rating_Adrian",
          "Rating_Adrian",
          "Rating_Adrian",
          "Rating_Adrian",
          "Rating_Adrian",
          "Rating_Adrian",
          "Rating_Adrian",
          "Rating_Adrian",
          "Rating_Adrian",
          "Rating_Adrian",
          "Rating_Adrian",
          "Rating_Adrian",
          "Rating_Adrian",
          "Rating_Adrian",
          "Rating_Adrian",
          "Rating_Adrian",
          "Rating_Adrian",
          "Rating_Adrian",
          "Rating_Adrian",
          "Rating_Adrian",
          "Rating_Adrian",
          "Rating_Adrian",
          "Rating_Adrian",
          "Rating_Adrian",
          "Rating_Adrian",
          "Rating_Adrian",
          "Rating_Adrian",
          "Rating_Adrian",
          "Rating_Adrian",
          "Rating_Adrian",
          "Rating_Adrian",
          "Rating_Adrian",
          "Rating_Adrian",
          "Rating_Adrian",
          "Rating_Adrian",
          "Rating_Adrian",
          "Rating_Adrian",
          "Rating_Adrian",
          "Rating_Adrian",
          "Rating_Adrian",
          "Rating_Adrian",
          "Rating_Adrian",
          "Rating_Adrian",
          "Rating_Adrian",
          "Rating_Adrian",
          "Rating_Adrian",
          "Rating_Adrian",
          "Rating_Adrian",
          "Rating_Adrian",
          "Rating_Adrian",
          "Rating_Adrian",
          "Rating_Adrian",
          "Rating_Adrian",
          "Rating_Adrian",
          "Rating_Adrian"
         ],
         "x0": " ",
         "xaxis": "x",
         "y": [
          7,
          7,
          4,
          5,
          3,
          8,
          3,
          6,
          4,
          4,
          6,
          8,
          5,
          6,
          4,
          9,
          7,
          2,
          9,
          8,
          2,
          6,
          9,
          9,
          1,
          5,
          2,
          5,
          6,
          1,
          10,
          4,
          10,
          10,
          10,
          8,
          9,
          8,
          10,
          6,
          2,
          3,
          8,
          9,
          10,
          2,
          9,
          3,
          8,
          9,
          2,
          9,
          7,
          8,
          9,
          3,
          8,
          8,
          9,
          9,
          7,
          8,
          8,
          3,
          8,
          5,
          7,
          6,
          9,
          7,
          9,
          9,
          8,
          6,
          5,
          9,
          8,
          3,
          3,
          8,
          8,
          2,
          1,
          3,
          5,
          2,
          2,
          8,
          10,
          9,
          8,
          8,
          9,
          8,
          8,
          9,
          10,
          7,
          7,
          9,
          10,
          10,
          8,
          6,
          7,
          5,
          5,
          5,
          5,
          6,
          7,
          6,
          8,
          1,
          9,
          9,
          4,
          10,
          10,
          9,
          10,
          10,
          5,
          10,
          7,
          1,
          2,
          3,
          5,
          1,
          1,
          3,
          5,
          1,
          2,
          5,
          10,
          7,
          8,
          7,
          10,
          8,
          7,
          5,
          10,
          8,
          7,
          5,
          10,
          8,
          9,
          5,
          9,
          9,
          9,
          8,
          10,
          7,
          8,
          9,
          10,
          7,
          8,
          6,
          10,
          10,
          9,
          8,
          10,
          9,
          10,
          10,
          10,
          7,
          8,
          7,
          10,
          8,
          9,
          8,
          10,
          9,
          1,
          6,
          4,
          1,
          1,
          6,
          4,
          1,
          1,
          7,
          5,
          1,
          1,
          8,
          9,
          8,
          6,
          8,
          10,
          8,
          7,
          7,
          8,
          8,
          2,
          8,
          1,
          3,
          2,
          2,
          3,
          1,
          3
         ],
         "y0": " ",
         "yaxis": "y"
        },
        {
         "alignmentgroup": "True",
         "hovertemplate": "Reviewer=%{x}<br>Rating=%{y}<extra></extra>",
         "legendgroup": "Rating_Mike",
         "marker": {
          "color": "#ab63fa"
         },
         "name": "Rating_Mike",
         "notched": false,
         "offsetgroup": "Rating_Mike",
         "orientation": "v",
         "showlegend": true,
         "type": "box",
         "x": [
          "Rating_Mike",
          "Rating_Mike",
          "Rating_Mike",
          "Rating_Mike",
          "Rating_Mike",
          "Rating_Mike",
          "Rating_Mike",
          "Rating_Mike",
          "Rating_Mike",
          "Rating_Mike",
          "Rating_Mike",
          "Rating_Mike",
          "Rating_Mike",
          "Rating_Mike",
          "Rating_Mike",
          "Rating_Mike",
          "Rating_Mike",
          "Rating_Mike",
          "Rating_Mike",
          "Rating_Mike",
          "Rating_Mike",
          "Rating_Mike",
          "Rating_Mike",
          "Rating_Mike",
          "Rating_Mike",
          "Rating_Mike",
          "Rating_Mike",
          "Rating_Mike",
          "Rating_Mike",
          "Rating_Mike",
          "Rating_Mike",
          "Rating_Mike",
          "Rating_Mike",
          "Rating_Mike",
          "Rating_Mike",
          "Rating_Mike",
          "Rating_Mike",
          "Rating_Mike",
          "Rating_Mike",
          "Rating_Mike",
          "Rating_Mike",
          "Rating_Mike",
          "Rating_Mike",
          "Rating_Mike",
          "Rating_Mike",
          "Rating_Mike",
          "Rating_Mike",
          "Rating_Mike",
          "Rating_Mike",
          "Rating_Mike",
          "Rating_Mike",
          "Rating_Mike",
          "Rating_Mike",
          "Rating_Mike",
          "Rating_Mike",
          "Rating_Mike",
          "Rating_Mike",
          "Rating_Mike",
          "Rating_Mike",
          "Rating_Mike",
          "Rating_Mike",
          "Rating_Mike",
          "Rating_Mike",
          "Rating_Mike",
          "Rating_Mike",
          "Rating_Mike",
          "Rating_Mike",
          "Rating_Mike",
          "Rating_Mike",
          "Rating_Mike",
          "Rating_Mike",
          "Rating_Mike",
          "Rating_Mike",
          "Rating_Mike",
          "Rating_Mike",
          "Rating_Mike",
          "Rating_Mike",
          "Rating_Mike",
          "Rating_Mike",
          "Rating_Mike",
          "Rating_Mike",
          "Rating_Mike",
          "Rating_Mike",
          "Rating_Mike",
          "Rating_Mike",
          "Rating_Mike",
          "Rating_Mike",
          "Rating_Mike",
          "Rating_Mike",
          "Rating_Mike",
          "Rating_Mike",
          "Rating_Mike",
          "Rating_Mike",
          "Rating_Mike",
          "Rating_Mike",
          "Rating_Mike",
          "Rating_Mike",
          "Rating_Mike",
          "Rating_Mike",
          "Rating_Mike",
          "Rating_Mike",
          "Rating_Mike",
          "Rating_Mike",
          "Rating_Mike",
          "Rating_Mike",
          "Rating_Mike",
          "Rating_Mike",
          "Rating_Mike",
          "Rating_Mike",
          "Rating_Mike",
          "Rating_Mike",
          "Rating_Mike",
          "Rating_Mike",
          "Rating_Mike",
          "Rating_Mike",
          "Rating_Mike",
          "Rating_Mike",
          "Rating_Mike",
          "Rating_Mike",
          "Rating_Mike",
          "Rating_Mike",
          "Rating_Mike",
          "Rating_Mike",
          "Rating_Mike",
          "Rating_Mike",
          "Rating_Mike",
          "Rating_Mike",
          "Rating_Mike",
          "Rating_Mike",
          "Rating_Mike",
          "Rating_Mike",
          "Rating_Mike",
          "Rating_Mike",
          "Rating_Mike",
          "Rating_Mike",
          "Rating_Mike",
          "Rating_Mike",
          "Rating_Mike",
          "Rating_Mike",
          "Rating_Mike",
          "Rating_Mike",
          "Rating_Mike",
          "Rating_Mike",
          "Rating_Mike",
          "Rating_Mike",
          "Rating_Mike",
          "Rating_Mike",
          "Rating_Mike",
          "Rating_Mike",
          "Rating_Mike",
          "Rating_Mike",
          "Rating_Mike",
          "Rating_Mike",
          "Rating_Mike",
          "Rating_Mike",
          "Rating_Mike",
          "Rating_Mike",
          "Rating_Mike",
          "Rating_Mike",
          "Rating_Mike",
          "Rating_Mike",
          "Rating_Mike",
          "Rating_Mike",
          "Rating_Mike",
          "Rating_Mike",
          "Rating_Mike",
          "Rating_Mike",
          "Rating_Mike",
          "Rating_Mike",
          "Rating_Mike",
          "Rating_Mike",
          "Rating_Mike",
          "Rating_Mike",
          "Rating_Mike",
          "Rating_Mike",
          "Rating_Mike",
          "Rating_Mike",
          "Rating_Mike",
          "Rating_Mike",
          "Rating_Mike",
          "Rating_Mike",
          "Rating_Mike",
          "Rating_Mike",
          "Rating_Mike",
          "Rating_Mike",
          "Rating_Mike",
          "Rating_Mike",
          "Rating_Mike",
          "Rating_Mike",
          "Rating_Mike",
          "Rating_Mike",
          "Rating_Mike",
          "Rating_Mike",
          "Rating_Mike",
          "Rating_Mike",
          "Rating_Mike",
          "Rating_Mike",
          "Rating_Mike",
          "Rating_Mike",
          "Rating_Mike",
          "Rating_Mike",
          "Rating_Mike",
          "Rating_Mike",
          "Rating_Mike",
          "Rating_Mike",
          "Rating_Mike",
          "Rating_Mike",
          "Rating_Mike",
          "Rating_Mike",
          "Rating_Mike",
          "Rating_Mike",
          "Rating_Mike",
          "Rating_Mike",
          "Rating_Mike",
          "Rating_Mike"
         ],
         "x0": " ",
         "xaxis": "x",
         "y": [
          8,
          4,
          3,
          9,
          7,
          9,
          5,
          7,
          4,
          8,
          4,
          8,
          3,
          6,
          7,
          10,
          8,
          5,
          7,
          10,
          1,
          8,
          9,
          10,
          1,
          1,
          4,
          5,
          null,
          1,
          10,
          1,
          10,
          9,
          10,
          7,
          6,
          6,
          9,
          6,
          3,
          1,
          10,
          10,
          10,
          3,
          6,
          3,
          7,
          9,
          2,
          4,
          5,
          10,
          8,
          3,
          5,
          1,
          9,
          7,
          5,
          6,
          7,
          6,
          7,
          5,
          7,
          7,
          8,
          6,
          7,
          8,
          7,
          5,
          5,
          7,
          7,
          1,
          3,
          8,
          9,
          6,
          5,
          4,
          7,
          7,
          5,
          5,
          10,
          7,
          7,
          8,
          10,
          8,
          5,
          7,
          10,
          8,
          7,
          9,
          9,
          6,
          8,
          5,
          9,
          5,
          6,
          5,
          3,
          4,
          3,
          8,
          9,
          1,
          8,
          9,
          6,
          9,
          9,
          9,
          10,
          9,
          7,
          8,
          9,
          1,
          2,
          4,
          3,
          2,
          2,
          4,
          7,
          1,
          2,
          8,
          9,
          8,
          7,
          7,
          9,
          9,
          8,
          8,
          10,
          7,
          6,
          5,
          10,
          9,
          9,
          6,
          6,
          9,
          10,
          null,
          8,
          8,
          8,
          8,
          10,
          6,
          7,
          6,
          8,
          9,
          9,
          7,
          9,
          9,
          9,
          9,
          10,
          8,
          8,
          null,
          9,
          9,
          8,
          9,
          9,
          8,
          1,
          5,
          3,
          1,
          1,
          null,
          8,
          1,
          1,
          8,
          5,
          1,
          1,
          7,
          8,
          7,
          6,
          8,
          8,
          8,
          8,
          7,
          4,
          7,
          2,
          7,
          2,
          2,
          2,
          3,
          3,
          1,
          1
         ],
         "y0": " ",
         "yaxis": "y"
        },
        {
         "alignmentgroup": "True",
         "hovertemplate": "Reviewer=%{x}<br>Rating=%{y}<extra></extra>",
         "legendgroup": "Rating_Albin",
         "marker": {
          "color": "#FFA15A"
         },
         "name": "Rating_Albin",
         "notched": false,
         "offsetgroup": "Rating_Albin",
         "orientation": "v",
         "showlegend": true,
         "type": "box",
         "x": [
          "Rating_Albin",
          "Rating_Albin",
          "Rating_Albin",
          "Rating_Albin",
          "Rating_Albin",
          "Rating_Albin",
          "Rating_Albin",
          "Rating_Albin",
          "Rating_Albin",
          "Rating_Albin",
          "Rating_Albin",
          "Rating_Albin",
          "Rating_Albin",
          "Rating_Albin",
          "Rating_Albin",
          "Rating_Albin",
          "Rating_Albin",
          "Rating_Albin",
          "Rating_Albin",
          "Rating_Albin",
          "Rating_Albin",
          "Rating_Albin",
          "Rating_Albin",
          "Rating_Albin",
          "Rating_Albin",
          "Rating_Albin",
          "Rating_Albin",
          "Rating_Albin",
          "Rating_Albin",
          "Rating_Albin",
          "Rating_Albin",
          "Rating_Albin",
          "Rating_Albin",
          "Rating_Albin",
          "Rating_Albin",
          "Rating_Albin",
          "Rating_Albin",
          "Rating_Albin",
          "Rating_Albin",
          "Rating_Albin",
          "Rating_Albin",
          "Rating_Albin",
          "Rating_Albin",
          "Rating_Albin",
          "Rating_Albin",
          "Rating_Albin",
          "Rating_Albin",
          "Rating_Albin",
          "Rating_Albin",
          "Rating_Albin",
          "Rating_Albin",
          "Rating_Albin",
          "Rating_Albin",
          "Rating_Albin",
          "Rating_Albin",
          "Rating_Albin",
          "Rating_Albin",
          "Rating_Albin",
          "Rating_Albin",
          "Rating_Albin",
          "Rating_Albin",
          "Rating_Albin",
          "Rating_Albin",
          "Rating_Albin",
          "Rating_Albin",
          "Rating_Albin",
          "Rating_Albin",
          "Rating_Albin",
          "Rating_Albin",
          "Rating_Albin",
          "Rating_Albin",
          "Rating_Albin",
          "Rating_Albin",
          "Rating_Albin",
          "Rating_Albin",
          "Rating_Albin",
          "Rating_Albin",
          "Rating_Albin",
          "Rating_Albin",
          "Rating_Albin",
          "Rating_Albin",
          "Rating_Albin",
          "Rating_Albin",
          "Rating_Albin",
          "Rating_Albin",
          "Rating_Albin",
          "Rating_Albin",
          "Rating_Albin",
          "Rating_Albin",
          "Rating_Albin",
          "Rating_Albin",
          "Rating_Albin",
          "Rating_Albin",
          "Rating_Albin",
          "Rating_Albin",
          "Rating_Albin",
          "Rating_Albin",
          "Rating_Albin",
          "Rating_Albin",
          "Rating_Albin",
          "Rating_Albin",
          "Rating_Albin",
          "Rating_Albin",
          "Rating_Albin",
          "Rating_Albin",
          "Rating_Albin",
          "Rating_Albin",
          "Rating_Albin",
          "Rating_Albin",
          "Rating_Albin",
          "Rating_Albin",
          "Rating_Albin",
          "Rating_Albin",
          "Rating_Albin",
          "Rating_Albin",
          "Rating_Albin",
          "Rating_Albin",
          "Rating_Albin",
          "Rating_Albin",
          "Rating_Albin",
          "Rating_Albin",
          "Rating_Albin",
          "Rating_Albin",
          "Rating_Albin",
          "Rating_Albin",
          "Rating_Albin",
          "Rating_Albin",
          "Rating_Albin",
          "Rating_Albin",
          "Rating_Albin",
          "Rating_Albin",
          "Rating_Albin",
          "Rating_Albin",
          "Rating_Albin",
          "Rating_Albin",
          "Rating_Albin",
          "Rating_Albin",
          "Rating_Albin",
          "Rating_Albin",
          "Rating_Albin",
          "Rating_Albin",
          "Rating_Albin",
          "Rating_Albin",
          "Rating_Albin",
          "Rating_Albin",
          "Rating_Albin",
          "Rating_Albin",
          "Rating_Albin",
          "Rating_Albin",
          "Rating_Albin",
          "Rating_Albin",
          "Rating_Albin",
          "Rating_Albin",
          "Rating_Albin",
          "Rating_Albin",
          "Rating_Albin",
          "Rating_Albin",
          "Rating_Albin",
          "Rating_Albin",
          "Rating_Albin",
          "Rating_Albin",
          "Rating_Albin",
          "Rating_Albin",
          "Rating_Albin",
          "Rating_Albin",
          "Rating_Albin",
          "Rating_Albin",
          "Rating_Albin",
          "Rating_Albin",
          "Rating_Albin",
          "Rating_Albin",
          "Rating_Albin",
          "Rating_Albin",
          "Rating_Albin",
          "Rating_Albin",
          "Rating_Albin",
          "Rating_Albin",
          "Rating_Albin",
          "Rating_Albin",
          "Rating_Albin",
          "Rating_Albin",
          "Rating_Albin",
          "Rating_Albin",
          "Rating_Albin",
          "Rating_Albin",
          "Rating_Albin",
          "Rating_Albin",
          "Rating_Albin",
          "Rating_Albin",
          "Rating_Albin",
          "Rating_Albin",
          "Rating_Albin",
          "Rating_Albin",
          "Rating_Albin",
          "Rating_Albin",
          "Rating_Albin",
          "Rating_Albin",
          "Rating_Albin",
          "Rating_Albin",
          "Rating_Albin",
          "Rating_Albin",
          "Rating_Albin",
          "Rating_Albin",
          "Rating_Albin",
          "Rating_Albin",
          "Rating_Albin",
          "Rating_Albin",
          "Rating_Albin",
          "Rating_Albin",
          "Rating_Albin",
          "Rating_Albin",
          "Rating_Albin",
          "Rating_Albin",
          "Rating_Albin",
          "Rating_Albin"
         ],
         "x0": " ",
         "xaxis": "x",
         "y": [
          8,
          6,
          4,
          7,
          4,
          8,
          6,
          7,
          5,
          9,
          7,
          9,
          6,
          5,
          9,
          9,
          10,
          7,
          9,
          10,
          3,
          8,
          9,
          10,
          1,
          7,
          4,
          6,
          7,
          2,
          10,
          7,
          10,
          10,
          10,
          8,
          8,
          6,
          10,
          6,
          5,
          1,
          9,
          9,
          10,
          4,
          10,
          6,
          8,
          9,
          4,
          8,
          8,
          10,
          9,
          2,
          4,
          6,
          9,
          9,
          6,
          7,
          9,
          8,
          9,
          6,
          7,
          8,
          9,
          8,
          7,
          8,
          8,
          7,
          8,
          8,
          9,
          4,
          5,
          7,
          7,
          6,
          6,
          7,
          5,
          1,
          1,
          6,
          7,
          7,
          6,
          9,
          8,
          5,
          6,
          7,
          9,
          3,
          3,
          8,
          8,
          4,
          4,
          6,
          7,
          3,
          4,
          6,
          5,
          3,
          1,
          7,
          9,
          1,
          5,
          9,
          9,
          3,
          4,
          8,
          9,
          1,
          1,
          9,
          10,
          1,
          2,
          5,
          6,
          2,
          2,
          5,
          7,
          1,
          2,
          8,
          10,
          6,
          6,
          9,
          9,
          7,
          6,
          7,
          10,
          6,
          5,
          5,
          9,
          7,
          8,
          6,
          5,
          8,
          8,
          8,
          10,
          7,
          7,
          9,
          10,
          5,
          6,
          8,
          7,
          8,
          8,
          8,
          10,
          7,
          8,
          9,
          10,
          7,
          6,
          7,
          8,
          7,
          8,
          10,
          10,
          8,
          1,
          7,
          2,
          1,
          1,
          6,
          6,
          1,
          1,
          7,
          4,
          1,
          1,
          8,
          9,
          6,
          6,
          8,
          9,
          7,
          7,
          8,
          6,
          6,
          1,
          7,
          1,
          3,
          3,
          4,
          1,
          1,
          1
         ],
         "y0": " ",
         "yaxis": "y"
        },
        {
         "alignmentgroup": "True",
         "hovertemplate": "Reviewer=%{x}<br>Rating=%{y}<extra></extra>",
         "legendgroup": "Rating_Grzegorz",
         "marker": {
          "color": "#19d3f3"
         },
         "name": "Rating_Grzegorz",
         "notched": false,
         "offsetgroup": "Rating_Grzegorz",
         "orientation": "v",
         "showlegend": true,
         "type": "box",
         "x": [
          "Rating_Grzegorz",
          "Rating_Grzegorz",
          "Rating_Grzegorz",
          "Rating_Grzegorz",
          "Rating_Grzegorz",
          "Rating_Grzegorz",
          "Rating_Grzegorz",
          "Rating_Grzegorz",
          "Rating_Grzegorz",
          "Rating_Grzegorz",
          "Rating_Grzegorz",
          "Rating_Grzegorz",
          "Rating_Grzegorz",
          "Rating_Grzegorz",
          "Rating_Grzegorz",
          "Rating_Grzegorz",
          "Rating_Grzegorz",
          "Rating_Grzegorz",
          "Rating_Grzegorz",
          "Rating_Grzegorz",
          "Rating_Grzegorz",
          "Rating_Grzegorz",
          "Rating_Grzegorz",
          "Rating_Grzegorz",
          "Rating_Grzegorz",
          "Rating_Grzegorz",
          "Rating_Grzegorz",
          "Rating_Grzegorz",
          "Rating_Grzegorz",
          "Rating_Grzegorz",
          "Rating_Grzegorz",
          "Rating_Grzegorz",
          "Rating_Grzegorz",
          "Rating_Grzegorz",
          "Rating_Grzegorz",
          "Rating_Grzegorz",
          "Rating_Grzegorz",
          "Rating_Grzegorz",
          "Rating_Grzegorz",
          "Rating_Grzegorz",
          "Rating_Grzegorz",
          "Rating_Grzegorz",
          "Rating_Grzegorz",
          "Rating_Grzegorz",
          "Rating_Grzegorz",
          "Rating_Grzegorz",
          "Rating_Grzegorz",
          "Rating_Grzegorz",
          "Rating_Grzegorz",
          "Rating_Grzegorz",
          "Rating_Grzegorz",
          "Rating_Grzegorz",
          "Rating_Grzegorz",
          "Rating_Grzegorz",
          "Rating_Grzegorz",
          "Rating_Grzegorz",
          "Rating_Grzegorz",
          "Rating_Grzegorz",
          "Rating_Grzegorz",
          "Rating_Grzegorz",
          "Rating_Grzegorz",
          "Rating_Grzegorz",
          "Rating_Grzegorz",
          "Rating_Grzegorz",
          "Rating_Grzegorz",
          "Rating_Grzegorz",
          "Rating_Grzegorz",
          "Rating_Grzegorz",
          "Rating_Grzegorz",
          "Rating_Grzegorz",
          "Rating_Grzegorz",
          "Rating_Grzegorz",
          "Rating_Grzegorz",
          "Rating_Grzegorz",
          "Rating_Grzegorz",
          "Rating_Grzegorz",
          "Rating_Grzegorz",
          "Rating_Grzegorz",
          "Rating_Grzegorz",
          "Rating_Grzegorz",
          "Rating_Grzegorz",
          "Rating_Grzegorz",
          "Rating_Grzegorz",
          "Rating_Grzegorz",
          "Rating_Grzegorz",
          "Rating_Grzegorz",
          "Rating_Grzegorz",
          "Rating_Grzegorz",
          "Rating_Grzegorz",
          "Rating_Grzegorz",
          "Rating_Grzegorz",
          "Rating_Grzegorz",
          "Rating_Grzegorz",
          "Rating_Grzegorz",
          "Rating_Grzegorz",
          "Rating_Grzegorz",
          "Rating_Grzegorz",
          "Rating_Grzegorz",
          "Rating_Grzegorz",
          "Rating_Grzegorz",
          "Rating_Grzegorz",
          "Rating_Grzegorz",
          "Rating_Grzegorz",
          "Rating_Grzegorz",
          "Rating_Grzegorz",
          "Rating_Grzegorz",
          "Rating_Grzegorz",
          "Rating_Grzegorz",
          "Rating_Grzegorz",
          "Rating_Grzegorz",
          "Rating_Grzegorz",
          "Rating_Grzegorz",
          "Rating_Grzegorz",
          "Rating_Grzegorz",
          "Rating_Grzegorz",
          "Rating_Grzegorz",
          "Rating_Grzegorz",
          "Rating_Grzegorz",
          "Rating_Grzegorz",
          "Rating_Grzegorz",
          "Rating_Grzegorz",
          "Rating_Grzegorz",
          "Rating_Grzegorz",
          "Rating_Grzegorz",
          "Rating_Grzegorz",
          "Rating_Grzegorz",
          "Rating_Grzegorz",
          "Rating_Grzegorz",
          "Rating_Grzegorz",
          "Rating_Grzegorz",
          "Rating_Grzegorz",
          "Rating_Grzegorz",
          "Rating_Grzegorz",
          "Rating_Grzegorz",
          "Rating_Grzegorz",
          "Rating_Grzegorz",
          "Rating_Grzegorz",
          "Rating_Grzegorz",
          "Rating_Grzegorz",
          "Rating_Grzegorz",
          "Rating_Grzegorz",
          "Rating_Grzegorz",
          "Rating_Grzegorz",
          "Rating_Grzegorz",
          "Rating_Grzegorz",
          "Rating_Grzegorz",
          "Rating_Grzegorz",
          "Rating_Grzegorz",
          "Rating_Grzegorz",
          "Rating_Grzegorz",
          "Rating_Grzegorz",
          "Rating_Grzegorz",
          "Rating_Grzegorz",
          "Rating_Grzegorz",
          "Rating_Grzegorz",
          "Rating_Grzegorz",
          "Rating_Grzegorz",
          "Rating_Grzegorz",
          "Rating_Grzegorz",
          "Rating_Grzegorz",
          "Rating_Grzegorz",
          "Rating_Grzegorz",
          "Rating_Grzegorz",
          "Rating_Grzegorz",
          "Rating_Grzegorz",
          "Rating_Grzegorz",
          "Rating_Grzegorz",
          "Rating_Grzegorz",
          "Rating_Grzegorz",
          "Rating_Grzegorz",
          "Rating_Grzegorz",
          "Rating_Grzegorz",
          "Rating_Grzegorz",
          "Rating_Grzegorz",
          "Rating_Grzegorz",
          "Rating_Grzegorz",
          "Rating_Grzegorz",
          "Rating_Grzegorz",
          "Rating_Grzegorz",
          "Rating_Grzegorz",
          "Rating_Grzegorz",
          "Rating_Grzegorz",
          "Rating_Grzegorz",
          "Rating_Grzegorz",
          "Rating_Grzegorz",
          "Rating_Grzegorz",
          "Rating_Grzegorz",
          "Rating_Grzegorz",
          "Rating_Grzegorz",
          "Rating_Grzegorz",
          "Rating_Grzegorz",
          "Rating_Grzegorz",
          "Rating_Grzegorz",
          "Rating_Grzegorz",
          "Rating_Grzegorz",
          "Rating_Grzegorz",
          "Rating_Grzegorz",
          "Rating_Grzegorz",
          "Rating_Grzegorz",
          "Rating_Grzegorz",
          "Rating_Grzegorz",
          "Rating_Grzegorz",
          "Rating_Grzegorz",
          "Rating_Grzegorz",
          "Rating_Grzegorz",
          "Rating_Grzegorz",
          "Rating_Grzegorz",
          "Rating_Grzegorz",
          "Rating_Grzegorz",
          "Rating_Grzegorz",
          "Rating_Grzegorz",
          "Rating_Grzegorz",
          "Rating_Grzegorz",
          "Rating_Grzegorz",
          "Rating_Grzegorz"
         ],
         "x0": " ",
         "xaxis": "x",
         "y": [
          7,
          6,
          10,
          8,
          5,
          8,
          7,
          6,
          3,
          9,
          2,
          7,
          8,
          4,
          9,
          10,
          9,
          6,
          8,
          9,
          1,
          7,
          10,
          10,
          1,
          1,
          2,
          6,
          5,
          1,
          10,
          5,
          10,
          10,
          10,
          9,
          9,
          7,
          10,
          6,
          4,
          2,
          9,
          9,
          10,
          7,
          10,
          10,
          10,
          10,
          3,
          6,
          7,
          10,
          9,
          1,
          3,
          1,
          8,
          8,
          4,
          6,
          9,
          8,
          9,
          4,
          8,
          9,
          9,
          5,
          6,
          10,
          10,
          6,
          6,
          7,
          6,
          5,
          6,
          8,
          7,
          7,
          7,
          7,
          6,
          4,
          6,
          4,
          9,
          8,
          8,
          9,
          10,
          9,
          8,
          7,
          7,
          7,
          7,
          10,
          8,
          9,
          4,
          5,
          8,
          10,
          9,
          8,
          7,
          3,
          3,
          7,
          8,
          1,
          4,
          9,
          6,
          10,
          10,
          9,
          10,
          10,
          3,
          8,
          10,
          1,
          2,
          5,
          4,
          3,
          3,
          4,
          2,
          1,
          9,
          9,
          9,
          7,
          7,
          9,
          9,
          8,
          8,
          9,
          9,
          7,
          6,
          7,
          10,
          8,
          7,
          8,
          8,
          7,
          8,
          7,
          10,
          9,
          8,
          10,
          10,
          6,
          7,
          7,
          8,
          9,
          9,
          9,
          10,
          8,
          9,
          9,
          9,
          8,
          7,
          9,
          9,
          8,
          9,
          8,
          10,
          8,
          1,
          7,
          5,
          1,
          1,
          5,
          4,
          1,
          1,
          7,
          3,
          1,
          2,
          7,
          7,
          7,
          8,
          8,
          8,
          6,
          8,
          8,
          6,
          8,
          2,
          7,
          1,
          2,
          3,
          6,
          3,
          1,
          2
         ],
         "y0": " ",
         "yaxis": "y"
        }
       ],
       "layout": {
        "boxmode": "overlay",
        "legend": {
         "title": {
          "text": "Reviewer"
         },
         "tracegroupgap": 0
        },
        "showlegend": false,
        "template": {
         "data": {
          "bar": [
           {
            "error_x": {
             "color": "#2a3f5f"
            },
            "error_y": {
             "color": "#2a3f5f"
            },
            "marker": {
             "line": {
              "color": "#E5ECF6",
              "width": 0.5
             },
             "pattern": {
              "fillmode": "overlay",
              "size": 10,
              "solidity": 0.2
             }
            },
            "type": "bar"
           }
          ],
          "barpolar": [
           {
            "marker": {
             "line": {
              "color": "#E5ECF6",
              "width": 0.5
             },
             "pattern": {
              "fillmode": "overlay",
              "size": 10,
              "solidity": 0.2
             }
            },
            "type": "barpolar"
           }
          ],
          "carpet": [
           {
            "aaxis": {
             "endlinecolor": "#2a3f5f",
             "gridcolor": "white",
             "linecolor": "white",
             "minorgridcolor": "white",
             "startlinecolor": "#2a3f5f"
            },
            "baxis": {
             "endlinecolor": "#2a3f5f",
             "gridcolor": "white",
             "linecolor": "white",
             "minorgridcolor": "white",
             "startlinecolor": "#2a3f5f"
            },
            "type": "carpet"
           }
          ],
          "choropleth": [
           {
            "colorbar": {
             "outlinewidth": 0,
             "ticks": ""
            },
            "type": "choropleth"
           }
          ],
          "contour": [
           {
            "colorbar": {
             "outlinewidth": 0,
             "ticks": ""
            },
            "colorscale": [
             [
              0,
              "#0d0887"
             ],
             [
              0.1111111111111111,
              "#46039f"
             ],
             [
              0.2222222222222222,
              "#7201a8"
             ],
             [
              0.3333333333333333,
              "#9c179e"
             ],
             [
              0.4444444444444444,
              "#bd3786"
             ],
             [
              0.5555555555555556,
              "#d8576b"
             ],
             [
              0.6666666666666666,
              "#ed7953"
             ],
             [
              0.7777777777777778,
              "#fb9f3a"
             ],
             [
              0.8888888888888888,
              "#fdca26"
             ],
             [
              1,
              "#f0f921"
             ]
            ],
            "type": "contour"
           }
          ],
          "contourcarpet": [
           {
            "colorbar": {
             "outlinewidth": 0,
             "ticks": ""
            },
            "type": "contourcarpet"
           }
          ],
          "heatmap": [
           {
            "colorbar": {
             "outlinewidth": 0,
             "ticks": ""
            },
            "colorscale": [
             [
              0,
              "#0d0887"
             ],
             [
              0.1111111111111111,
              "#46039f"
             ],
             [
              0.2222222222222222,
              "#7201a8"
             ],
             [
              0.3333333333333333,
              "#9c179e"
             ],
             [
              0.4444444444444444,
              "#bd3786"
             ],
             [
              0.5555555555555556,
              "#d8576b"
             ],
             [
              0.6666666666666666,
              "#ed7953"
             ],
             [
              0.7777777777777778,
              "#fb9f3a"
             ],
             [
              0.8888888888888888,
              "#fdca26"
             ],
             [
              1,
              "#f0f921"
             ]
            ],
            "type": "heatmap"
           }
          ],
          "heatmapgl": [
           {
            "colorbar": {
             "outlinewidth": 0,
             "ticks": ""
            },
            "colorscale": [
             [
              0,
              "#0d0887"
             ],
             [
              0.1111111111111111,
              "#46039f"
             ],
             [
              0.2222222222222222,
              "#7201a8"
             ],
             [
              0.3333333333333333,
              "#9c179e"
             ],
             [
              0.4444444444444444,
              "#bd3786"
             ],
             [
              0.5555555555555556,
              "#d8576b"
             ],
             [
              0.6666666666666666,
              "#ed7953"
             ],
             [
              0.7777777777777778,
              "#fb9f3a"
             ],
             [
              0.8888888888888888,
              "#fdca26"
             ],
             [
              1,
              "#f0f921"
             ]
            ],
            "type": "heatmapgl"
           }
          ],
          "histogram": [
           {
            "marker": {
             "pattern": {
              "fillmode": "overlay",
              "size": 10,
              "solidity": 0.2
             }
            },
            "type": "histogram"
           }
          ],
          "histogram2d": [
           {
            "colorbar": {
             "outlinewidth": 0,
             "ticks": ""
            },
            "colorscale": [
             [
              0,
              "#0d0887"
             ],
             [
              0.1111111111111111,
              "#46039f"
             ],
             [
              0.2222222222222222,
              "#7201a8"
             ],
             [
              0.3333333333333333,
              "#9c179e"
             ],
             [
              0.4444444444444444,
              "#bd3786"
             ],
             [
              0.5555555555555556,
              "#d8576b"
             ],
             [
              0.6666666666666666,
              "#ed7953"
             ],
             [
              0.7777777777777778,
              "#fb9f3a"
             ],
             [
              0.8888888888888888,
              "#fdca26"
             ],
             [
              1,
              "#f0f921"
             ]
            ],
            "type": "histogram2d"
           }
          ],
          "histogram2dcontour": [
           {
            "colorbar": {
             "outlinewidth": 0,
             "ticks": ""
            },
            "colorscale": [
             [
              0,
              "#0d0887"
             ],
             [
              0.1111111111111111,
              "#46039f"
             ],
             [
              0.2222222222222222,
              "#7201a8"
             ],
             [
              0.3333333333333333,
              "#9c179e"
             ],
             [
              0.4444444444444444,
              "#bd3786"
             ],
             [
              0.5555555555555556,
              "#d8576b"
             ],
             [
              0.6666666666666666,
              "#ed7953"
             ],
             [
              0.7777777777777778,
              "#fb9f3a"
             ],
             [
              0.8888888888888888,
              "#fdca26"
             ],
             [
              1,
              "#f0f921"
             ]
            ],
            "type": "histogram2dcontour"
           }
          ],
          "mesh3d": [
           {
            "colorbar": {
             "outlinewidth": 0,
             "ticks": ""
            },
            "type": "mesh3d"
           }
          ],
          "parcoords": [
           {
            "line": {
             "colorbar": {
              "outlinewidth": 0,
              "ticks": ""
             }
            },
            "type": "parcoords"
           }
          ],
          "pie": [
           {
            "automargin": true,
            "type": "pie"
           }
          ],
          "scatter": [
           {
            "fillpattern": {
             "fillmode": "overlay",
             "size": 10,
             "solidity": 0.2
            },
            "type": "scatter"
           }
          ],
          "scatter3d": [
           {
            "line": {
             "colorbar": {
              "outlinewidth": 0,
              "ticks": ""
             }
            },
            "marker": {
             "colorbar": {
              "outlinewidth": 0,
              "ticks": ""
             }
            },
            "type": "scatter3d"
           }
          ],
          "scattercarpet": [
           {
            "marker": {
             "colorbar": {
              "outlinewidth": 0,
              "ticks": ""
             }
            },
            "type": "scattercarpet"
           }
          ],
          "scattergeo": [
           {
            "marker": {
             "colorbar": {
              "outlinewidth": 0,
              "ticks": ""
             }
            },
            "type": "scattergeo"
           }
          ],
          "scattergl": [
           {
            "marker": {
             "colorbar": {
              "outlinewidth": 0,
              "ticks": ""
             }
            },
            "type": "scattergl"
           }
          ],
          "scattermapbox": [
           {
            "marker": {
             "colorbar": {
              "outlinewidth": 0,
              "ticks": ""
             }
            },
            "type": "scattermapbox"
           }
          ],
          "scatterpolar": [
           {
            "marker": {
             "colorbar": {
              "outlinewidth": 0,
              "ticks": ""
             }
            },
            "type": "scatterpolar"
           }
          ],
          "scatterpolargl": [
           {
            "marker": {
             "colorbar": {
              "outlinewidth": 0,
              "ticks": ""
             }
            },
            "type": "scatterpolargl"
           }
          ],
          "scatterternary": [
           {
            "marker": {
             "colorbar": {
              "outlinewidth": 0,
              "ticks": ""
             }
            },
            "type": "scatterternary"
           }
          ],
          "surface": [
           {
            "colorbar": {
             "outlinewidth": 0,
             "ticks": ""
            },
            "colorscale": [
             [
              0,
              "#0d0887"
             ],
             [
              0.1111111111111111,
              "#46039f"
             ],
             [
              0.2222222222222222,
              "#7201a8"
             ],
             [
              0.3333333333333333,
              "#9c179e"
             ],
             [
              0.4444444444444444,
              "#bd3786"
             ],
             [
              0.5555555555555556,
              "#d8576b"
             ],
             [
              0.6666666666666666,
              "#ed7953"
             ],
             [
              0.7777777777777778,
              "#fb9f3a"
             ],
             [
              0.8888888888888888,
              "#fdca26"
             ],
             [
              1,
              "#f0f921"
             ]
            ],
            "type": "surface"
           }
          ],
          "table": [
           {
            "cells": {
             "fill": {
              "color": "#EBF0F8"
             },
             "line": {
              "color": "white"
             }
            },
            "header": {
             "fill": {
              "color": "#C8D4E3"
             },
             "line": {
              "color": "white"
             }
            },
            "type": "table"
           }
          ]
         },
         "layout": {
          "annotationdefaults": {
           "arrowcolor": "#2a3f5f",
           "arrowhead": 0,
           "arrowwidth": 1
          },
          "autotypenumbers": "strict",
          "coloraxis": {
           "colorbar": {
            "outlinewidth": 0,
            "ticks": ""
           }
          },
          "colorscale": {
           "diverging": [
            [
             0,
             "#8e0152"
            ],
            [
             0.1,
             "#c51b7d"
            ],
            [
             0.2,
             "#de77ae"
            ],
            [
             0.3,
             "#f1b6da"
            ],
            [
             0.4,
             "#fde0ef"
            ],
            [
             0.5,
             "#f7f7f7"
            ],
            [
             0.6,
             "#e6f5d0"
            ],
            [
             0.7,
             "#b8e186"
            ],
            [
             0.8,
             "#7fbc41"
            ],
            [
             0.9,
             "#4d9221"
            ],
            [
             1,
             "#276419"
            ]
           ],
           "sequential": [
            [
             0,
             "#0d0887"
            ],
            [
             0.1111111111111111,
             "#46039f"
            ],
            [
             0.2222222222222222,
             "#7201a8"
            ],
            [
             0.3333333333333333,
             "#9c179e"
            ],
            [
             0.4444444444444444,
             "#bd3786"
            ],
            [
             0.5555555555555556,
             "#d8576b"
            ],
            [
             0.6666666666666666,
             "#ed7953"
            ],
            [
             0.7777777777777778,
             "#fb9f3a"
            ],
            [
             0.8888888888888888,
             "#fdca26"
            ],
            [
             1,
             "#f0f921"
            ]
           ],
           "sequentialminus": [
            [
             0,
             "#0d0887"
            ],
            [
             0.1111111111111111,
             "#46039f"
            ],
            [
             0.2222222222222222,
             "#7201a8"
            ],
            [
             0.3333333333333333,
             "#9c179e"
            ],
            [
             0.4444444444444444,
             "#bd3786"
            ],
            [
             0.5555555555555556,
             "#d8576b"
            ],
            [
             0.6666666666666666,
             "#ed7953"
            ],
            [
             0.7777777777777778,
             "#fb9f3a"
            ],
            [
             0.8888888888888888,
             "#fdca26"
            ],
            [
             1,
             "#f0f921"
            ]
           ]
          },
          "colorway": [
           "#636efa",
           "#EF553B",
           "#00cc96",
           "#ab63fa",
           "#FFA15A",
           "#19d3f3",
           "#FF6692",
           "#B6E880",
           "#FF97FF",
           "#FECB52"
          ],
          "font": {
           "color": "#2a3f5f"
          },
          "geo": {
           "bgcolor": "white",
           "lakecolor": "white",
           "landcolor": "#E5ECF6",
           "showlakes": true,
           "showland": true,
           "subunitcolor": "white"
          },
          "hoverlabel": {
           "align": "left"
          },
          "hovermode": "closest",
          "mapbox": {
           "style": "light"
          },
          "paper_bgcolor": "white",
          "plot_bgcolor": "#E5ECF6",
          "polar": {
           "angularaxis": {
            "gridcolor": "white",
            "linecolor": "white",
            "ticks": ""
           },
           "bgcolor": "#E5ECF6",
           "radialaxis": {
            "gridcolor": "white",
            "linecolor": "white",
            "ticks": ""
           }
          },
          "scene": {
           "xaxis": {
            "backgroundcolor": "#E5ECF6",
            "gridcolor": "white",
            "gridwidth": 2,
            "linecolor": "white",
            "showbackground": true,
            "ticks": "",
            "zerolinecolor": "white"
           },
           "yaxis": {
            "backgroundcolor": "#E5ECF6",
            "gridcolor": "white",
            "gridwidth": 2,
            "linecolor": "white",
            "showbackground": true,
            "ticks": "",
            "zerolinecolor": "white"
           },
           "zaxis": {
            "backgroundcolor": "#E5ECF6",
            "gridcolor": "white",
            "gridwidth": 2,
            "linecolor": "white",
            "showbackground": true,
            "ticks": "",
            "zerolinecolor": "white"
           }
          },
          "shapedefaults": {
           "line": {
            "color": "#2a3f5f"
           }
          },
          "ternary": {
           "aaxis": {
            "gridcolor": "white",
            "linecolor": "white",
            "ticks": ""
           },
           "baxis": {
            "gridcolor": "white",
            "linecolor": "white",
            "ticks": ""
           },
           "bgcolor": "#E5ECF6",
           "caxis": {
            "gridcolor": "white",
            "linecolor": "white",
            "ticks": ""
           }
          },
          "title": {
           "x": 0.05
          },
          "xaxis": {
           "automargin": true,
           "gridcolor": "white",
           "linecolor": "white",
           "ticks": "",
           "title": {
            "standoff": 15
           },
           "zerolinecolor": "white",
           "zerolinewidth": 2
          },
          "yaxis": {
           "automargin": true,
           "gridcolor": "white",
           "linecolor": "white",
           "ticks": "",
           "title": {
            "standoff": 15
           },
           "zerolinecolor": "white",
           "zerolinewidth": 2
          }
         }
        },
        "title": {
         "text": "Distribution of Ratings by Reviewer"
        },
        "xaxis": {
         "anchor": "y",
         "categoryarray": [
          "Rating_Christine",
          "Rating_Ansam",
          "Rating_Adrian",
          "Rating_Mike",
          "Rating_Albin",
          "Rating_Grzegorz"
         ],
         "categoryorder": "array",
         "domain": [
          0,
          1
         ],
         "title": {
          "text": "Reviewer"
         }
        },
        "yaxis": {
         "anchor": "x",
         "domain": [
          0,
          1
         ],
         "title": {
          "text": "Rating"
         }
        }
       }
      }
     },
     "metadata": {},
     "output_type": "display_data"
    }
   ],
   "source": [
    "fig = px.box(ratings_data, x='Reviewer', y='Rating', color='Reviewer', \n",
    "             title='Distribution of Ratings by Reviewer')\n",
    "\n",
    "fig.update_layout(showlegend=False)\n",
    "fig.show()"
   ]
  },
  {
   "cell_type": "markdown",
   "metadata": {},
   "source": [
    "# Sentiment Analysis"
   ]
  },
  {
   "cell_type": "code",
   "execution_count": null,
   "metadata": {},
   "outputs": [],
   "source": [
    "def Subjectivity(text):\n",
    "    return TextBlob(text).sentiment.subjectivity\n",
    "\n",
    "def Polarity(text):\n",
    "    return TextBlob(text).sentiment.polarity\n",
    "\n",
    "def Sentiment(score):\n",
    "    if score < 0:\n",
    "        return 'Negative'\n",
    "    elif score == 0:\n",
    "        return 'Neutral'\n",
    "    else:\n",
    "        return 'Positive'"
   ]
  },
  {
   "cell_type": "code",
   "execution_count": null,
   "metadata": {},
   "outputs": [],
   "source": [
    "for colname in ['Comments_Christine', 'Comment_Ansam', 'Comment_Adrian', 'Comment_Mike', 'Comment_Albin', 'Comment_Grzegorz']:\n",
    "    data[f'Subjectivity_{colname}'] = data[colname].apply(Subjectivity)\n",
    "    data[f'Polarity_{colname}'] = data[colname].apply(Polarity)\n",
    "    data[f'Sentiment_{colname}'] = data[f'Polarity_{colname}'].apply(Sentiment)"
   ]
  },
  {
   "cell_type": "code",
   "execution_count": null,
   "metadata": {},
   "outputs": [
    {
     "data": {
      "text/plain": [
       "Sentiment_Comment_Grzegorz\n",
       "Neutral     110\n",
       "Positive     85\n",
       "Negative     20\n",
       "Name: count, dtype: int64"
      ]
     },
     "execution_count": 16,
     "metadata": {},
     "output_type": "execute_result"
    }
   ],
   "source": [
    "data.Sentiment_Comment_Grzegorz.value_counts()"
   ]
  },
  {
   "cell_type": "code",
   "execution_count": null,
   "metadata": {},
   "outputs": [
    {
     "data": {
      "text/plain": [
       "(-0.5, 999.5, 599.5, -0.5)"
      ]
     },
     "execution_count": 17,
     "metadata": {},
     "output_type": "execute_result"
    },
    {
     "data": {
      "image/png": "[encoded data removed]",
      "text/plain": [
       "<Figure size 2000x1000 with 1 Axes>"
      ]
     },
     "metadata": {},
     "output_type": "display_data"
    }
   ],
   "source": [
    "viz_data = data.copy(deep=True)\n",
    "\n",
    "viz_data['all_comments'] = viz_data[['Comments_Christine', 'Comment_Ansam', 'Comment_Adrian', 'Comment_Mike', 'Comment_Albin', 'Comment_Grzegorz']].agg(' '.join, axis=1)\n",
    "\n",
    "# removing stop words for visualizations only because it reduced the polarity for some text\n",
    "viz_data['all_comments'] = viz_data['all_comments'].apply(remove_stopwords)\n",
    "\n",
    "# To join all\n",
    "text = ''.join([post for post in viz_data['all_comments']])\n",
    "\n",
    "for word_remove in ['No comment', 'comment', 'commentcomment']:\n",
    "    text = text.replace(word_remove, '')\n",
    "\n",
    "# generate word cloud \n",
    "stopwords = STOPWORDS\n",
    "wordcloud = WordCloud(width=1000, height = 600, \n",
    "                      max_words = 100,\n",
    "                      stopwords = stopwords,\n",
    "                      background_color='black').generate(text)\n",
    "\n",
    "# Display the generated image:\n",
    "plt.figure( figsize=(20,10), facecolor='k')\n",
    "plt.imshow(wordcloud, interpolation='bilinear')\n",
    "plt.axis('off')"
   ]
  }
 ],
 "metadata": {
  "kernelspec": {
   "display_name": "gen_ai",
   "language": "python",
   "name": "python3"
  },
  "language_info": {
   "codemirror_mode": {
    "name": "ipython",
    "version": 3
   },
   "file_extension": ".py",
   "mimetype": "text/x-python",
   "name": "python",
   "nbconvert_exporter": "python",
   "pygments_lexer": "ipython3",
   "version": "3.12.1"
  }
 },
 "nbformat": 4,
 "nbformat_minor": 2
}
