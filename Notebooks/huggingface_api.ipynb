{
 "cells": [
  {
   "cell_type": "markdown",
   "metadata": {},
   "source": [
    "Steps to get HuggingFace Access Token\n",
    "\n",
    "- HuggingFace.co\n",
    "- Click on your profile icon at the top-right corner -> Settings\n",
    "- In the sidebar -> Access Token\n",
    "- Generate a new access token -> new token -> Role:write"
   ]
  },
  {
   "cell_type": "code",
   "execution_count": 8,
   "metadata": {},
   "outputs": [],
   "source": [
    "# import os\n",
    "# os.getcwd()"
   ]
  },
  {
   "cell_type": "code",
   "execution_count": 1,
   "metadata": {},
   "outputs": [],
   "source": [
    "from langchain.llms import HuggingFaceHub\n",
    "import os\n",
    "from getpass import getpass\n",
    "\n",
    "os.environ[\"HUGGINGFACEHUB_API_TOKEN\"] = getpass(\"HuggingFace Token:\")"
   ]
  },
  {
   "cell_type": "code",
   "execution_count": 10,
   "metadata": {},
   "outputs": [
    {
     "name": "stdout",
     "output_type": "stream",
     "text": [
      "\n",
      " <|system|>\n",
      "You are an AI assistant that follows instruction extremely well.\n",
      "Please be truthful and give direct answers\n",
      "</s>\n",
      " <|user|>\n",
      " What is capital of India and UAE?\n",
      " </s>\n",
      " <|assistant|>\n",
      "The capital of India is New Delhi (officially known as Delhi) and the capital of the United Arab Emirates (UAE) is Abu Dhabi.\n"
     ]
    }
   ],
   "source": [
    "llm = HuggingFaceHub(\n",
    "    repo_id=\"huggingfaceh4/zephyr-7b-alpha\", \n",
    "    model_kwargs={\"temperature\": 0.5, \"max_length\": 64,\"max_new_tokens\":512}\n",
    ")\n",
    "\n",
    "query = \"What is capital of India and UAE?\"\n",
    "\n",
    "prompt = f\"\"\"\n",
    " <|system|>\n",
    "You are an AI assistant that follows instruction extremely well.\n",
    "Please be truthful and give direct answers\n",
    "</s>\n",
    " <|user|>\n",
    " {query}\n",
    " </s>\n",
    " <|assistant|>\n",
    "\"\"\"\n",
    "\n",
    "response = llm.predict(prompt)\n",
    "print(response)"
   ]
  }
 ],
 "metadata": {
  "kernelspec": {
   "display_name": "gen_ai",
   "language": "python",
   "name": "python3"
  },
  "language_info": {
   "codemirror_mode": {
    "name": "ipython",
    "version": 3
   },
   "file_extension": ".py",
   "mimetype": "text/x-python",
   "name": "python",
   "nbconvert_exporter": "python",
   "pygments_lexer": "ipython3",
   "version": "3.12.1"
  }
 },
 "nbformat": 4,
 "nbformat_minor": 2
}
